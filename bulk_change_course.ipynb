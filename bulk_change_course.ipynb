{
  "nbformat": 4,
  "nbformat_minor": 0,
  "metadata": {
    "colab": {
      "provenance": [],
      "authorship_tag": "ABX9TyN2CLbo3xI8381FYJV2T+SN",
      "include_colab_link": true
    },
    "kernelspec": {
      "name": "python3",
      "display_name": "Python 3"
    },
    "language_info": {
      "name": "python"
    }
  },
  "cells": [
    {
      "cell_type": "markdown",
      "metadata": {
        "id": "view-in-github",
        "colab_type": "text"
      },
      "source": [
        "<a href=\"https://colab.research.google.com/github/jamiepratt/lingq/blob/main/bulk_change_course.ipynb\" target=\"_parent\"><img src=\"https://colab.research.google.com/assets/colab-badge.svg\" alt=\"Open In Colab\"/></a>"
      ]
    },
    {
      "cell_type": "code",
      "execution_count": 23,
      "metadata": {
        "id": "Y-SF1YpEYBSE"
      },
      "outputs": [],
      "source": [
        "#Using Google colab secrets to store keys.\n",
        "from google.colab import userdata\n",
        "import requests\n",
        "\n",
        "#API URL\n",
        "BASE_URL = \"https://www.lingq.com/api/v3\"\n",
        "\n",
        "#LANGUAGE\n",
        "LANGUAGE = \"pl\"\n",
        "\n",
        "lingq_api_key=userdata.get('LINGQ_API_KEY');\n",
        "headers = {\n",
        "    'Authorization': f'Token {lingq_api_key}',\n",
        "    'Content-Type': 'application/json'\n",
        "}\n",
        "\n",
        "\n",
        "def get_lesson_ids(course_id):\n",
        "    response = requests.get(f\"{BASE_URL}/{LANGUAGE}/collections/{course_id}/lessons/\", headers=headers)\n",
        "    if response.status_code == 200:\n",
        "        lesson_ids = [result['id'] for result in response.json()['results']]\n",
        "        return lesson_ids\n",
        "    else:\n",
        "        print(f\"Failed to get lesson IDs for course {course_id}. Status code: {response.status_code}\")\n",
        "        return []\n",
        "\n",
        "def patch_lesson_to_new_course(lesson_id, new_course_id):\n",
        "    \"\"\"\n",
        "    Patch a lesson to a new course ID.\n",
        "    \"\"\"\n",
        "    LESSON_URL = f\"{BASE_URL}/{LANGUAGE}/lessons/{lesson_id}/\"\n",
        "    payload = {\n",
        "        \"collection\": new_course_id,\n",
        "        \"language\": LANGUAGE\n",
        "    }\n",
        "\n",
        "    response = requests.patch(LESSON_URL, json=payload, headers=headers)\n",
        "\n",
        "    if response.status_code == 200:\n",
        "        print(f\"Successfully patched lesson {lesson_id} to course {new_course_id}.\")\n",
        "    else:\n",
        "        print(f\"Failed to patch lesson {lesson_id}. Status code: {response.status_code}\")\n",
        "\n",
        "def update_lessons_to_new_course(initial_course_id, new_course_id):\n",
        "    \"\"\"\n",
        "    Update lessons from the initial course ID to a new course ID.\n",
        "    \"\"\"\n",
        "    # Fetch lesson IDs for the initial course.\n",
        "    lesson_ids = get_lesson_ids(initial_course_id)\n",
        "    if not lesson_ids:\n",
        "        print(\"No lessons found for the given initial course ID.\")\n",
        "        return\n",
        "\n",
        "    # Patch each lesson to the new course ID.\n",
        "    for lesson_id in lesson_ids:\n",
        "        patch_lesson_to_new_course(lesson_id, new_course_id)\n",
        "\n",
        "\n"
      ]
    },
    {
      "cell_type": "code",
      "source": [
        "initial_course_id = 1546584   # @param {type: \"number\"}\n",
        "\n",
        "new_course_id = 1440209 # @param {type: \"number\"}\n",
        "update_lessons_to_new_course(initial_course_id, new_course_id)"
      ],
      "metadata": {
        "colab": {
          "base_uri": "https://localhost:8080/"
        },
        "id": "tGwbZ9jPYaJO",
        "outputId": "0727a334-b7fe-4bf7-89e5-cd9802bfa925"
      },
      "execution_count": 26,
      "outputs": [
        {
          "output_type": "stream",
          "name": "stdout",
          "text": [
            "Failed to get lesson IDs for course 1546584. Status code: 404\n",
            "No lessons found for the given initial course ID.\n"
          ]
        }
      ]
    }
  ]
}