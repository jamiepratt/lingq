{
  "nbformat": 4,
  "nbformat_minor": 0,
  "metadata": {
    "colab": {
      "provenance": [],
      "authorship_tag": "ABX9TyO96bRiMNmdYhN5LytaE3UA"
    },
    "kernelspec": {
      "name": "python3",
      "display_name": "Python 3"
    },
    "language_info": {
      "name": "python"
    }
  },
  "cells": [
    {
      "cell_type": "markdown",
      "source": [
        "# Initial set up\n"
      ],
      "metadata": {
        "id": "sc80NbX_F6a_"
      }
    },
    {
      "cell_type": "code",
      "execution_count": null,
      "metadata": {
        "id": "qUohFGhNpQfu"
      },
      "outputs": [],
      "source": [
        "#Using Google colab secrets to store keys.\n",
        "from google.colab import userdata\n",
        "\n",
        "import urllib.parse\n",
        "\n",
        "import requests\n",
        "\n",
        "import json\n",
        "\n",
        "lingq_api_key=userdata.get('LINGQ_API_KEY');\n",
        "headers = {\n",
        "    'Authorization': f'Token {lingq_api_key}',\n",
        "    'Content-Type': 'application/json'\n",
        "}\n"
      ]
    },
    {
      "cell_type": "markdown",
      "source": [
        "# Helper Functions"
      ],
      "metadata": {
        "id": "CcAAiJpNGa7-"
      }
    },
    {
      "cell_type": "code",
      "source": [
        "a = []\n",
        "a.append((\"one\",\"two\"))\n",
        "a"
      ],
      "metadata": {
        "id": "6eQZYWzwRurI"
      },
      "execution_count": null,
      "outputs": []
    },
    {
      "cell_type": "code",
      "source": [
        "def get_json_response (url):\n",
        "  response = requests.get(url, headers=headers)\n",
        "  return response.json()\n",
        "\n",
        "def print_json (json_parsed):\n",
        "  print (json.dumps(json_parsed, indent = 4))\n",
        "\n"
      ],
      "metadata": {
        "id": "c3-1oloMGaNn"
      },
      "execution_count": null,
      "outputs": []
    },
    {
      "cell_type": "markdown",
      "source": [
        "# Languages\n"
      ],
      "metadata": {
        "id": "USMKDNpjGOBi"
      }
    },
    {
      "cell_type": "code",
      "source": [
        "languages = get_json_response('https://www.lingq.com/api/v2/languages/')\n",
        "languages_with_known_words = [(f'{item[\"title\"]} ({item[\"knownWords\"]})', item[\"code\"]) for item in languages if item[\"knownWords\"] != 0]\n",
        "print_json(languages_with_known_words)\n",
        "\n"
      ],
      "metadata": {
        "id": "23qoJKJ0GP-d"
      },
      "execution_count": null,
      "outputs": []
    },
    {
      "cell_type": "markdown",
      "source": [
        "# Select Language"
      ],
      "metadata": {
        "id": "TOi9C2CdVHEJ"
      }
    },
    {
      "cell_type": "code",
      "source": [
        "import ipywidgets as widgets\n",
        "from IPython.display import display\n",
        "lang_selector = widgets.Dropdown(\n",
        "    options=languages_with_known_words,\n",
        "    value=languages_with_known_words[0][1],\n",
        "    description='Language:',\n",
        ")\n",
        "display(lang_selector)"
      ],
      "metadata": {
        "id": "n6gFusHhPz05"
      },
      "execution_count": null,
      "outputs": []
    },
    {
      "cell_type": "code",
      "source": [
        "language_code = lang_selector.value\n",
        "language_code"
      ],
      "metadata": {
        "id": "RUWhBobiU6ZN"
      },
      "execution_count": null,
      "outputs": []
    },
    {
      "cell_type": "markdown",
      "source": [
        "# Courses for Language"
      ],
      "metadata": {
        "id": "DEQnUY78FSBR"
      }
    },
    {
      "cell_type": "code",
      "source": [
        "\n",
        "courses_in_language = get_json_response (f'https://www.lingq.com/api/v2/{language_code}/collections/my/')\n",
        "\n",
        "course_selector = widgets.Dropdown(\n",
        "    options= [(item[\"title\"], item[\"id\"]) for item in courses_in_language[\"results\"]],\n",
        "    value = courses_in_language[\"results\"][0][\"id\"],\n",
        "    description = \"Course:\")\n",
        "display(course_selector)\n",
        "\n"
      ],
      "metadata": {
        "id": "aQNQSHzYFPvC"
      },
      "execution_count": null,
      "outputs": []
    },
    {
      "cell_type": "code",
      "source": [
        "course_id = course_selector.value\n",
        "course_id\n"
      ],
      "metadata": {
        "id": "TX8cjWglbQpU"
      },
      "execution_count": null,
      "outputs": []
    },
    {
      "cell_type": "markdown",
      "source": [
        "# Lessons from Course"
      ],
      "metadata": {
        "id": "D5grtao-EjVx"
      }
    },
    {
      "cell_type": "code",
      "source": [
        "lessons_in_course = get_json_response(f'https://www.lingq.com/api/v2/{language_code}/collections/{course_id}')\n",
        "lesson_selector = widgets.Dropdown(\n",
        "    options= [(item[\"title\"], item[\"url\"]) for item in lessons_in_course[\"lessons\"]],\n",
        "    value = lessons_in_course[\"lessons\"][0][\"url\"],\n",
        "    description = \"Lesson:\")\n",
        "display(lesson_selector)\n"
      ],
      "metadata": {
        "id": "zcnW86PUCBcR"
      },
      "execution_count": null,
      "outputs": []
    },
    {
      "cell_type": "code",
      "source": [
        "lesson_url = lesson_selector.value"
      ],
      "metadata": {
        "id": "0L1w6BNefX5g"
      },
      "execution_count": null,
      "outputs": []
    },
    {
      "cell_type": "markdown",
      "source": [
        "# Lesson"
      ],
      "metadata": {
        "id": "_yUkBukyDpy2"
      }
    },
    {
      "cell_type": "code",
      "source": [
        "\n",
        "lesson = get_json_response(lesson_url)\n",
        "#print_json(lesson[\"tokenizedText\"])\n",
        "print_json([sentence[0][\"text\"] for sentence in lesson[\"tokenizedText\"] if not (\"opentag\" in sentence[0][\"tokens\"][0])])\n"
      ],
      "metadata": {
        "id": "bb3e8l_kCoC2"
      },
      "execution_count": null,
      "outputs": []
    }
  ]
}