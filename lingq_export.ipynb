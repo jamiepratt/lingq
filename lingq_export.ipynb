{
  "nbformat": 4,
  "nbformat_minor": 0,
  "metadata": {
    "colab": {
      "provenance": [],
      "authorship_tag": "ABX9TyOehvWiA6g4X8E0iWeOiNLc"
    },
    "kernelspec": {
      "name": "python3",
      "display_name": "Python 3"
    },
    "language_info": {
      "name": "python"
    }
  },
  "cells": [
    {
      "cell_type": "markdown",
      "source": [
        "# Initial set up\n"
      ],
      "metadata": {
        "id": "sc80NbX_F6a_"
      }
    },
    {
      "cell_type": "code",
      "execution_count": 14,
      "metadata": {
        "id": "qUohFGhNpQfu"
      },
      "outputs": [],
      "source": [
        "#Using Google colab secrets to store keys.\n",
        "from google.colab import userdata\n",
        "\n",
        "import urllib.parse\n",
        "\n",
        "import requests\n",
        "\n",
        "import json\n",
        "\n",
        "lingq_api_key=userdata.get('LINGQ_API_KEY');\n",
        "headers = {\n",
        "    'Authorization': f'Token {lingq_api_key}',\n",
        "    'Content-Type': 'application/json'\n",
        "}\n"
      ]
    },
    {
      "cell_type": "markdown",
      "source": [
        "# Helper Functions"
      ],
      "metadata": {
        "id": "CcAAiJpNGa7-"
      }
    },
    {
      "cell_type": "code",
      "source": [
        "def get_json_response (url):\n",
        "  response = requests.get(url, headers=headers)\n",
        "  return response.json()\n",
        "\n",
        "def print_json (json_parsed):\n",
        "  print (json.dumps(json_parsed, indent = 4))\n",
        "\n"
      ],
      "metadata": {
        "id": "c3-1oloMGaNn"
      },
      "execution_count": 15,
      "outputs": []
    },
    {
      "cell_type": "markdown",
      "source": [
        "# Languages\n"
      ],
      "metadata": {
        "id": "USMKDNpjGOBi"
      }
    },
    {
      "cell_type": "code",
      "source": [
        "languages = get_json_response('https://www.lingq.com/api/v2/languages/')\n",
        "languages_with_known_words = [item[\"code\"] for item in languages if item[\"knownWords\"] != 0]\n",
        "print_json(languages_with_known_words)\n",
        "\n"
      ],
      "metadata": {
        "colab": {
          "base_uri": "https://localhost:8080/"
        },
        "id": "23qoJKJ0GP-d",
        "outputId": "560730ed-8970-4c8d-a31f-3882b8d7bfaa"
      },
      "execution_count": 16,
      "outputs": [
        {
          "output_type": "stream",
          "name": "stdout",
          "text": [
            "[\n",
            "    \"pl\",\n",
            "    \"en\"\n",
            "]\n"
          ]
        }
      ]
    },
    {
      "cell_type": "markdown",
      "source": [
        "# Courses for Language"
      ],
      "metadata": {
        "id": "DEQnUY78FSBR"
      }
    },
    {
      "cell_type": "code",
      "source": [
        "# Import necessary libraries\n",
        "from pydrive.auth import GoogleAuth\n",
        "from pydrive.drive import GoogleDrive\n",
        "from google.colab import auth\n",
        "from oauth2client.client import GoogleCredentials\n",
        "import os\n",
        "\n",
        "# Authenticate and create the PyDrive client\n",
        "auth.authenticate_user()\n",
        "gauth = GoogleAuth()\n",
        "gauth.credentials = GoogleCredentials.get_application_default()\n",
        "drive = GoogleDrive(gauth)\n",
        "\n",
        "# Define the base folder in Google Drive where you want to save the files\n",
        "base_folder_name = 'LingQ_Data'\n",
        "\n",
        "# Create or find the base folder\n",
        "base_folder = None\n",
        "folder_list = drive.ListFile({'q': \"title='\" + base_folder_name + \"' and mimeType='application/vnd.google-apps.folder' and trashed=false\"}).GetList()\n",
        "if len(folder_list) == 0:\n",
        "    base_folder = drive.CreateFile({'title': base_folder_name, 'mimeType': 'application/vnd.google-apps.folder'})\n",
        "    base_folder.Upload()\n",
        "else:\n",
        "    base_folder = folder_list[0]\n",
        "\n",
        "# Iterate through languages_with_known_words\n",
        "for language_code in languages_with_known_words:\n",
        "    print(f'Fetching language {language_code}')\n",
        "    courses_in_language = get_json_response(f'https://www.lingq.com/api/v2/{language_code}/collections/my/')\n",
        "\n",
        "    # Create or find the language folder within the base folder\n",
        "    language_folder_name = language_code\n",
        "    language_folder = None\n",
        "    folder_list = base_folder['children']\n",
        "    for folder in folder_list:\n",
        "        if folder['title'] == language_folder_name:\n",
        "            language_folder = folder\n",
        "            break\n",
        "\n",
        "    if language_folder is None:\n",
        "        language_folder = drive.CreateFile({'title': language_folder_name, 'parents': [{'id': base_folder['id']}], 'mimeType': 'application/vnd.google-apps.folder'})\n",
        "        language_folder.Upload()\n",
        "\n",
        "    print_json(courses_in_language)\n",
        "\n",
        "    for course in courses_in_language[\"results\"]:\n",
        "        course_title = course[\"title\"]\n",
        "        course_id = course[\"id\"]\n",
        "        print(f'Fetching course {course_title} - {course_id}')\n",
        "        lessons_in_course = get_json_response(f'https://www.lingq.com/api/v2/{language_code}/collections/{course_id}')\n",
        "\n",
        "        # Create or find the course folder within the language folder\n",
        "        course_folder_name = course_title\n",
        "        course_folder = None\n",
        "        folder_list = language_folder['children']\n",
        "        for folder in folder_list:\n",
        "            if folder['title'] == course_folder_name:\n",
        "                course_folder = folder\n",
        "                break\n",
        "\n",
        "        if course_folder is None:\n",
        "            course_folder = drive.CreateFile({'title': course_folder_name, 'parents': [{'id': language_folder['id']}], 'mimeType': 'application/vnd.google-apps.folder'})\n",
        "            course_folder.Upload()\n",
        "\n",
        "        print_json(lessons_in_course)\n",
        "\n",
        "        for lesson in lessons_in_course[\"lessons\"]:\n",
        "            lesson_title = lesson[\"title\"]\n",
        "            lesson_url = lesson[\"url\"]\n",
        "            lesson_json = get_json_response(lesson_url)\n",
        "\n",
        "            if \"tokenizedText\" in lesson_json:\n",
        "                sentences = [sentence[0][\"text\"] for sentence in lesson_json[\"tokenizedText\"] if not (\"opentag\" in sentence[0][\"tokens\"][0])]\n",
        "                text = \" \".join(sentences)\n",
        "\n",
        "                # Check if the file already exists within the course folder\n",
        "                existing_files = drive.ListFile({'q': f\"title='{lesson_title}.txt' and '{course_folder['id']}' in parents and trashed=false\"}).GetList()\n",
        "\n",
        "                if not existing_files:\n",
        "                    # Create and upload a text file within the course folder\n",
        "                    lesson_file = drive.CreateFile({'title': f'{lesson_title}.txt', 'parents': [{'id': course_folder['id']}]})\n",
        "                    lesson_file.Upload()\n",
        "                else:\n",
        "                    print(f'File {lesson_title}.txt already exists in {course_folder_name}')\n",
        "\n",
        "\n"
      ],
      "metadata": {
        "colab": {
          "base_uri": "https://localhost:8080/",
          "height": 598
        },
        "id": "aQNQSHzYFPvC",
        "outputId": "5663ff6e-71b2-4e9b-dc3c-0be7f0df4be7"
      },
      "execution_count": 18,
      "outputs": [
        {
          "output_type": "stream",
          "name": "stderr",
          "text": [
            "WARNING:root:pydrive is deprecated and no longer maintained. We recommend that you migrate your projects to pydrive2, the maintained fork of pydrive\n"
          ]
        },
        {
          "output_type": "stream",
          "name": "stdout",
          "text": [
            "Fetching language pl\n"
          ]
        },
        {
          "output_type": "error",
          "ename": "KeyError",
          "evalue": "ignored",
          "traceback": [
            "\u001b[0;31m---------------------------------------------------------------------------\u001b[0m",
            "\u001b[0;31mKeyError\u001b[0m                                  Traceback (most recent call last)",
            "\u001b[0;32m/usr/local/lib/python3.10/dist-packages/pydrive/files.py\u001b[0m in \u001b[0;36m__getitem__\u001b[0;34m(self, key)\u001b[0m\n\u001b[1;32m    133\u001b[0m     \u001b[0;32mtry\u001b[0m\u001b[0;34m:\u001b[0m\u001b[0;34m\u001b[0m\u001b[0;34m\u001b[0m\u001b[0m\n\u001b[0;32m--> 134\u001b[0;31m       \u001b[0;32mreturn\u001b[0m \u001b[0mdict\u001b[0m\u001b[0;34m.\u001b[0m\u001b[0m__getitem__\u001b[0m\u001b[0;34m(\u001b[0m\u001b[0mself\u001b[0m\u001b[0;34m,\u001b[0m \u001b[0mkey\u001b[0m\u001b[0;34m)\u001b[0m\u001b[0;34m\u001b[0m\u001b[0;34m\u001b[0m\u001b[0m\n\u001b[0m\u001b[1;32m    135\u001b[0m     \u001b[0;32mexcept\u001b[0m \u001b[0mKeyError\u001b[0m \u001b[0;32mas\u001b[0m \u001b[0me\u001b[0m\u001b[0;34m:\u001b[0m\u001b[0;34m\u001b[0m\u001b[0;34m\u001b[0m\u001b[0m\n",
            "\u001b[0;31mKeyError\u001b[0m: 'children'",
            "\nDuring handling of the above exception, another exception occurred:\n",
            "\u001b[0;31mKeyError\u001b[0m                                  Traceback (most recent call last)",
            "\u001b[0;32m<ipython-input-18-4540083dc30f>\u001b[0m in \u001b[0;36m<cell line: 27>\u001b[0;34m()\u001b[0m\n\u001b[1;32m     32\u001b[0m     \u001b[0mlanguage_folder_name\u001b[0m \u001b[0;34m=\u001b[0m \u001b[0mlanguage_code\u001b[0m\u001b[0;34m\u001b[0m\u001b[0;34m\u001b[0m\u001b[0m\n\u001b[1;32m     33\u001b[0m     \u001b[0mlanguage_folder\u001b[0m \u001b[0;34m=\u001b[0m \u001b[0;32mNone\u001b[0m\u001b[0;34m\u001b[0m\u001b[0;34m\u001b[0m\u001b[0m\n\u001b[0;32m---> 34\u001b[0;31m     \u001b[0mfolder_list\u001b[0m \u001b[0;34m=\u001b[0m \u001b[0mbase_folder\u001b[0m\u001b[0;34m[\u001b[0m\u001b[0;34m'children'\u001b[0m\u001b[0;34m]\u001b[0m\u001b[0;34m\u001b[0m\u001b[0;34m\u001b[0m\u001b[0m\n\u001b[0m\u001b[1;32m     35\u001b[0m     \u001b[0;32mfor\u001b[0m \u001b[0mfolder\u001b[0m \u001b[0;32min\u001b[0m \u001b[0mfolder_list\u001b[0m\u001b[0;34m:\u001b[0m\u001b[0;34m\u001b[0m\u001b[0;34m\u001b[0m\u001b[0m\n\u001b[1;32m     36\u001b[0m         \u001b[0;32mif\u001b[0m \u001b[0mfolder\u001b[0m\u001b[0;34m[\u001b[0m\u001b[0;34m'title'\u001b[0m\u001b[0;34m]\u001b[0m \u001b[0;34m==\u001b[0m \u001b[0mlanguage_folder_name\u001b[0m\u001b[0;34m:\u001b[0m\u001b[0;34m\u001b[0m\u001b[0;34m\u001b[0m\u001b[0m\n",
            "\u001b[0;32m/usr/local/lib/python3.10/dist-packages/pydrive/files.py\u001b[0m in \u001b[0;36m__getitem__\u001b[0;34m(self, key)\u001b[0m\n\u001b[1;32m    135\u001b[0m     \u001b[0;32mexcept\u001b[0m \u001b[0mKeyError\u001b[0m \u001b[0;32mas\u001b[0m \u001b[0me\u001b[0m\u001b[0;34m:\u001b[0m\u001b[0;34m\u001b[0m\u001b[0;34m\u001b[0m\u001b[0m\n\u001b[1;32m    136\u001b[0m       \u001b[0;32mif\u001b[0m \u001b[0mself\u001b[0m\u001b[0;34m.\u001b[0m\u001b[0muploaded\u001b[0m\u001b[0;34m:\u001b[0m\u001b[0;34m\u001b[0m\u001b[0;34m\u001b[0m\u001b[0m\n\u001b[0;32m--> 137\u001b[0;31m         \u001b[0;32mraise\u001b[0m \u001b[0mKeyError\u001b[0m\u001b[0;34m(\u001b[0m\u001b[0me\u001b[0m\u001b[0;34m)\u001b[0m\u001b[0;34m\u001b[0m\u001b[0;34m\u001b[0m\u001b[0m\n\u001b[0m\u001b[1;32m    138\u001b[0m       \u001b[0;32mif\u001b[0m \u001b[0mself\u001b[0m\u001b[0;34m.\u001b[0m\u001b[0mget\u001b[0m\u001b[0;34m(\u001b[0m\u001b[0;34m'id'\u001b[0m\u001b[0;34m)\u001b[0m\u001b[0;34m:\u001b[0m\u001b[0;34m\u001b[0m\u001b[0;34m\u001b[0m\u001b[0m\n\u001b[1;32m    139\u001b[0m         \u001b[0mself\u001b[0m\u001b[0;34m.\u001b[0m\u001b[0mFetchMetadata\u001b[0m\u001b[0;34m(\u001b[0m\u001b[0;34m)\u001b[0m\u001b[0;34m\u001b[0m\u001b[0;34m\u001b[0m\u001b[0m\n",
            "\u001b[0;31mKeyError\u001b[0m: KeyError('children')"
          ]
        }
      ]
    }
  ]
}