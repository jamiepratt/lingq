{
  "nbformat": 4,
  "nbformat_minor": 0,
  "metadata": {
    "colab": {
      "provenance": [],
      "authorship_tag": "ABX9TyMzc78d7XhnjjxiHbDlih/H"
    },
    "kernelspec": {
      "name": "python3",
      "display_name": "Python 3"
    },
    "language_info": {
      "name": "python"
    }
  },
  "cells": [
    {
      "cell_type": "markdown",
      "source": [
        "# Fetches all text content from your LingQ courses and saves it in a tree of directories on your Google Drive.\n",
        "\n",
        "You need to provide your lingq api key when prompted which you can get from here:\n",
        "\n",
        "https://www.lingq.com/en/accounts/apikey/\n"
      ],
      "metadata": {
        "id": "BOkv1G1ZB-G7"
      }
    },
    {
      "cell_type": "code",
      "source": [
        "# @title Select a directory name for the base directory below which tree will be created\n",
        "# @markdown\n",
        "\n",
        "base_folder_name = 'lingq_texts'  # @param {type: \"string\"}\n",
        "# @markdown ---\n"
      ],
      "metadata": {
        "id": "gPNzfod0CXXq",
        "cellView": "form"
      },
      "execution_count": null,
      "outputs": []
    },
    {
      "cell_type": "markdown",
      "source": [
        "You can run this script to only fetch new content by pointing it at any already existing tree. If files already exist at the location in the tree for a particular lesson then that lesson content will be ignored but any new lessons will be added to the tree.\n",
        "\n",
        "To run the script select \"Run all\" from the \"Runtime\" menu above.\n",
        "\n",
        "You can see a video of files being created in my drive from my lingq content: https://youtu.be/Tdr6uoF58RM"
      ],
      "metadata": {
        "id": "T_9PeDbxDm2S"
      }
    },
    {
      "cell_type": "markdown",
      "source": [
        "# Initial set up\n"
      ],
      "metadata": {
        "id": "sc80NbX_F6a_"
      }
    },
    {
      "cell_type": "code",
      "execution_count": null,
      "metadata": {
        "id": "qUohFGhNpQfu"
      },
      "outputs": [],
      "source": [
        "#Using Google colab secrets to store keys.\n",
        "from google.colab import userdata\n",
        "\n",
        "import urllib.parse\n",
        "\n",
        "import requests\n",
        "\n",
        "import json\n",
        "\n",
        "lingq_api_key=userdata.get('LINGQ_API_KEY');\n",
        "headers = {\n",
        "    'Authorization': f'Token {lingq_api_key}',\n",
        "    'Content-Type': 'application/json'\n",
        "}\n"
      ]
    },
    {
      "cell_type": "markdown",
      "source": [
        "# Helper Functions"
      ],
      "metadata": {
        "id": "CcAAiJpNGa7-"
      }
    },
    {
      "cell_type": "code",
      "source": [
        "def get_json_response (url):\n",
        "  response = requests.get(f'{url}?page_size=1000', headers=headers)\n",
        "  return response.json()\n",
        "\n",
        "def print_json (json_parsed):\n",
        "  print (json.dumps(json_parsed, indent = 4))\n"
      ],
      "metadata": {
        "id": "c3-1oloMGaNn"
      },
      "execution_count": null,
      "outputs": []
    },
    {
      "cell_type": "markdown",
      "source": [
        "# Languages\n"
      ],
      "metadata": {
        "id": "USMKDNpjGOBi"
      }
    },
    {
      "cell_type": "code",
      "source": [
        "languages = get_json_response('https://www.lingq.com/api/v2/languages/')\n",
        "languages_with_known_words = [item[\"code\"] for item in languages if item[\"knownWords\"] != 0]\n",
        "print_json(languages_with_known_words)\n",
        "\n"
      ],
      "metadata": {
        "id": "23qoJKJ0GP-d"
      },
      "execution_count": null,
      "outputs": []
    },
    {
      "cell_type": "markdown",
      "source": [
        "# The meat of the sandwich"
      ],
      "metadata": {
        "id": "DEQnUY78FSBR"
      }
    },
    {
      "cell_type": "code",
      "source": [
        "# Install PyDrive2\n",
        "!pip install PyDrive2\n",
        "\n",
        "# Import necessary libraries\n",
        "from pydrive2.auth import GoogleAuth\n",
        "from pydrive2.drive import GoogleDrive\n",
        "from google.colab import auth\n",
        "from oauth2client.client import GoogleCredentials\n",
        "import os\n",
        "import urllib.parse\n",
        "\n",
        "# Authenticate and create the PyDrive2 client\n",
        "auth.authenticate_user()\n",
        "gauth = GoogleAuth()\n",
        "gauth.credentials = GoogleCredentials.get_application_default()\n",
        "drive = GoogleDrive(gauth)\n",
        "\n",
        "\n",
        "# Create or find the base folder\n",
        "base_folder = None\n",
        "folder_list = drive.ListFile({'q': \"title='\" + base_folder_name + \"' and mimeType='application/vnd.google-apps.folder' and trashed=false\"}).GetList()\n",
        "if len(folder_list) == 0:\n",
        "    base_folder = drive.CreateFile({'title': base_folder_name, 'mimeType': 'application/vnd.google-apps.folder'})\n",
        "    base_folder.Upload()\n",
        "else:\n",
        "    base_folder = folder_list[0]\n",
        "\n",
        "# Iterate through languages_with_known_words\n",
        "for language_code in languages_with_known_words:\n",
        "    print(f'Fetching language {language_code}')\n",
        "    courses_in_language = get_json_response(f'https://www.lingq.com/api/v2/{language_code}/collections/my/')\n",
        "\n",
        "    # Create or find the language folder within the base folder\n",
        "    language_folder_name = language_code\n",
        "    language_folder = None\n",
        "    folder_list = drive.ListFile({'q': f\"title='{urllib.parse.quote(language_folder_name)}' and '{base_folder['id']}' in parents and trashed=false\"}).GetList()\n",
        "    if len(folder_list) == 0:\n",
        "        language_folder = drive.CreateFile({'title': language_folder_name, 'parents': [{'id': base_folder['id']}], 'mimeType': 'application/vnd.google-apps.folder'})\n",
        "        language_folder.Upload()\n",
        "    else:\n",
        "        language_folder = folder_list[0]\n",
        "\n",
        "    print_json(courses_in_language)\n",
        "\n",
        "    for course in courses_in_language[\"results\"]:\n",
        "        course_title = course[\"title\"]\n",
        "        course_id = course[\"id\"]\n",
        "        print(f'Fetching course {course_title} - {course_id}')\n",
        "\n",
        "        # Encode the course name before including it in the URL\n",
        "        encoded_course_title = urllib.parse.quote(course_title)\n",
        "        lessons_in_course = get_json_response(f'https://www.lingq.com/api/v2/{language_code}/collections/{course_id}')\n",
        "\n",
        "        # Create or find the course folder within the language folder\n",
        "        course_folder_name = course_title\n",
        "        course_folder = None\n",
        "        folder_list = drive.ListFile({'q': f\"title='{urllib.parse.quote(course_folder_name)}' and '{language_folder['id']}' in parents and trashed=false\"}).GetList()\n",
        "        if len(folder_list) == 0:\n",
        "            course_folder = drive.CreateFile({'title': course_folder_name, 'parents': [{'id': language_folder['id']}], 'mimeType': 'application/vnd.google-apps.folder'})\n",
        "            course_folder.Upload()\n",
        "        else:\n",
        "            course_folder = folder_list[0]\n",
        "\n",
        "        print_json(lessons_in_course)\n",
        "\n",
        "        for lesson in lessons_in_course[\"lessons\"]:\n",
        "            lesson_title = lesson[\"title\"]\n",
        "            lesson_url = lesson[\"url\"]\n",
        "            lesson_json = get_json_response(lesson_url)\n",
        "\n",
        "            if \"tokenizedText\" in lesson_json:\n",
        "                sentences = [sentence[0][\"text\"] for sentence in lesson_json[\"tokenizedText\"] if not (\"opentag\" in sentence[0][\"tokens\"][0])]\n",
        "                text = \" \".join(sentences)\n",
        "\n",
        "                # Check if the file already exists within the course folder\n",
        "                existing_files = drive.ListFile({'q': f\"title='{lesson_title}.txt' and '{course_folder['id']}' in parents and trashed=false\"}).GetList()\n",
        "\n",
        "                if not existing_files:\n",
        "                    # Create and write the text content to a text file\n",
        "                    lesson_file = drive.CreateFile({'title': f'{lesson_title}.txt', 'parents': [{'id': course_folder['id']}]})\n",
        "                    lesson_file.SetContentString(text)  # Write text content to the file\n",
        "                    lesson_file.Upload()  # Upload the file\n",
        "                else:\n",
        "                    print(f'File {lesson_title}.txt already exists in {course_folder_name}')"
      ],
      "metadata": {
        "id": "aQNQSHzYFPvC"
      },
      "execution_count": null,
      "outputs": []
    },
    {
      "cell_type": "code",
      "source": [],
      "metadata": {
        "id": "OcQzuf924Aha"
      },
      "execution_count": null,
      "outputs": []
    }
  ]
}