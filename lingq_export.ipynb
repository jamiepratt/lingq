{
  "nbformat": 4,
  "nbformat_minor": 0,
  "metadata": {
    "colab": {
      "provenance": [],
      "authorship_tag": "ABX9TyP2RLUmxfnmzIPUNiucpeyT"
    },
    "kernelspec": {
      "name": "python3",
      "display_name": "Python 3"
    },
    "language_info": {
      "name": "python"
    }
  },
  "cells": [
    {
      "cell_type": "markdown",
      "source": [
        "# Initial set up\n"
      ],
      "metadata": {
        "id": "sc80NbX_F6a_"
      }
    },
    {
      "cell_type": "code",
      "execution_count": 14,
      "metadata": {
        "id": "qUohFGhNpQfu"
      },
      "outputs": [],
      "source": [
        "#Using Google colab secrets to store keys.\n",
        "from google.colab import userdata\n",
        "\n",
        "import urllib.parse\n",
        "\n",
        "import requests\n",
        "\n",
        "import json\n",
        "\n",
        "lingq_api_key=userdata.get('LINGQ_API_KEY');\n",
        "headers = {\n",
        "    'Authorization': f'Token {lingq_api_key}',\n",
        "    'Content-Type': 'application/json'\n",
        "}\n"
      ]
    },
    {
      "cell_type": "markdown",
      "source": [
        "# Helper Functions"
      ],
      "metadata": {
        "id": "CcAAiJpNGa7-"
      }
    },
    {
      "cell_type": "code",
      "source": [
        "def get_json_response (url):\n",
        "  response = requests.get(url, headers=headers)\n",
        "  return response.json()\n",
        "\n",
        "def print_json (json_parsed):\n",
        "  print (json.dumps(json_parsed, indent = 4))\n",
        "\n"
      ],
      "metadata": {
        "id": "c3-1oloMGaNn"
      },
      "execution_count": 15,
      "outputs": []
    },
    {
      "cell_type": "markdown",
      "source": [
        "# Languages\n"
      ],
      "metadata": {
        "id": "USMKDNpjGOBi"
      }
    },
    {
      "cell_type": "code",
      "source": [
        "languages = get_json_response('https://www.lingq.com/api/v2/languages/')\n",
        "languages_with_known_words = [item[\"code\"] for item in languages if item[\"knownWords\"] != 0]\n",
        "print_json(languages_with_known_words)\n",
        "\n"
      ],
      "metadata": {
        "colab": {
          "base_uri": "https://localhost:8080/"
        },
        "id": "23qoJKJ0GP-d",
        "outputId": "560730ed-8970-4c8d-a31f-3882b8d7bfaa"
      },
      "execution_count": 16,
      "outputs": [
        {
          "output_type": "stream",
          "name": "stdout",
          "text": [
            "[\n",
            "    \"pl\",\n",
            "    \"en\"\n",
            "]\n"
          ]
        }
      ]
    },
    {
      "cell_type": "markdown",
      "source": [
        "# Courses for Language"
      ],
      "metadata": {
        "id": "DEQnUY78FSBR"
      }
    },
    {
      "cell_type": "code",
      "source": [
        "# Install PyDrive2\n",
        "!pip install PyDrive2\n",
        "\n",
        "# Import necessary libraries\n",
        "from pydrive2.auth import GoogleAuth\n",
        "from pydrive2.drive import GoogleDrive\n",
        "from google.colab import auth\n",
        "from oauth2client.client import GoogleCredentials\n",
        "import os\n",
        "import urllib.parse\n",
        "\n",
        "# Authenticate and create the PyDrive2 client\n",
        "auth.authenticate_user()\n",
        "gauth = GoogleAuth()\n",
        "gauth.credentials = GoogleCredentials.get_application_default()\n",
        "drive = GoogleDrive(gauth)\n",
        "\n",
        "# Define the base folder in Google Drive where you want to save the files\n",
        "base_folder_name = 'LingQ_Data'\n",
        "\n",
        "\n",
        "# Create or find the base folder\n",
        "base_folder = None\n",
        "folder_list = drive.ListFile({'q': \"title='\" + base_folder_name + \"' and mimeType='application/vnd.google-apps.folder' and trashed=false\"}).GetList()\n",
        "if len(folder_list) == 0:\n",
        "    base_folder = drive.CreateFile({'title': base_folder_name, 'mimeType': 'application/vnd.google-apps.folder'})\n",
        "    base_folder.Upload()\n",
        "else:\n",
        "    base_folder = folder_list[0]\n",
        "\n",
        "# Iterate through languages_with_known_words\n",
        "for language_code in languages_with_known_words:\n",
        "    print(f'Fetching language {language_code}')\n",
        "    courses_in_language = get_json_response(f'https://www.lingq.com/api/v2/{language_code}/collections/my/')\n",
        "\n",
        "    # Create or find the language folder within the base folder\n",
        "    language_folder_name = language_code\n",
        "    language_folder = None\n",
        "    folder_list = drive.ListFile({'q': f\"title='{urllib.parse.quote(language_folder_name)}' and '{base_folder['id']}' in parents and trashed=false\"}).GetList()\n",
        "    if len(folder_list) == 0:\n",
        "        language_folder = drive.CreateFile({'title': language_folder_name, 'parents': [{'id': base_folder['id']}], 'mimeType': 'application/vnd.google-apps.folder'})\n",
        "        language_folder.Upload()\n",
        "    else:\n",
        "        language_folder = folder_list[0]\n",
        "\n",
        "    print_json(courses_in_language)\n",
        "\n",
        "    for course in courses_in_language[\"results\"]:\n",
        "        course_title = course[\"title\"]\n",
        "        course_id = course[\"id\"]\n",
        "        print(f'Fetching course {course_title} - {course_id}')\n",
        "\n",
        "        # Encode the course name before including it in the URL\n",
        "        encoded_course_title = urllib.parse.quote(course_title)\n",
        "        lessons_in_course = get_json_response(f'https://www.lingq.com/api/v2/{language_code}/collections/{course_id}/{encoded_course_title}')\n",
        "\n",
        "        # Create or find the course folder within the language folder\n",
        "        course_folder_name = course_title\n",
        "        course_folder = None\n",
        "        folder_list = drive.ListFile({'q': f\"title='{urllib.parse.quote(course_folder_name)}' and '{language_folder['id']}' in parents and trashed=false\"}).GetList()\n",
        "        if len(folder_list) == 0:\n",
        "            course_folder = drive.CreateFile({'title': course_folder_name, 'parents': [{'id': language_folder['id']}], 'mimeType': 'application/vnd.google-apps.folder'})\n",
        "            course_folder.Upload()\n",
        "        else:\n",
        "            course_folder = folder_list[0]\n",
        "\n",
        "        print_json(lessons_in_course)\n",
        "\n",
        "        for lesson in lessons_in_course[\"lessons\"]:\n",
        "            lesson_title = lesson[\"title\"]\n",
        "            lesson_url = lesson[\"url\"]\n",
        "            lesson_json = get_json_response(lesson_url)\n",
        "\n",
        "            if \"tokenizedText\" in lesson_json:\n",
        "                sentences = [sentence[0][\"text\"] for sentence in lesson_json[\"tokenizedText\"] if not (\"opentag\" in sentence[0][\"tokens\"][0])]\n",
        "                text = \" \".join(sentences)\n",
        "\n",
        "                # Check if the file already exists within the course folder\n",
        "                existing_files = drive.ListFile({'q': f\"title='{lesson_title}.txt' and '{course_folder['id']}' in parents and trashed=false\"}).GetList()\n",
        "\n",
        "                if not existing_files:\n",
        "                    # Create and write the text content to a text file\n",
        "                    lesson_file = drive.CreateFile({'title': f'{lesson_title}.txt', 'parents': [{'id': course_folder['id']}]})\n",
        "                    lesson_file.SetContentString(text)  # Write text content to the file\n",
        "                    lesson_file.Upload()  # Upload the file\n",
        "                else:\n",
        "                    print(f'File {lesson_title}.txt already exists in {course_folder_name}')"
      ],
      "metadata": {
        "colab": {
          "base_uri": "https://localhost:8080/",
          "height": 1000
        },
        "id": "aQNQSHzYFPvC",
        "outputId": "f4925cdb-c78d-4a2a-f47a-eb6e90665d22"
      },
      "execution_count": 21,
      "outputs": [
        {
          "output_type": "stream",
          "name": "stdout",
          "text": [
            "Requirement already satisfied: PyDrive2 in /usr/local/lib/python3.10/dist-packages (1.6.3)\n",
            "Requirement already satisfied: google-api-python-client>=1.12.5 in /usr/local/lib/python3.10/dist-packages (from PyDrive2) (2.84.0)\n",
            "Requirement already satisfied: six>=1.13.0 in /usr/local/lib/python3.10/dist-packages (from PyDrive2) (1.16.0)\n",
            "Requirement already satisfied: oauth2client>=4.0.0 in /usr/local/lib/python3.10/dist-packages (from PyDrive2) (4.1.3)\n",
            "Requirement already satisfied: PyYAML>=3.0 in /usr/local/lib/python3.10/dist-packages (from PyDrive2) (6.0.1)\n",
            "Requirement already satisfied: pyOpenSSL>=19.1.0 in /usr/local/lib/python3.10/dist-packages (from PyDrive2) (23.3.0)\n",
            "Requirement already satisfied: httplib2<1dev,>=0.15.0 in /usr/local/lib/python3.10/dist-packages (from google-api-python-client>=1.12.5->PyDrive2) (0.22.0)\n",
            "Requirement already satisfied: google-auth<3.0.0dev,>=1.19.0 in /usr/local/lib/python3.10/dist-packages (from google-api-python-client>=1.12.5->PyDrive2) (2.17.3)\n",
            "Requirement already satisfied: google-auth-httplib2>=0.1.0 in /usr/local/lib/python3.10/dist-packages (from google-api-python-client>=1.12.5->PyDrive2) (0.1.1)\n",
            "Requirement already satisfied: google-api-core!=2.0.*,!=2.1.*,!=2.2.*,!=2.3.0,<3.0.0dev,>=1.31.5 in /usr/local/lib/python3.10/dist-packages (from google-api-python-client>=1.12.5->PyDrive2) (2.11.1)\n",
            "Requirement already satisfied: uritemplate<5,>=3.0.1 in /usr/local/lib/python3.10/dist-packages (from google-api-python-client>=1.12.5->PyDrive2) (4.1.1)\n",
            "Requirement already satisfied: pyasn1>=0.1.7 in /usr/local/lib/python3.10/dist-packages (from oauth2client>=4.0.0->PyDrive2) (0.5.1)\n",
            "Requirement already satisfied: pyasn1-modules>=0.0.5 in /usr/local/lib/python3.10/dist-packages (from oauth2client>=4.0.0->PyDrive2) (0.3.0)\n",
            "Requirement already satisfied: rsa>=3.1.4 in /usr/local/lib/python3.10/dist-packages (from oauth2client>=4.0.0->PyDrive2) (4.9)\n",
            "Requirement already satisfied: cryptography<42,>=41.0.5 in /usr/local/lib/python3.10/dist-packages (from pyOpenSSL>=19.1.0->PyDrive2) (41.0.7)\n",
            "Requirement already satisfied: cffi>=1.12 in /usr/local/lib/python3.10/dist-packages (from cryptography<42,>=41.0.5->pyOpenSSL>=19.1.0->PyDrive2) (1.16.0)\n",
            "Requirement already satisfied: googleapis-common-protos<2.0.dev0,>=1.56.2 in /usr/local/lib/python3.10/dist-packages (from google-api-core!=2.0.*,!=2.1.*,!=2.2.*,!=2.3.0,<3.0.0dev,>=1.31.5->google-api-python-client>=1.12.5->PyDrive2) (1.62.0)\n",
            "Requirement already satisfied: protobuf!=3.20.0,!=3.20.1,!=4.21.0,!=4.21.1,!=4.21.2,!=4.21.3,!=4.21.4,!=4.21.5,<5.0.0.dev0,>=3.19.5 in /usr/local/lib/python3.10/dist-packages (from google-api-core!=2.0.*,!=2.1.*,!=2.2.*,!=2.3.0,<3.0.0dev,>=1.31.5->google-api-python-client>=1.12.5->PyDrive2) (3.20.3)\n",
            "Requirement already satisfied: requests<3.0.0.dev0,>=2.18.0 in /usr/local/lib/python3.10/dist-packages (from google-api-core!=2.0.*,!=2.1.*,!=2.2.*,!=2.3.0,<3.0.0dev,>=1.31.5->google-api-python-client>=1.12.5->PyDrive2) (2.31.0)\n",
            "Requirement already satisfied: cachetools<6.0,>=2.0.0 in /usr/local/lib/python3.10/dist-packages (from google-auth<3.0.0dev,>=1.19.0->google-api-python-client>=1.12.5->PyDrive2) (5.3.2)\n",
            "Requirement already satisfied: pyparsing!=3.0.0,!=3.0.1,!=3.0.2,!=3.0.3,<4,>=2.4.2 in /usr/local/lib/python3.10/dist-packages (from httplib2<1dev,>=0.15.0->google-api-python-client>=1.12.5->PyDrive2) (3.1.1)\n",
            "Requirement already satisfied: pycparser in /usr/local/lib/python3.10/dist-packages (from cffi>=1.12->cryptography<42,>=41.0.5->pyOpenSSL>=19.1.0->PyDrive2) (2.21)\n",
            "Requirement already satisfied: charset-normalizer<4,>=2 in /usr/local/lib/python3.10/dist-packages (from requests<3.0.0.dev0,>=2.18.0->google-api-core!=2.0.*,!=2.1.*,!=2.2.*,!=2.3.0,<3.0.0dev,>=1.31.5->google-api-python-client>=1.12.5->PyDrive2) (3.3.2)\n",
            "Requirement already satisfied: idna<4,>=2.5 in /usr/local/lib/python3.10/dist-packages (from requests<3.0.0.dev0,>=2.18.0->google-api-core!=2.0.*,!=2.1.*,!=2.2.*,!=2.3.0,<3.0.0dev,>=1.31.5->google-api-python-client>=1.12.5->PyDrive2) (3.6)\n",
            "Requirement already satisfied: urllib3<3,>=1.21.1 in /usr/local/lib/python3.10/dist-packages (from requests<3.0.0.dev0,>=2.18.0->google-api-core!=2.0.*,!=2.1.*,!=2.2.*,!=2.3.0,<3.0.0dev,>=1.31.5->google-api-python-client>=1.12.5->PyDrive2) (2.0.7)\n",
            "Requirement already satisfied: certifi>=2017.4.17 in /usr/local/lib/python3.10/dist-packages (from requests<3.0.0.dev0,>=2.18.0->google-api-core!=2.0.*,!=2.1.*,!=2.2.*,!=2.3.0,<3.0.0dev,>=1.31.5->google-api-python-client>=1.12.5->PyDrive2) (2023.11.17)\n",
            "Fetching language pl\n",
            "{\n",
            "    \"count\": 12,\n",
            "    \"next\": null,\n",
            "    \"previous\": null,\n",
            "    \"results\": [\n",
            "        {\n",
            "            \"id\": 1424980,\n",
            "            \"title\": \"A Polish Family\",\n",
            "            \"imageUrl\": \"https://static.lingq.com/media/resources/contents/images/2023/09/21/AAAABdz1V7bpPzPwEaaUZGq4sWXj-WPI9FyGf3hm_14f7c715.webp\"\n",
            "        },\n",
            "        {\n",
            "            \"id\": 1456660,\n",
            "            \"title\": \"Daily Polish Listening\",\n",
            "            \"imageUrl\": \"https://static.lingq.com/static/images/default-content.webp\"\n",
            "        },\n",
            "        {\n",
            "            \"id\": 1440209,\n",
            "            \"title\": \"Daily Polish Story\",\n",
            "            \"imageUrl\": \"https://static.lingq.com/static/images/default-content.webp\"\n",
            "        },\n",
            "        {\n",
            "            \"id\": 1440204,\n",
            "            \"title\": \"John A1\",\n",
            "            \"imageUrl\": \"https://static.lingq.com/static/images/default-content.webp\"\n",
            "        },\n",
            "        {\n",
            "            \"id\": 1478562,\n",
            "            \"title\": \"My Simplified Lessons (AI)\",\n",
            "            \"imageUrl\": \"https://static.lingq.com/media/resources/collections/images/2023/11/08/ai-s-d03d946b.webp\"\n",
            "        },\n",
            "        {\n",
            "            \"id\": 1444574,\n",
            "            \"title\": \"Piotr's Hints\",\n",
            "            \"imageUrl\": \"https://static.lingq.com/static/images/default-content.webp\"\n",
            "        },\n",
            "        {\n",
            "            \"id\": 1444576,\n",
            "            \"title\": \"Piotr's Rules\",\n",
            "            \"imageUrl\": \"https://static.lingq.com/static/images/default-content.webp\"\n",
            "        },\n",
            "        {\n",
            "            \"id\": 1458534,\n",
            "            \"title\": \"Polish songs\",\n",
            "            \"imageUrl\": \"https://static.lingq.com/media/resources/collections/images/2023/11/11/1699717793_1e8ec172.webp\"\n",
            "        },\n",
            "        {\n",
            "            \"id\": 1424957,\n",
            "            \"title\": \"Quick Imports\",\n",
            "            \"imageUrl\": \"https://static.lingq.com/media/resources/collections/images/2023/09/21/qi-s-b18716d6.webp\"\n",
            "        },\n",
            "        {\n",
            "            \"id\": 1501230,\n",
            "            \"title\": \"RMF24\",\n",
            "            \"imageUrl\": \"https://static.lingq.com/media/resources/contents/images/2023/11/27/000I3J1OD96548TE-C307_f6e9363e_1bfb4934.webp\"\n",
            "        },\n",
            "        {\n",
            "            \"id\": 1437012,\n",
            "            \"title\": \"Video for Beginners\",\n",
            "            \"imageUrl\": \"https://static.lingq.com/media/resources/collections/images/2023/10/02/1696228579.png\"\n",
            "        },\n",
            "        {\n",
            "            \"id\": 1497639,\n",
            "            \"title\": \"warszawawpigulce.pl\",\n",
            "            \"imageUrl\": \"https://static.lingq.com/media/resources/contents/images/2023/11/24/PKO-Bank-Polski-3_9d9091c3_b7f4764d.webp\"\n",
            "        }\n",
            "    ]\n",
            "}\n",
            "Fetching course A Polish Family - 1424980\n"
          ]
        },
        {
          "output_type": "error",
          "ename": "JSONDecodeError",
          "evalue": "ignored",
          "traceback": [
            "\u001b[0;31m---------------------------------------------------------------------------\u001b[0m",
            "\u001b[0;31mJSONDecodeError\u001b[0m                           Traceback (most recent call last)",
            "\u001b[0;32m/usr/local/lib/python3.10/dist-packages/requests/models.py\u001b[0m in \u001b[0;36mjson\u001b[0;34m(self, **kwargs)\u001b[0m\n\u001b[1;32m    970\u001b[0m         \u001b[0;32mtry\u001b[0m\u001b[0;34m:\u001b[0m\u001b[0;34m\u001b[0m\u001b[0;34m\u001b[0m\u001b[0m\n\u001b[0;32m--> 971\u001b[0;31m             \u001b[0;32mreturn\u001b[0m \u001b[0mcomplexjson\u001b[0m\u001b[0;34m.\u001b[0m\u001b[0mloads\u001b[0m\u001b[0;34m(\u001b[0m\u001b[0mself\u001b[0m\u001b[0;34m.\u001b[0m\u001b[0mtext\u001b[0m\u001b[0;34m,\u001b[0m \u001b[0;34m**\u001b[0m\u001b[0mkwargs\u001b[0m\u001b[0;34m)\u001b[0m\u001b[0;34m\u001b[0m\u001b[0;34m\u001b[0m\u001b[0m\n\u001b[0m\u001b[1;32m    972\u001b[0m         \u001b[0;32mexcept\u001b[0m \u001b[0mJSONDecodeError\u001b[0m \u001b[0;32mas\u001b[0m \u001b[0me\u001b[0m\u001b[0;34m:\u001b[0m\u001b[0;34m\u001b[0m\u001b[0;34m\u001b[0m\u001b[0m\n",
            "\u001b[0;32m/usr/lib/python3.10/json/__init__.py\u001b[0m in \u001b[0;36mloads\u001b[0;34m(s, cls, object_hook, parse_float, parse_int, parse_constant, object_pairs_hook, **kw)\u001b[0m\n\u001b[1;32m    345\u001b[0m             parse_constant is None and object_pairs_hook is None and not kw):\n\u001b[0;32m--> 346\u001b[0;31m         \u001b[0;32mreturn\u001b[0m \u001b[0m_default_decoder\u001b[0m\u001b[0;34m.\u001b[0m\u001b[0mdecode\u001b[0m\u001b[0;34m(\u001b[0m\u001b[0ms\u001b[0m\u001b[0;34m)\u001b[0m\u001b[0;34m\u001b[0m\u001b[0;34m\u001b[0m\u001b[0m\n\u001b[0m\u001b[1;32m    347\u001b[0m     \u001b[0;32mif\u001b[0m \u001b[0mcls\u001b[0m \u001b[0;32mis\u001b[0m \u001b[0;32mNone\u001b[0m\u001b[0;34m:\u001b[0m\u001b[0;34m\u001b[0m\u001b[0;34m\u001b[0m\u001b[0m\n",
            "\u001b[0;32m/usr/lib/python3.10/json/decoder.py\u001b[0m in \u001b[0;36mdecode\u001b[0;34m(self, s, _w)\u001b[0m\n\u001b[1;32m    336\u001b[0m         \"\"\"\n\u001b[0;32m--> 337\u001b[0;31m         \u001b[0mobj\u001b[0m\u001b[0;34m,\u001b[0m \u001b[0mend\u001b[0m \u001b[0;34m=\u001b[0m \u001b[0mself\u001b[0m\u001b[0;34m.\u001b[0m\u001b[0mraw_decode\u001b[0m\u001b[0;34m(\u001b[0m\u001b[0ms\u001b[0m\u001b[0;34m,\u001b[0m \u001b[0midx\u001b[0m\u001b[0;34m=\u001b[0m\u001b[0m_w\u001b[0m\u001b[0;34m(\u001b[0m\u001b[0ms\u001b[0m\u001b[0;34m,\u001b[0m \u001b[0;36m0\u001b[0m\u001b[0;34m)\u001b[0m\u001b[0;34m.\u001b[0m\u001b[0mend\u001b[0m\u001b[0;34m(\u001b[0m\u001b[0;34m)\u001b[0m\u001b[0;34m)\u001b[0m\u001b[0;34m\u001b[0m\u001b[0;34m\u001b[0m\u001b[0m\n\u001b[0m\u001b[1;32m    338\u001b[0m         \u001b[0mend\u001b[0m \u001b[0;34m=\u001b[0m \u001b[0m_w\u001b[0m\u001b[0;34m(\u001b[0m\u001b[0ms\u001b[0m\u001b[0;34m,\u001b[0m \u001b[0mend\u001b[0m\u001b[0;34m)\u001b[0m\u001b[0;34m.\u001b[0m\u001b[0mend\u001b[0m\u001b[0;34m(\u001b[0m\u001b[0;34m)\u001b[0m\u001b[0;34m\u001b[0m\u001b[0;34m\u001b[0m\u001b[0m\n",
            "\u001b[0;32m/usr/lib/python3.10/json/decoder.py\u001b[0m in \u001b[0;36mraw_decode\u001b[0;34m(self, s, idx)\u001b[0m\n\u001b[1;32m    354\u001b[0m         \u001b[0;32mexcept\u001b[0m \u001b[0mStopIteration\u001b[0m \u001b[0;32mas\u001b[0m \u001b[0merr\u001b[0m\u001b[0;34m:\u001b[0m\u001b[0;34m\u001b[0m\u001b[0;34m\u001b[0m\u001b[0m\n\u001b[0;32m--> 355\u001b[0;31m             \u001b[0;32mraise\u001b[0m \u001b[0mJSONDecodeError\u001b[0m\u001b[0;34m(\u001b[0m\u001b[0;34m\"Expecting value\"\u001b[0m\u001b[0;34m,\u001b[0m \u001b[0ms\u001b[0m\u001b[0;34m,\u001b[0m \u001b[0merr\u001b[0m\u001b[0;34m.\u001b[0m\u001b[0mvalue\u001b[0m\u001b[0;34m)\u001b[0m \u001b[0;32mfrom\u001b[0m \u001b[0;32mNone\u001b[0m\u001b[0;34m\u001b[0m\u001b[0;34m\u001b[0m\u001b[0m\n\u001b[0m\u001b[1;32m    356\u001b[0m         \u001b[0;32mreturn\u001b[0m \u001b[0mobj\u001b[0m\u001b[0;34m,\u001b[0m \u001b[0mend\u001b[0m\u001b[0;34m\u001b[0m\u001b[0;34m\u001b[0m\u001b[0m\n",
            "\u001b[0;31mJSONDecodeError\u001b[0m: Expecting value: line 1 column 1 (char 0)",
            "\nDuring handling of the above exception, another exception occurred:\n",
            "\u001b[0;31mJSONDecodeError\u001b[0m                           Traceback (most recent call last)",
            "\u001b[0;32m<ipython-input-21-6a0dd4014c7d>\u001b[0m in \u001b[0;36m<cell line: 32>\u001b[0;34m()\u001b[0m\n\u001b[1;32m     53\u001b[0m         \u001b[0;31m# Encode the course name before including it in the URL\u001b[0m\u001b[0;34m\u001b[0m\u001b[0;34m\u001b[0m\u001b[0m\n\u001b[1;32m     54\u001b[0m         \u001b[0mencoded_course_title\u001b[0m \u001b[0;34m=\u001b[0m \u001b[0murllib\u001b[0m\u001b[0;34m.\u001b[0m\u001b[0mparse\u001b[0m\u001b[0;34m.\u001b[0m\u001b[0mquote\u001b[0m\u001b[0;34m(\u001b[0m\u001b[0mcourse_title\u001b[0m\u001b[0;34m)\u001b[0m\u001b[0;34m\u001b[0m\u001b[0;34m\u001b[0m\u001b[0m\n\u001b[0;32m---> 55\u001b[0;31m         \u001b[0mlessons_in_course\u001b[0m \u001b[0;34m=\u001b[0m \u001b[0mget_json_response\u001b[0m\u001b[0;34m(\u001b[0m\u001b[0;34mf'https://www.lingq.com/api/v2/{language_code}/collections/{course_id}/{encoded_course_title}'\u001b[0m\u001b[0;34m)\u001b[0m\u001b[0;34m\u001b[0m\u001b[0;34m\u001b[0m\u001b[0m\n\u001b[0m\u001b[1;32m     56\u001b[0m \u001b[0;34m\u001b[0m\u001b[0m\n\u001b[1;32m     57\u001b[0m         \u001b[0;31m# Create or find the course folder within the language folder\u001b[0m\u001b[0;34m\u001b[0m\u001b[0;34m\u001b[0m\u001b[0m\n",
            "\u001b[0;32m<ipython-input-15-9439e20ebc4a>\u001b[0m in \u001b[0;36mget_json_response\u001b[0;34m(url)\u001b[0m\n\u001b[1;32m      1\u001b[0m \u001b[0;32mdef\u001b[0m \u001b[0mget_json_response\u001b[0m \u001b[0;34m(\u001b[0m\u001b[0murl\u001b[0m\u001b[0;34m)\u001b[0m\u001b[0;34m:\u001b[0m\u001b[0;34m\u001b[0m\u001b[0;34m\u001b[0m\u001b[0m\n\u001b[1;32m      2\u001b[0m   \u001b[0mresponse\u001b[0m \u001b[0;34m=\u001b[0m \u001b[0mrequests\u001b[0m\u001b[0;34m.\u001b[0m\u001b[0mget\u001b[0m\u001b[0;34m(\u001b[0m\u001b[0murl\u001b[0m\u001b[0;34m,\u001b[0m \u001b[0mheaders\u001b[0m\u001b[0;34m=\u001b[0m\u001b[0mheaders\u001b[0m\u001b[0;34m)\u001b[0m\u001b[0;34m\u001b[0m\u001b[0;34m\u001b[0m\u001b[0m\n\u001b[0;32m----> 3\u001b[0;31m   \u001b[0;32mreturn\u001b[0m \u001b[0mresponse\u001b[0m\u001b[0;34m.\u001b[0m\u001b[0mjson\u001b[0m\u001b[0;34m(\u001b[0m\u001b[0;34m)\u001b[0m\u001b[0;34m\u001b[0m\u001b[0;34m\u001b[0m\u001b[0m\n\u001b[0m\u001b[1;32m      4\u001b[0m \u001b[0;34m\u001b[0m\u001b[0m\n\u001b[1;32m      5\u001b[0m \u001b[0;32mdef\u001b[0m \u001b[0mprint_json\u001b[0m \u001b[0;34m(\u001b[0m\u001b[0mjson_parsed\u001b[0m\u001b[0;34m)\u001b[0m\u001b[0;34m:\u001b[0m\u001b[0;34m\u001b[0m\u001b[0;34m\u001b[0m\u001b[0m\n",
            "\u001b[0;32m/usr/local/lib/python3.10/dist-packages/requests/models.py\u001b[0m in \u001b[0;36mjson\u001b[0;34m(self, **kwargs)\u001b[0m\n\u001b[1;32m    973\u001b[0m             \u001b[0;31m# Catch JSON-related errors and raise as requests.JSONDecodeError\u001b[0m\u001b[0;34m\u001b[0m\u001b[0;34m\u001b[0m\u001b[0m\n\u001b[1;32m    974\u001b[0m             \u001b[0;31m# This aliases json.JSONDecodeError and simplejson.JSONDecodeError\u001b[0m\u001b[0;34m\u001b[0m\u001b[0;34m\u001b[0m\u001b[0m\n\u001b[0;32m--> 975\u001b[0;31m             \u001b[0;32mraise\u001b[0m \u001b[0mRequestsJSONDecodeError\u001b[0m\u001b[0;34m(\u001b[0m\u001b[0me\u001b[0m\u001b[0;34m.\u001b[0m\u001b[0mmsg\u001b[0m\u001b[0;34m,\u001b[0m \u001b[0me\u001b[0m\u001b[0;34m.\u001b[0m\u001b[0mdoc\u001b[0m\u001b[0;34m,\u001b[0m \u001b[0me\u001b[0m\u001b[0;34m.\u001b[0m\u001b[0mpos\u001b[0m\u001b[0;34m)\u001b[0m\u001b[0;34m\u001b[0m\u001b[0;34m\u001b[0m\u001b[0m\n\u001b[0m\u001b[1;32m    976\u001b[0m \u001b[0;34m\u001b[0m\u001b[0m\n\u001b[1;32m    977\u001b[0m     \u001b[0;34m@\u001b[0m\u001b[0mproperty\u001b[0m\u001b[0;34m\u001b[0m\u001b[0;34m\u001b[0m\u001b[0m\n",
            "\u001b[0;31mJSONDecodeError\u001b[0m: Expecting value: line 1 column 1 (char 0)"
          ]
        }
      ]
    }
  ]
}