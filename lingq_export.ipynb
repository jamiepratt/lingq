{
  "nbformat": 4,
  "nbformat_minor": 0,
  "metadata": {
    "colab": {
      "provenance": [],
      "authorship_tag": "ABX9TyOALjzTpDnx2LAxvEA/H0YZ"
    },
    "kernelspec": {
      "name": "python3",
      "display_name": "Python 3"
    },
    "language_info": {
      "name": "python"
    }
  },
  "cells": [
    {
      "cell_type": "markdown",
      "source": [
        "\n",
        "\n",
        "You need to provide your lingq api key when prompted which you can get from here:\n",
        "\n",
        "https://www.lingq.com/en/accounts/apikey/\n"
      ],
      "metadata": {
        "id": "BOkv1G1ZB-G7"
      }
    },
    {
      "cell_type": "markdown",
      "source": [
        "To run the script select \"Run all\" from the \"Runtime\" menu above."
      ],
      "metadata": {
        "id": "T_9PeDbxDm2S"
      }
    },
    {
      "cell_type": "markdown",
      "source": [
        "# Initial set up\n"
      ],
      "metadata": {
        "id": "sc80NbX_F6a_"
      }
    },
    {
      "cell_type": "code",
      "execution_count": null,
      "metadata": {
        "id": "qUohFGhNpQfu"
      },
      "outputs": [],
      "source": [
        "#Using Google colab secrets to store lingq api key.\n",
        "from google.colab import userdata\n",
        "\n",
        "import urllib.parse\n",
        "\n",
        "import requests\n",
        "\n",
        "import json\n"
      ]
    },
    {
      "cell_type": "markdown",
      "source": [
        "# Helper Functions"
      ],
      "metadata": {
        "id": "CcAAiJpNGa7-"
      }
    },
    {
      "cell_type": "code",
      "source": [
        "def get_json_response (url):\n",
        "  lingq_api_key=userdata.get('LINGQ_API_KEY');\n",
        "  headers = {\n",
        "    'Authorization': f'Token {lingq_api_key}',\n",
        "    'Content-Type': 'application/json'\n",
        "  }\n",
        "  response = requests.get(f'{url}?page_size=1000', headers=headers)\n",
        "  return response.json()\n",
        "\n",
        "def print_json (json_parsed):\n",
        "  print (json.dumps(json_parsed, indent = 4))\n"
      ],
      "metadata": {
        "id": "c3-1oloMGaNn"
      },
      "execution_count": null,
      "outputs": []
    },
    {
      "cell_type": "code",
      "source": [
        "import spacy\n",
        "from ipywidgets import widgets\n",
        "from IPython.display import display, HTML\n",
        "#@title Choose a language model\n",
        "model = \"pl_core_news_lg\" #@param [\"fi_core_news_lg\", \"de_core_news_lg\", \"en_core_web_lg\", \"nl_core_news_lg\", \"sv_core_news_lg\", \"da_core_news_lg\", \"pl_core_news_lg\", \"ru_core_news_lg\", \"uk_core_news_lg\"]\n",
        "!python -m spacy download {model}\n",
        "\n",
        "spacy.prefer_gpu()\n",
        "\n",
        "nlp = spacy.load(model)\n",
        "\n",
        "# Function to process text and return HTML with color-coded cases and tooltips\n",
        "def process_and_display_paragraph(paragraph):\n",
        "    doc = nlp(paragraph)\n",
        "    highlighted_text = \"\"\n",
        "    for token in doc:\n",
        "        # Retrieve morphological information\n",
        "        case = token.morph.get(\"Case\")\n",
        "        morph = \" \".join(f'{token.morph}'.split(\"|\"))\n",
        "        # Define the tooltip text\n",
        "        tooltip_text = f\"{token.lemma_} {token.pos_} ({morph})\"\n",
        "\n",
        "        # Assign color based on grammatical case\n",
        "        color = \"black\"  # Default color\n",
        "        if case:\n",
        "            if \"Nom\" in case:\n",
        "                color = \"blue\"\n",
        "            elif \"Gen\" in case:\n",
        "                color = \"green\"\n",
        "            elif \"Dat\" in case:\n",
        "                color = \"red\"\n",
        "            elif \"Acc\" in case:\n",
        "                color = \"purple\"\n",
        "            elif \"Ins\" in case:\n",
        "                color = \"orange\"\n",
        "            elif \"Loc\" in case:\n",
        "                color = \"brown\"\n",
        "            elif \"Voc\" in case:\n",
        "                color = \"pink\"\n",
        "\n",
        "        # Append the token span with style and tooltip\n",
        "        highlighted_text += f'<span style=\"color: {color};\" title=\"{tooltip_text}\">{token.text}</span> '\n",
        "\n",
        "    display(HTML(f\"<p>{highlighted_text}</p>\"))\n"
      ],
      "metadata": {
        "id": "e6DRaGmKmZDA"
      },
      "execution_count": null,
      "outputs": []
    },
    {
      "cell_type": "code",
      "source": [
        "course = get_json_response(f'https://www.lingq.com/api/v2/pl/collections/289027')\n",
        "\n",
        "for lesson in course['lessons']:\n",
        "  lesson_details = get_json_response(lesson['url'])\n",
        "  paragraphs = get_json_response(lesson['url'] + 'paragraphs/')\n",
        "  display(HTML(f\"<h2>{lesson_details['title']}</h2>\"))\n",
        "  for paragraph in paragraphs:\n",
        "    joined_sentences = ' '.join(sentence['cleanText'] for sentence in paragraph['sentences'])\n",
        "    process_and_display_paragraph(joined_sentences)\n",
        "\n",
        "\n"
      ],
      "metadata": {
        "id": "f1W3bVr4gLnx"
      },
      "execution_count": null,
      "outputs": []
    }
  ]
}