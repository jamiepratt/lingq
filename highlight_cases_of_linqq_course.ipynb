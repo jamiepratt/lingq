{
  "nbformat": 4,
  "nbformat_minor": 0,
  "metadata": {
    "colab": {
      "provenance": [],
      "authorship_tag": "ABX9TyPhrvn0wKU/Ymc6io4sEToK"
    },
    "kernelspec": {
      "name": "python3",
      "display_name": "Python 3"
    },
    "language_info": {
      "name": "python"
    }
  },
  "cells": [
    {
      "cell_type": "markdown",
      "source": [
        "\n",
        "\n",
        "You need to provide your lingq api key when prompted which you can get from here:\n",
        "\n",
        "https://www.lingq.com/en/accounts/apikey/\n"
      ],
      "metadata": {
        "id": "BOkv1G1ZB-G7"
      }
    },
    {
      "cell_type": "markdown",
      "source": [
        "To run the script select \"Run all\" from the \"Runtime\" menu above."
      ],
      "metadata": {
        "id": "T_9PeDbxDm2S"
      }
    },
    {
      "cell_type": "markdown",
      "source": [
        "# Initial set up\n"
      ],
      "metadata": {
        "id": "sc80NbX_F6a_"
      }
    },
    {
      "cell_type": "code",
      "execution_count": null,
      "metadata": {
        "id": "qUohFGhNpQfu"
      },
      "outputs": [],
      "source": [
        "#Using Google colab secrets to store lingq api key.\n",
        "from google.colab import userdata\n",
        "\n",
        "import urllib.parse\n",
        "\n",
        "import requests\n",
        "\n",
        "import json\n"
      ]
    },
    {
      "cell_type": "markdown",
      "source": [
        "# Helper Functions"
      ],
      "metadata": {
        "id": "CcAAiJpNGa7-"
      }
    },
    {
      "cell_type": "code",
      "source": [
        "def get_json_response (url):\n",
        "  lingq_api_key=userdata.get('LINGQ_API_KEY');\n",
        "  headers = {\n",
        "    'Authorization': f'Token {lingq_api_key}',\n",
        "    'Content-Type': 'application/json'\n",
        "  }\n",
        "  response = requests.get(f'{url}?page_size=1000', headers=headers)\n",
        "  return response.json()\n",
        "\n",
        "def print_json (json_parsed):\n",
        "  print (json.dumps(json_parsed, indent = 4))\n"
      ],
      "metadata": {
        "id": "c3-1oloMGaNn"
      },
      "execution_count": null,
      "outputs": []
    },
    {
      "cell_type": "code",
      "source": [
        "import spacy\n",
        "from ipywidgets import widgets\n",
        "from IPython.display import display, HTML\n",
        "#@title Choose a language model\n",
        "model = \"pl_core_news_lg\" #@param [\"fi_core_news_lg\", \"de_core_news_lg\", \"en_core_web_lg\", \"nl_core_news_lg\", \"sv_core_news_lg\", \"da_core_news_lg\", \"pl_core_news_lg\", \"ru_core_news_lg\", \"uk_core_news_lg\"]\n",
        "!python -m spacy download {model}\n",
        "\n",
        "spacy.prefer_gpu()\n",
        "\n",
        "nlp = spacy.load(model)"
      ],
      "metadata": {
        "id": "ZUwO0q8cJkRS"
      },
      "execution_count": null,
      "outputs": []
    },
    {
      "cell_type": "code",
      "source": [
        "\n",
        "# Function to process text and return HTML with color-coded cases and tooltips\n",
        "def process_and_display_paragraph(paragraph):\n",
        "    doc = nlp(paragraph)\n",
        "    highlighted_text = \"\"\n",
        "    for token in doc:\n",
        "\n",
        "      if token.pos_ == \"PUNCT\" :\n",
        "        highlighted_text += token.text\n",
        "      else :\n",
        "        if not highlighted_text == \"\":\n",
        "          highlighted_text += ' '\n",
        "        # Retrieve morphological information\n",
        "        case = token.morph.get(\"Case\")\n",
        "        morph = \" \".join(f'{token.morph}'.split(\"|\"))\n",
        "        # Define the tooltip text\n",
        "        tooltip_text = f\"{token.lemma_} {token.pos_} ({morph})\"\n",
        "        morph_features = f'{token.morph}'.split(\"|\")\n",
        "        morph_features = [morph_feature.replace(\"=\", \"_\") for morph_feature in morph_features]\n",
        "        morph_features.append(token.pos_)\n",
        "        styling_class = \" \".join(morph_features)\n",
        "\n",
        "        # Append the token span with style and tooltip\n",
        "        highlighted_text += f'<span class=\"{styling_class}\" title=\"{tooltip_text}\">{token.text}</span>'\n",
        "\n",
        "    display(HTML(f\"<p>{highlighted_text}</p>\"))\n"
      ],
      "metadata": {
        "id": "e6DRaGmKmZDA"
      },
      "execution_count": null,
      "outputs": []
    },
    {
      "cell_type": "code",
      "source": [
        "\n",
        "css_style = \"\"\"\n",
        "<style>\n",
        "    .Gender_Fem::after {\n",
        "        content: \" ♀\";\n",
        "        color: pink;\n",
        "        background-color:white;\n",
        "    }\n",
        "    .Gender_Masc::after {\n",
        "        content: \" ♂\";\n",
        "        color: blue;\n",
        "        background-color:white;\n",
        "    }\n",
        "    .Gender_Neut::after {\n",
        "      content: \" ⚧\";\n",
        "      background-color:white;\n",
        "\n",
        "    }\n",
        "    .Gender_Neut:hover,\n",
        "    .Gender_Masc:hover,\n",
        "    .Gender_Fem:hover {border: 1px dashed black;}\n",
        "\n",
        "    .Number_Ptan, .Number_Plur {\n",
        "    text-decoration: underline;\n",
        "    text-decoration-color: currentColor;\n",
        "    }\n",
        "    .Number_Ptan {\n",
        "      text-decoration-style: dashed;\n",
        "\n",
        "    }\n",
        "\n",
        "    .Case_Ins {\n",
        "        color: orange;\n",
        "    }\n",
        "    .Case_Acc {color:green;}\n",
        "\n",
        ".Case_Nom {color: yellow; background-color:lightgray}\n",
        "\n",
        ".Case_Gen {color: burlywood}\n",
        "\n",
        ".Case_Loc {color:white; background-color:lightgray }\n",
        "\n",
        ".Case_Dat {color:aqua; background-color:lightgray }\n",
        "</style>\n",
        "\n",
        "\n",
        "\"\"\"\n"
      ],
      "metadata": {
        "id": "ptq3O-5OJ-k4"
      },
      "execution_count": null,
      "outputs": []
    },
    {
      "cell_type": "code",
      "source": [
        "course = get_json_response(f'https://www.lingq.com/api/v2/pl/collections/289027')\n",
        "display(HTML(css_style))\n",
        "\n",
        "display(HTML(\"\"\"\n",
        "<p>Key:</p>\n",
        "<ul>\n",
        "<li class=\"Number_Plur\">Number_Plur</li>\n",
        "<li class=\"Number_Ptan\">Number_Ptan</li>\n",
        "<li class=\"Gender_Masc\">Gender_Masc</li>\n",
        "<li class=\"Gender_Fem\">Gender_Fem</li>\n",
        "<li class=\"Gender_Neut\">Gender_Neut</li>\n",
        "<li class=\"Case_Nom\">Case_Nom</li>\n",
        "<li class=\"Case_Acc\">Case_Acc</li>\n",
        "<li class=\"Case_Ins\">Case_Ins</li>\n",
        "<li class=\"Case_Gen\">Case_Gen</li>\n",
        "<li class=\"Case_Loc\">Case_Loc</li>\n",
        "<li class=\"Case_Dat\">Case_Dat</li>\n",
        "</ul>\n",
        "\"\"\"))\n",
        "\n",
        "for lesson in course['lessons']:\n",
        "  lesson_details = get_json_response(lesson['url'])\n",
        "  paragraphs = get_json_response(lesson['url'] + 'paragraphs/')\n",
        "  display(HTML(f\"<h2>{lesson_details['title']}</h2>\"))\n",
        "  for paragraph in paragraphs:\n",
        "    joined_sentences = ' '.join(sentence['cleanText'] for sentence in paragraph['sentences'])\n",
        "    process_and_display_paragraph(joined_sentences)\n",
        "\n",
        "\n"
      ],
      "metadata": {
        "id": "f1W3bVr4gLnx"
      },
      "execution_count": null,
      "outputs": []
    },
    {
      "cell_type": "code",
      "source": [],
      "metadata": {
        "id": "U6ca_-UtEGt9"
      },
      "execution_count": null,
      "outputs": []
    }
  ]
}