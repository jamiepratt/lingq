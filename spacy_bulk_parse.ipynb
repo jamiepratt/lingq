{
  "cells": [
    {
      "cell_type": "markdown",
      "metadata": {
        "id": "Lj-Dqzx8oeXg"
      },
      "source": [
        "### Access Google Drive Directory and Google Sheets\n",
        "\n",
        "Mount your Google Drive to access files from it."
      ]
    },
    {
      "cell_type": "code",
      "metadata": {
        "colab": {
          "base_uri": "https://localhost:8080/"
        },
        "id": "VWKeAINWoeXg",
        "outputId": "b94378d5-f75c-4b7c-8c35-139cdedc7bcd"
      },
      "source": [
        "from google.colab import drive\n",
        "drive.mount('/content/drive')"
      ],
      "execution_count": 8,
      "outputs": [
        {
          "output_type": "stream",
          "name": "stdout",
          "text": [
            "Drive already mounted at /content/drive; to attempt to forcibly remount, call drive.mount(\"/content/drive\", force_remount=True).\n"
          ]
        }
      ]
    },
    {
      "cell_type": "markdown",
      "metadata": {
        "id": "dvn0VWT-oeXg"
      },
      "source": [
        "Specify the directory in your Google Drive that you want to access."
      ]
    },
    {
      "cell_type": "code",
      "metadata": {
        "colab": {
          "base_uri": "https://localhost:8080/",
          "height": 35
        },
        "id": "PrW1G-yJoeXh",
        "outputId": "648344a8-8df0-40f1-9d1e-ffea414afc64"
      },
      "source": [
        "# Replace 'your-directory-path' with your specific directory path\n",
        "sub_dir = \"lingq_texts/pl/Daily Polish Story/\"  #@param {type:\"string\"}\n",
        "drive_directory = '/content/drive/MyDrive/' + sub_dir\n",
        "drive_directory"
      ],
      "execution_count": 9,
      "outputs": [
        {
          "output_type": "execute_result",
          "data": {
            "text/plain": [
              "'/content/drive/MyDrive/lingq_texts/pl/Daily Polish Story/'"
            ],
            "application/vnd.google.colaboratory.intrinsic+json": {
              "type": "string"
            }
          },
          "metadata": {},
          "execution_count": 9
        }
      ]
    },
    {
      "cell_type": "code",
      "source": [
        "from google.colab import auth\n",
        "auth.authenticate_user()\n",
        "\n",
        "import gspread\n",
        "from google.auth import default\n",
        "creds, _ = default()\n",
        "\n",
        "gc = gspread.authorize(creds)\n"
      ],
      "metadata": {
        "id": "U4eJuxZ1us2s"
      },
      "execution_count": 10,
      "outputs": []
    },
    {
      "cell_type": "code",
      "source": [
        "import spacy\n",
        "\n",
        "#@title Choose a language model\n",
        "model = \"pl_core_news_lg\" #@param [\"pl_core_news_lg\", \"ca_core_news_sm\", \"da_core_news_sm\", \"de_core_news_sm\", \"el_core_news_sm\", \"en_core_web_sm\", \"es_core_news_sm\", \"fi_core_news_sm\", \"fr_core_news_sm\", \"hr_core_news_sm\", \"it_core_news_sm\", \"ja_core_news_sm\", \"ko_core_news_sm\", \"lt_core_news_sm\", \"mk_core_news_sm\", \"nb_core_news_sm\", \"nl_core_news_sm\", \"pt_core_news_sm\", \"ro_core_news_sm\", \"sl_core_news_sm\", \"sv_core_news_sm\", \"ru_core_news_sm\", \"uk_core_news_sm\", \"xx_ent_wiki_sm\", \"xx_sent_ud_sm\", \"zh_core_web_sm\"]\n",
        "!python -m spacy download {model}\n",
        "\n",
        "spacy.prefer_gpu()\n",
        "\n",
        "nlp = spacy.load(model)"
      ],
      "metadata": {
        "colab": {
          "base_uri": "https://localhost:8080/"
        },
        "id": "C9fn8lHY0ctJ",
        "outputId": "efb19057-8685-4f2e-f5f9-0c31df553ac5"
      },
      "execution_count": 11,
      "outputs": [
        {
          "output_type": "stream",
          "name": "stdout",
          "text": [
            "2023-12-28 11:12:51.888142: E external/local_xla/xla/stream_executor/cuda/cuda_dnn.cc:9261] Unable to register cuDNN factory: Attempting to register factory for plugin cuDNN when one has already been registered\n",
            "2023-12-28 11:12:51.888207: E external/local_xla/xla/stream_executor/cuda/cuda_fft.cc:607] Unable to register cuFFT factory: Attempting to register factory for plugin cuFFT when one has already been registered\n",
            "2023-12-28 11:12:51.889798: E external/local_xla/xla/stream_executor/cuda/cuda_blas.cc:1515] Unable to register cuBLAS factory: Attempting to register factory for plugin cuBLAS when one has already been registered\n",
            "2023-12-28 11:12:53.196311: W tensorflow/compiler/tf2tensorrt/utils/py_utils.cc:38] TF-TRT Warning: Could not find TensorRT\n",
            "Collecting pl-core-news-lg==3.6.0\n",
            "  Downloading https://github.com/explosion/spacy-models/releases/download/pl_core_news_lg-3.6.0/pl_core_news_lg-3.6.0-py3-none-any.whl (573.7 MB)\n",
            "\u001b[2K     \u001b[90m━━━━━━━━━━━━━━━━━━━━━━━━━━━━━━━━━━━━━━━━\u001b[0m \u001b[32m573.7/573.7 MB\u001b[0m \u001b[31m1.6 MB/s\u001b[0m eta \u001b[36m0:00:00\u001b[0m\n",
            "\u001b[?25hRequirement already satisfied: spacy<3.7.0,>=3.6.0 in /usr/local/lib/python3.10/dist-packages (from pl-core-news-lg==3.6.0) (3.6.1)\n",
            "Requirement already satisfied: spacy-legacy<3.1.0,>=3.0.11 in /usr/local/lib/python3.10/dist-packages (from spacy<3.7.0,>=3.6.0->pl-core-news-lg==3.6.0) (3.0.12)\n",
            "Requirement already satisfied: spacy-loggers<2.0.0,>=1.0.0 in /usr/local/lib/python3.10/dist-packages (from spacy<3.7.0,>=3.6.0->pl-core-news-lg==3.6.0) (1.0.5)\n",
            "Requirement already satisfied: murmurhash<1.1.0,>=0.28.0 in /usr/local/lib/python3.10/dist-packages (from spacy<3.7.0,>=3.6.0->pl-core-news-lg==3.6.0) (1.0.10)\n",
            "Requirement already satisfied: cymem<2.1.0,>=2.0.2 in /usr/local/lib/python3.10/dist-packages (from spacy<3.7.0,>=3.6.0->pl-core-news-lg==3.6.0) (2.0.8)\n",
            "Requirement already satisfied: preshed<3.1.0,>=3.0.2 in /usr/local/lib/python3.10/dist-packages (from spacy<3.7.0,>=3.6.0->pl-core-news-lg==3.6.0) (3.0.9)\n",
            "Requirement already satisfied: thinc<8.2.0,>=8.1.8 in /usr/local/lib/python3.10/dist-packages (from spacy<3.7.0,>=3.6.0->pl-core-news-lg==3.6.0) (8.1.12)\n",
            "Requirement already satisfied: wasabi<1.2.0,>=0.9.1 in /usr/local/lib/python3.10/dist-packages (from spacy<3.7.0,>=3.6.0->pl-core-news-lg==3.6.0) (1.1.2)\n",
            "Requirement already satisfied: srsly<3.0.0,>=2.4.3 in /usr/local/lib/python3.10/dist-packages (from spacy<3.7.0,>=3.6.0->pl-core-news-lg==3.6.0) (2.4.8)\n",
            "Requirement already satisfied: catalogue<2.1.0,>=2.0.6 in /usr/local/lib/python3.10/dist-packages (from spacy<3.7.0,>=3.6.0->pl-core-news-lg==3.6.0) (2.0.10)\n",
            "Requirement already satisfied: typer<0.10.0,>=0.3.0 in /usr/local/lib/python3.10/dist-packages (from spacy<3.7.0,>=3.6.0->pl-core-news-lg==3.6.0) (0.9.0)\n",
            "Requirement already satisfied: pathy>=0.10.0 in /usr/local/lib/python3.10/dist-packages (from spacy<3.7.0,>=3.6.0->pl-core-news-lg==3.6.0) (0.10.3)\n",
            "Requirement already satisfied: smart-open<7.0.0,>=5.2.1 in /usr/local/lib/python3.10/dist-packages (from spacy<3.7.0,>=3.6.0->pl-core-news-lg==3.6.0) (6.4.0)\n",
            "Requirement already satisfied: tqdm<5.0.0,>=4.38.0 in /usr/local/lib/python3.10/dist-packages (from spacy<3.7.0,>=3.6.0->pl-core-news-lg==3.6.0) (4.66.1)\n",
            "Requirement already satisfied: numpy>=1.15.0 in /usr/local/lib/python3.10/dist-packages (from spacy<3.7.0,>=3.6.0->pl-core-news-lg==3.6.0) (1.23.5)\n",
            "Requirement already satisfied: requests<3.0.0,>=2.13.0 in /usr/local/lib/python3.10/dist-packages (from spacy<3.7.0,>=3.6.0->pl-core-news-lg==3.6.0) (2.31.0)\n",
            "Requirement already satisfied: pydantic!=1.8,!=1.8.1,<3.0.0,>=1.7.4 in /usr/local/lib/python3.10/dist-packages (from spacy<3.7.0,>=3.6.0->pl-core-news-lg==3.6.0) (1.10.13)\n",
            "Requirement already satisfied: jinja2 in /usr/local/lib/python3.10/dist-packages (from spacy<3.7.0,>=3.6.0->pl-core-news-lg==3.6.0) (3.1.2)\n",
            "Requirement already satisfied: setuptools in /usr/local/lib/python3.10/dist-packages (from spacy<3.7.0,>=3.6.0->pl-core-news-lg==3.6.0) (67.7.2)\n",
            "Requirement already satisfied: packaging>=20.0 in /usr/local/lib/python3.10/dist-packages (from spacy<3.7.0,>=3.6.0->pl-core-news-lg==3.6.0) (23.2)\n",
            "Requirement already satisfied: langcodes<4.0.0,>=3.2.0 in /usr/local/lib/python3.10/dist-packages (from spacy<3.7.0,>=3.6.0->pl-core-news-lg==3.6.0) (3.3.0)\n",
            "Requirement already satisfied: typing-extensions>=4.2.0 in /usr/local/lib/python3.10/dist-packages (from pydantic!=1.8,!=1.8.1,<3.0.0,>=1.7.4->spacy<3.7.0,>=3.6.0->pl-core-news-lg==3.6.0) (4.5.0)\n",
            "Requirement already satisfied: charset-normalizer<4,>=2 in /usr/local/lib/python3.10/dist-packages (from requests<3.0.0,>=2.13.0->spacy<3.7.0,>=3.6.0->pl-core-news-lg==3.6.0) (3.3.2)\n",
            "Requirement already satisfied: idna<4,>=2.5 in /usr/local/lib/python3.10/dist-packages (from requests<3.0.0,>=2.13.0->spacy<3.7.0,>=3.6.0->pl-core-news-lg==3.6.0) (3.6)\n",
            "Requirement already satisfied: urllib3<3,>=1.21.1 in /usr/local/lib/python3.10/dist-packages (from requests<3.0.0,>=2.13.0->spacy<3.7.0,>=3.6.0->pl-core-news-lg==3.6.0) (2.0.7)\n",
            "Requirement already satisfied: certifi>=2017.4.17 in /usr/local/lib/python3.10/dist-packages (from requests<3.0.0,>=2.13.0->spacy<3.7.0,>=3.6.0->pl-core-news-lg==3.6.0) (2023.11.17)\n",
            "Requirement already satisfied: blis<0.8.0,>=0.7.8 in /usr/local/lib/python3.10/dist-packages (from thinc<8.2.0,>=8.1.8->spacy<3.7.0,>=3.6.0->pl-core-news-lg==3.6.0) (0.7.11)\n",
            "Requirement already satisfied: confection<1.0.0,>=0.0.1 in /usr/local/lib/python3.10/dist-packages (from thinc<8.2.0,>=8.1.8->spacy<3.7.0,>=3.6.0->pl-core-news-lg==3.6.0) (0.1.4)\n",
            "Requirement already satisfied: click<9.0.0,>=7.1.1 in /usr/local/lib/python3.10/dist-packages (from typer<0.10.0,>=0.3.0->spacy<3.7.0,>=3.6.0->pl-core-news-lg==3.6.0) (8.1.7)\n",
            "Requirement already satisfied: MarkupSafe>=2.0 in /usr/local/lib/python3.10/dist-packages (from jinja2->spacy<3.7.0,>=3.6.0->pl-core-news-lg==3.6.0) (2.1.3)\n",
            "\u001b[38;5;2m✔ Download and installation successful\u001b[0m\n",
            "You can now load the package via spacy.load('pl_core_news_lg')\n"
          ]
        }
      ]
    },
    {
      "cell_type": "markdown",
      "metadata": {
        "id": "wohayCZBoeXh"
      },
      "source": [
        "### Step 3: Iterate Through Files and Output Content of .txt Files\n",
        "\n",
        "Define a function to iterate through files in a directory and print the content of `.txt` files."
      ]
    },
    {
      "cell_type": "code",
      "source": [],
      "metadata": {
        "id": "qyR7cc7QulPw"
      },
      "execution_count": 16,
      "outputs": []
    },
    {
      "cell_type": "code",
      "source": [
        "# see https://github.com/jamiepratt/lingq/blob/main/spacy_experiments.ipynb for how I calculated this:\n",
        "data_cols = [\"filename\", \"directory\", \"token_no\", \"term\", \"lemma\", \"pos\", \"part of speech\", \"sentence\", \"morph\", \"tags\"]\n",
        "\n",
        "pos_to_skip = [\"PUNCT\", \"CCONJ\", \"SPACE\", \"X\", \"INTJ\", \"SYM\"]"
      ],
      "metadata": {
        "id": "asHbDHSDwTQJ"
      },
      "execution_count": 17,
      "outputs": []
    },
    {
      "cell_type": "code",
      "metadata": {
        "id": "T1jr_fNaoeXh"
      },
      "source": [
        "import os\n",
        "\n",
        "def spacy_data_from_txt_files_content(directory):\n",
        "    data = []\n",
        "    for root, dirs, files in os.walk(directory):\n",
        "        for file_name in files:\n",
        "            if file_name.endswith('.txt'):\n",
        "                file_path = os.path.join(root, file_name)\n",
        "                with open(file_path, 'r') as file:\n",
        "                    print(f\"Processing contents of {file_path}:\\n\")\n",
        "                    doc = nlp(file.read())\n",
        "                    for t in doc:\n",
        "                      if t.pos_ not in pos_to_skip:\n",
        "                        explained = spacy.explain(t.pos_)\n",
        "                        t_data = [file_name, root, t.i, t.text, t.lemma_,\n",
        "                                  t.pos_, explained, t.sent.text, f'{t.morph}',\n",
        "                                  \" \".join([explained] + f'{t.morph}'.split(\"|\"))]\n",
        "                        data.append(t_data)\n",
        "\n",
        "    return data"
      ],
      "execution_count": 20,
      "outputs": []
    },
    {
      "cell_type": "code",
      "metadata": {
        "colab": {
          "base_uri": "https://localhost:8080/"
        },
        "id": "O1nOVUujoeXh",
        "outputId": "4fb289d3-2ea6-4cd6-b09b-e154581f40a2"
      },
      "source": [
        "spacy_data = spacy_data_from_txt_files_content(drive_directory)"
      ],
      "execution_count": 21,
      "outputs": [
        {
          "output_type": "stream",
          "name": "stdout",
          "text": [
            "Processing contents of /content/drive/MyDrive/lingq_texts/pl/Daily Polish Story/001A-Marta próbowała usnąć, ale nie mogła..txt:\n",
            "\n",
            "Processing contents of /content/drive/MyDrive/lingq_texts/pl/Daily Polish Story/001B-DailyPolishStory-POV.txt:\n",
            "\n",
            "Processing contents of /content/drive/MyDrive/lingq_texts/pl/Daily Polish Story/001C-DailyPolishStory-QA.txt:\n",
            "\n",
            "Processing contents of /content/drive/MyDrive/lingq_texts/pl/Daily Polish Story/002A-\"Marek mył swoje ręce\".txt:\n",
            "\n",
            "Processing contents of /content/drive/MyDrive/lingq_texts/pl/Daily Polish Story/002B-DailyPolishStory-POV.txt:\n",
            "\n",
            "Processing contents of /content/drive/MyDrive/lingq_texts/pl/Daily Polish Story/002C-DailyPolishStory-QA.txt:\n",
            "\n",
            "Processing contents of /content/drive/MyDrive/lingq_texts/pl/Daily Polish Story/003A-\"Robert mało je.\".txt:\n",
            "\n",
            "Processing contents of /content/drive/MyDrive/lingq_texts/pl/Daily Polish Story/003B-DailyPolishStory.txt:\n",
            "\n",
            "Processing contents of /content/drive/MyDrive/lingq_texts/pl/Daily Polish Story/003C-DailyPolishStory-QA.txt:\n",
            "\n",
            "Processing contents of /content/drive/MyDrive/lingq_texts/pl/Daily Polish Story/## 004A-Na podłodze leżała kartka papieru.txt:\n",
            "\n",
            "Processing contents of /content/drive/MyDrive/lingq_texts/pl/Daily Polish Story/004B-DailyPolishStory-POV.txt:\n",
            "\n",
            "Processing contents of /content/drive/MyDrive/lingq_texts/pl/Daily Polish Story/004C-DailyPolishStory-QA.txt:\n",
            "\n",
            "Processing contents of /content/drive/MyDrive/lingq_texts/pl/Daily Polish Story/005A-Kamil kupował sobie nowy samochód.txt:\n",
            "\n",
            "Processing contents of /content/drive/MyDrive/lingq_texts/pl/Daily Polish Story/005B-DailyPolishStory-POV.txt:\n",
            "\n",
            "Processing contents of /content/drive/MyDrive/lingq_texts/pl/Daily Polish Story/005C-DailyPolishStory-QA.txt:\n",
            "\n",
            "Processing contents of /content/drive/MyDrive/lingq_texts/pl/Daily Polish Story/006A-Zuzia odkręciła wodę i umyła jabłko..txt:\n",
            "\n",
            "Processing contents of /content/drive/MyDrive/lingq_texts/pl/Daily Polish Story/006B-DailyPolishStory-POV.txt:\n",
            "\n",
            "Processing contents of /content/drive/MyDrive/lingq_texts/pl/Daily Polish Story/006C-DailyPolishStory-QA.txt:\n",
            "\n",
            "Processing contents of /content/drive/MyDrive/lingq_texts/pl/Daily Polish Story/007A-DailyPolishStory.txt:\n",
            "\n",
            "Processing contents of /content/drive/MyDrive/lingq_texts/pl/Daily Polish Story/007B-DailyPolishStory-POV.txt:\n",
            "\n",
            "Processing contents of /content/drive/MyDrive/lingq_texts/pl/Daily Polish Story/007C-DailyPolishStory-QA.txt:\n",
            "\n",
            "Processing contents of /content/drive/MyDrive/lingq_texts/pl/Daily Polish Story/008A-DailyPolishStory.txt:\n",
            "\n",
            "Processing contents of /content/drive/MyDrive/lingq_texts/pl/Daily Polish Story/008B-DailyPolishStory-POV.txt:\n",
            "\n",
            "Processing contents of /content/drive/MyDrive/lingq_texts/pl/Daily Polish Story/008C-DailyPolishStory-QA.txt:\n",
            "\n",
            "Processing contents of /content/drive/MyDrive/lingq_texts/pl/Daily Polish Story/009A-DailyPolishStory.txt:\n",
            "\n",
            "Processing contents of /content/drive/MyDrive/lingq_texts/pl/Daily Polish Story/009B-DailyPolishStory-POV.txt:\n",
            "\n",
            "Processing contents of /content/drive/MyDrive/lingq_texts/pl/Daily Polish Story/009C-DailyPolishStory-QA.txt:\n",
            "\n",
            "Processing contents of /content/drive/MyDrive/lingq_texts/pl/Daily Polish Story/010A-DailyPolishStory.txt:\n",
            "\n",
            "Processing contents of /content/drive/MyDrive/lingq_texts/pl/Daily Polish Story/010B-DailyPolishStory-POV.txt:\n",
            "\n",
            "Processing contents of /content/drive/MyDrive/lingq_texts/pl/Daily Polish Story/010C-DailyPolishStory-QA.txt:\n",
            "\n",
            "Processing contents of /content/drive/MyDrive/lingq_texts/pl/Daily Polish Story/011A-DailyPolishStory.txt:\n",
            "\n",
            "Processing contents of /content/drive/MyDrive/lingq_texts/pl/Daily Polish Story/011B-DailyPolishStory-POV.txt:\n",
            "\n",
            "Processing contents of /content/drive/MyDrive/lingq_texts/pl/Daily Polish Story/011C-DailyPolishStory-QA.txt:\n",
            "\n",
            "Processing contents of /content/drive/MyDrive/lingq_texts/pl/Daily Polish Story/## 012A-\"W sklepie\".txt:\n",
            "\n",
            "Processing contents of /content/drive/MyDrive/lingq_texts/pl/Daily Polish Story/012B-DailyPolishStory-POV.txt:\n",
            "\n",
            "Processing contents of /content/drive/MyDrive/lingq_texts/pl/Daily Polish Story/012C-DailyPolishStory-QA.txt:\n",
            "\n",
            "Processing contents of /content/drive/MyDrive/lingq_texts/pl/Daily Polish Story/013A-DailyPolishStory.txt:\n",
            "\n",
            "Processing contents of /content/drive/MyDrive/lingq_texts/pl/Daily Polish Story/013B-DailyPolishStory-POV.txt:\n",
            "\n",
            "Processing contents of /content/drive/MyDrive/lingq_texts/pl/Daily Polish Story/013C-DailyPolishStory-QA.txt:\n",
            "\n",
            "Processing contents of /content/drive/MyDrive/lingq_texts/pl/Daily Polish Story/014A-Wieczór Dawida.txt:\n",
            "\n",
            "Processing contents of /content/drive/MyDrive/lingq_texts/pl/Daily Polish Story/014B-DailyPolishStory-POV.txt:\n",
            "\n",
            "Processing contents of /content/drive/MyDrive/lingq_texts/pl/Daily Polish Story/014C-DailyPolishStory-QA.txt:\n",
            "\n",
            "Processing contents of /content/drive/MyDrive/lingq_texts/pl/Daily Polish Story/015A-DailyPolishStory.txt:\n",
            "\n",
            "Processing contents of /content/drive/MyDrive/lingq_texts/pl/Daily Polish Story/015B-DailyPolishStory-POV.txt:\n",
            "\n",
            "Processing contents of /content/drive/MyDrive/lingq_texts/pl/Daily Polish Story/015C-DailyPolishStory-QA.txt:\n",
            "\n",
            "Processing contents of /content/drive/MyDrive/lingq_texts/pl/Daily Polish Story/016A-DailyPolishStory.txt:\n",
            "\n",
            "Processing contents of /content/drive/MyDrive/lingq_texts/pl/Daily Polish Story/016B-DailyPolishStory-POV.txt:\n",
            "\n",
            "Processing contents of /content/drive/MyDrive/lingq_texts/pl/Daily Polish Story/016C-DailyPolishStory-QA.txt:\n",
            "\n",
            "Processing contents of /content/drive/MyDrive/lingq_texts/pl/Daily Polish Story/017A-DailyPolishStory.txt:\n",
            "\n",
            "Processing contents of /content/drive/MyDrive/lingq_texts/pl/Daily Polish Story/017B-DailyPolishStory-POV.txt:\n",
            "\n",
            "Processing contents of /content/drive/MyDrive/lingq_texts/pl/Daily Polish Story/017C-DailyPolishStory-QA.txt:\n",
            "\n",
            "Processing contents of /content/drive/MyDrive/lingq_texts/pl/Daily Polish Story/018B-DailyPolishStory-POV.txt:\n",
            "\n",
            "Processing contents of /content/drive/MyDrive/lingq_texts/pl/Daily Polish Story/018A-DailyPolishStory.txt:\n",
            "\n",
            "Processing contents of /content/drive/MyDrive/lingq_texts/pl/Daily Polish Story/018C-DailyPolishStory-QA.txt:\n",
            "\n",
            "Processing contents of /content/drive/MyDrive/lingq_texts/pl/Daily Polish Story/019A-DailyPolishStory.txt:\n",
            "\n",
            "Processing contents of /content/drive/MyDrive/lingq_texts/pl/Daily Polish Story/019B-DailyPolishStory-POV.txt:\n",
            "\n",
            "Processing contents of /content/drive/MyDrive/lingq_texts/pl/Daily Polish Story/019C-DailyPolishStory-QA.txt:\n",
            "\n",
            "Processing contents of /content/drive/MyDrive/lingq_texts/pl/Daily Polish Story/020A-DailyPolishStory.txt:\n",
            "\n",
            "Processing contents of /content/drive/MyDrive/lingq_texts/pl/Daily Polish Story/020B-DailyPolishStory-POV.txt:\n",
            "\n",
            "Processing contents of /content/drive/MyDrive/lingq_texts/pl/Daily Polish Story/020C-DailyPolishStory-QA.txt:\n",
            "\n",
            "Processing contents of /content/drive/MyDrive/lingq_texts/pl/Daily Polish Story/021A-DailyPolishStory.txt:\n",
            "\n",
            "Processing contents of /content/drive/MyDrive/lingq_texts/pl/Daily Polish Story/021C-DailyPolishStory-QA.txt:\n",
            "\n",
            "Processing contents of /content/drive/MyDrive/lingq_texts/pl/Daily Polish Story/022A-DailyPolishStory.txt:\n",
            "\n",
            "Processing contents of /content/drive/MyDrive/lingq_texts/pl/Daily Polish Story/022B-DailyPolishStory-POV.txt:\n",
            "\n",
            "Processing contents of /content/drive/MyDrive/lingq_texts/pl/Daily Polish Story/022C-DailyPolishStory-QA.txt:\n",
            "\n"
          ]
        }
      ]
    },
    {
      "cell_type": "code",
      "source": [
        "spacy_data[0]\n"
      ],
      "metadata": {
        "colab": {
          "base_uri": "https://localhost:8080/"
        },
        "id": "RjjEoaII6Cqf",
        "outputId": "17eebdcf-af09-4864-cf4f-191d7fece3eb"
      },
      "execution_count": 22,
      "outputs": [
        {
          "output_type": "execute_result",
          "data": {
            "text/plain": [
              "[\"<_io.TextIOWrapper name='/content/drive/MyDrive/lingq_texts/pl/Daily Polish Story/001A-Marta próbowała usnąć, ale nie mogła..txt' mode='r' encoding='UTF-8'>\",\n",
              " '/content/drive/MyDrive/lingq_texts/pl/Daily Polish Story/',\n",
              " 2,\n",
              " 'Witam',\n",
              " 'witać',\n",
              " 'VERB',\n",
              " 'verb',\n",
              " 'Witam i zapraszam na pierwszą historyjkę pod tytułem Marta nie może spać.',\n",
              " 'Aspect=Imp|Mood=Ind|Number=Sing|Person=1|Tense=Pres|VerbForm=Fin|Voice=Act',\n",
              " 'verb Aspect=Imp Mood=Ind Number=Sing Person=1 Tense=Pres VerbForm=Fin Voice=Act']"
            ]
          },
          "metadata": {},
          "execution_count": 22
        }
      ]
    },
    {
      "cell_type": "code",
      "source": [
        "\n",
        "# Create a New Google Sheet\n",
        "sh = gc.create(f'spaCy analysis of {drive_directory}')\n",
        "# Open the Google Sheet with gspread\n",
        "worksheet = sh.get_worksheet(0)  # '0' refers to the first sheet\n",
        "\n",
        "# Update the sheet with DataFrame values\n",
        "worksheet.update('A1', [data_cols] + spacy_data)"
      ],
      "metadata": {
        "colab": {
          "base_uri": "https://localhost:8080/"
        },
        "id": "VqxmwR9cyz3A",
        "outputId": "f4a1afa6-961a-40a1-f275-e25bcdd6edd9"
      },
      "execution_count": 23,
      "outputs": [
        {
          "output_type": "execute_result",
          "data": {
            "text/plain": [
              "{'spreadsheetId': '1p90L7lDxJikkzJ2JLeZiLvCdXwro_cZdHzRKJmNkfvM',\n",
              " 'updatedRange': 'Sheet1!A1:J18783',\n",
              " 'updatedRows': 18783,\n",
              " 'updatedColumns': 10,\n",
              " 'updatedCells': 187830}"
            ]
          },
          "metadata": {},
          "execution_count": 23
        }
      ]
    },
    {
      "cell_type": "code",
      "source": [],
      "metadata": {
        "id": "wkp3hQlI6AZr"
      },
      "execution_count": 23,
      "outputs": []
    }
  ],
  "metadata": {
    "kernelspec": {
      "name": "python3",
      "display_name": "Python 3"
    },
    "language_info": {
      "name": "python",
      "version": "3.x",
      "mimetype": "text/x-python",
      "codemirror_mode": {
        "name": "ipython",
        "version": 3
      },
      "pygments_lexer": "ipython3",
      "nbconvert_exporter": "python",
      "file_extension": ".py"
    },
    "colab": {
      "provenance": []
    }
  },
  "nbformat": 4,
  "nbformat_minor": 0
}