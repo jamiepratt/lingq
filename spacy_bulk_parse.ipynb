{
    "cells": [
      {
        "cell_type": "markdown",
        "metadata": {},
        "source": [
          "### Step 1: Upload Files and Uncompress Archives\n",
          "\n",
          "First, let's import the necessary modules and define a function for uncompressing files."
        ]
      },
      {
        "cell_type": "code",
        "metadata": {},
        "source": [
          "from google.colab import files\n",
          "import os, tarfile, zipfile\n",
          "\n",
          "def uncompress_file(file_name, destination):\n",
          "    if file_name.endswith('.tar.gz') or file_name.endswith('.tar'):\n",
          "        with tarfile.open(file_name, 'r:*') as tar:\n",
          "            tar.extractall(path=destination)\n",
          "    elif file_name.endswith('.zip'):\n",
          "        with zipfile.ZipFile(file_name, 'r') as zip_ref:\n",
          "            zip_ref.extractall(destination)"
        ],
        "execution_count": null,
        "outputs": []
      },
      {
        "cell_type": "markdown",
        "metadata": {},
        "source": [
          "Now, upload the files and uncompress any archives."
        ]
      },
      {
        "cell_type": "code",
        "metadata": {},
        "source": [
          "os.makedirs('/content/uncompressed_files', exist_ok=True)\n",
          "\n",
          "uploaded = files.upload()\n",
          "\n",
          "for filename in uploaded.keys():\n",
          "    if filename.endswith(('.tar', '.tar.gz', '.zip')):\n",
          "        uncompress_file(filename, '/content/uncompressed_files')\n",
          "    else:\n",
          "        # Move non-archive files to the uncompressed_files directory\n",
          "        os.rename(filename, f'/content/uncompressed_files/{filename}')"
        ],
        "execution_count": null,
        "outputs": []
      },
      {
        "cell_type": "markdown",
        "metadata": {},
        "source": [
          "### Step 2: Access Google Drive Directory\n",
          "\n",
          "Mount your Google Drive to access files from it."
        ]
      },
      {
        "cell_type": "code",
        "metadata": {},
        "source": [
          "from google.colab import drive\n",
          "drive.mount('/content/drive')"
        ],
        "execution_count": null,
        "outputs": []
      },
      {
        "cell_type": "markdown",
        "metadata": {},
        "source": [
          "Specify the directory in your Google Drive that you want to access."
        ]
      },
      {
        "cell_type": "code",
        "metadata": {},
        "source": [
          "# Replace 'your-directory-path' with your specific directory path\n",
          "drive_directory = '/content/drive/My Drive/your-directory-path'"
        ],
        "execution_count": null,
        "outputs": []
      },
      {
        "cell_type": "markdown",
        "metadata": {},
        "source": [
          "### Step 3: Iterate Through Files and Output Content of .txt Files\n",
          "\n",
          "Define a function to iterate through files in a directory and print the content of `.txt` files."
        ]
      },
      {
        "cell_type": "code",
        "metadata": {},
        "source": [
          "def print_txt_file_content(directory):\n",
          "    for root, dirs, files in os.walk(directory):\n",
          "        for file in files:\n",
          "            if file.endswith('.txt'):\n",
          "                file_path = os.path.join(root, file)\n",
          "                with open(file_path, 'r') as file:\n",
          "                    print(f\"Contents of {file_path}:\\n\")\n",
          "                    print(file.read())\n",
          "                    print(\"\\n-----\\n\")"
        ],
        "execution_count": null,
        "outputs": []
      },
      {
        "cell_type": "code",
        "metadata": {},
        "source": [
          "print_txt_file_content('/content/uncompressed_files')\n",
          "print_txt_file_content(drive_directory)"
        ],
        "execution_count": null,
        "outputs": []
      }
    ],
    "metadata": {
      "kernelspec": {
        "name": "python3",
        "display_name": "Python 3"
      },
      "language_info": {
        "name": "python",
        "version": "3.x",
        "mimetype": "text/x-python",
        "codemirror_mode": {
          "name": "ipython",
          "version": 3
        },
        "pygments_lexer": "ipython3",
        "nbconvert_exporter": "python",
        "file_extension": ".py"
      }
    },
    "nbformat": 4,
    "nbformat_minor": 2
  }
  