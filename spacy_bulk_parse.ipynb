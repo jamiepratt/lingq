{
  "cells": [
    {
      "cell_type": "markdown",
      "metadata": {
        "id": "iyCVob9soeXd"
      },
      "source": [
        "### Step 1: Upload Files and Uncompress Archives\n",
        "\n",
        "First, let's import the necessary modules and define a function for uncompressing files."
      ]
    },
    {
      "cell_type": "code",
      "metadata": {
        "id": "Go1L3JkCoeXe"
      },
      "source": [
        "from google.colab import files\n",
        "import os, tarfile, zipfile\n",
        "\n",
        "def uncompress_file(file_name, destination):\n",
        "    if file_name.endswith('.tar.gz') or file_name.endswith('.tar'):\n",
        "        with tarfile.open(file_name, 'r:*') as tar:\n",
        "            tar.extractall(path=destination)\n",
        "    elif file_name.endswith('.zip'):\n",
        "        with zipfile.ZipFile(file_name, 'r') as zip_ref:\n",
        "            zip_ref.extractall(destination)"
      ],
      "execution_count": 1,
      "outputs": []
    },
    {
      "cell_type": "markdown",
      "metadata": {
        "id": "xrsVzG6aoeXf"
      },
      "source": [
        "Now, upload the files and uncompress any archives."
      ]
    },
    {
      "cell_type": "code",
      "metadata": {
        "colab": {
          "base_uri": "https://localhost:8080/",
          "height": 39
        },
        "id": "tnvfDLesoeXf",
        "outputId": "b6696e3a-a49c-4084-d1f8-0df8b1ea2f96"
      },
      "source": [
        "os.makedirs('/content/uncompressed_files', exist_ok=True)\n",
        "\n",
        "uploaded = files.upload()\n",
        "\n",
        "for filename in uploaded.keys():\n",
        "    if filename.endswith(('.tar', '.tar.gz', '.zip')):\n",
        "        uncompress_file(filename, '/content/uncompressed_files')\n",
        "    else:\n",
        "        # Move non-archive files to the uncompressed_files directory\n",
        "        os.rename(filename, f'/content/uncompressed_files/{filename}')"
      ],
      "execution_count": 2,
      "outputs": [
        {
          "output_type": "display_data",
          "data": {
            "text/plain": [
              "<IPython.core.display.HTML object>"
            ],
            "text/html": [
              "\n",
              "     <input type=\"file\" id=\"files-ce173636-dd8d-4a4f-87df-3181af537b4a\" name=\"files[]\" multiple disabled\n",
              "        style=\"border:none\" />\n",
              "     <output id=\"result-ce173636-dd8d-4a4f-87df-3181af537b4a\">\n",
              "      Upload widget is only available when the cell has been executed in the\n",
              "      current browser session. Please rerun this cell to enable.\n",
              "      </output>\n",
              "      <script>// Copyright 2017 Google LLC\n",
              "//\n",
              "// Licensed under the Apache License, Version 2.0 (the \"License\");\n",
              "// you may not use this file except in compliance with the License.\n",
              "// You may obtain a copy of the License at\n",
              "//\n",
              "//      http://www.apache.org/licenses/LICENSE-2.0\n",
              "//\n",
              "// Unless required by applicable law or agreed to in writing, software\n",
              "// distributed under the License is distributed on an \"AS IS\" BASIS,\n",
              "// WITHOUT WARRANTIES OR CONDITIONS OF ANY KIND, either express or implied.\n",
              "// See the License for the specific language governing permissions and\n",
              "// limitations under the License.\n",
              "\n",
              "/**\n",
              " * @fileoverview Helpers for google.colab Python module.\n",
              " */\n",
              "(function(scope) {\n",
              "function span(text, styleAttributes = {}) {\n",
              "  const element = document.createElement('span');\n",
              "  element.textContent = text;\n",
              "  for (const key of Object.keys(styleAttributes)) {\n",
              "    element.style[key] = styleAttributes[key];\n",
              "  }\n",
              "  return element;\n",
              "}\n",
              "\n",
              "// Max number of bytes which will be uploaded at a time.\n",
              "const MAX_PAYLOAD_SIZE = 100 * 1024;\n",
              "\n",
              "function _uploadFiles(inputId, outputId) {\n",
              "  const steps = uploadFilesStep(inputId, outputId);\n",
              "  const outputElement = document.getElementById(outputId);\n",
              "  // Cache steps on the outputElement to make it available for the next call\n",
              "  // to uploadFilesContinue from Python.\n",
              "  outputElement.steps = steps;\n",
              "\n",
              "  return _uploadFilesContinue(outputId);\n",
              "}\n",
              "\n",
              "// This is roughly an async generator (not supported in the browser yet),\n",
              "// where there are multiple asynchronous steps and the Python side is going\n",
              "// to poll for completion of each step.\n",
              "// This uses a Promise to block the python side on completion of each step,\n",
              "// then passes the result of the previous step as the input to the next step.\n",
              "function _uploadFilesContinue(outputId) {\n",
              "  const outputElement = document.getElementById(outputId);\n",
              "  const steps = outputElement.steps;\n",
              "\n",
              "  const next = steps.next(outputElement.lastPromiseValue);\n",
              "  return Promise.resolve(next.value.promise).then((value) => {\n",
              "    // Cache the last promise value to make it available to the next\n",
              "    // step of the generator.\n",
              "    outputElement.lastPromiseValue = value;\n",
              "    return next.value.response;\n",
              "  });\n",
              "}\n",
              "\n",
              "/**\n",
              " * Generator function which is called between each async step of the upload\n",
              " * process.\n",
              " * @param {string} inputId Element ID of the input file picker element.\n",
              " * @param {string} outputId Element ID of the output display.\n",
              " * @return {!Iterable<!Object>} Iterable of next steps.\n",
              " */\n",
              "function* uploadFilesStep(inputId, outputId) {\n",
              "  const inputElement = document.getElementById(inputId);\n",
              "  inputElement.disabled = false;\n",
              "\n",
              "  const outputElement = document.getElementById(outputId);\n",
              "  outputElement.innerHTML = '';\n",
              "\n",
              "  const pickedPromise = new Promise((resolve) => {\n",
              "    inputElement.addEventListener('change', (e) => {\n",
              "      resolve(e.target.files);\n",
              "    });\n",
              "  });\n",
              "\n",
              "  const cancel = document.createElement('button');\n",
              "  inputElement.parentElement.appendChild(cancel);\n",
              "  cancel.textContent = 'Cancel upload';\n",
              "  const cancelPromise = new Promise((resolve) => {\n",
              "    cancel.onclick = () => {\n",
              "      resolve(null);\n",
              "    };\n",
              "  });\n",
              "\n",
              "  // Wait for the user to pick the files.\n",
              "  const files = yield {\n",
              "    promise: Promise.race([pickedPromise, cancelPromise]),\n",
              "    response: {\n",
              "      action: 'starting',\n",
              "    }\n",
              "  };\n",
              "\n",
              "  cancel.remove();\n",
              "\n",
              "  // Disable the input element since further picks are not allowed.\n",
              "  inputElement.disabled = true;\n",
              "\n",
              "  if (!files) {\n",
              "    return {\n",
              "      response: {\n",
              "        action: 'complete',\n",
              "      }\n",
              "    };\n",
              "  }\n",
              "\n",
              "  for (const file of files) {\n",
              "    const li = document.createElement('li');\n",
              "    li.append(span(file.name, {fontWeight: 'bold'}));\n",
              "    li.append(span(\n",
              "        `(${file.type || 'n/a'}) - ${file.size} bytes, ` +\n",
              "        `last modified: ${\n",
              "            file.lastModifiedDate ? file.lastModifiedDate.toLocaleDateString() :\n",
              "                                    'n/a'} - `));\n",
              "    const percent = span('0% done');\n",
              "    li.appendChild(percent);\n",
              "\n",
              "    outputElement.appendChild(li);\n",
              "\n",
              "    const fileDataPromise = new Promise((resolve) => {\n",
              "      const reader = new FileReader();\n",
              "      reader.onload = (e) => {\n",
              "        resolve(e.target.result);\n",
              "      };\n",
              "      reader.readAsArrayBuffer(file);\n",
              "    });\n",
              "    // Wait for the data to be ready.\n",
              "    let fileData = yield {\n",
              "      promise: fileDataPromise,\n",
              "      response: {\n",
              "        action: 'continue',\n",
              "      }\n",
              "    };\n",
              "\n",
              "    // Use a chunked sending to avoid message size limits. See b/62115660.\n",
              "    let position = 0;\n",
              "    do {\n",
              "      const length = Math.min(fileData.byteLength - position, MAX_PAYLOAD_SIZE);\n",
              "      const chunk = new Uint8Array(fileData, position, length);\n",
              "      position += length;\n",
              "\n",
              "      const base64 = btoa(String.fromCharCode.apply(null, chunk));\n",
              "      yield {\n",
              "        response: {\n",
              "          action: 'append',\n",
              "          file: file.name,\n",
              "          data: base64,\n",
              "        },\n",
              "      };\n",
              "\n",
              "      let percentDone = fileData.byteLength === 0 ?\n",
              "          100 :\n",
              "          Math.round((position / fileData.byteLength) * 100);\n",
              "      percent.textContent = `${percentDone}% done`;\n",
              "\n",
              "    } while (position < fileData.byteLength);\n",
              "  }\n",
              "\n",
              "  // All done.\n",
              "  yield {\n",
              "    response: {\n",
              "      action: 'complete',\n",
              "    }\n",
              "  };\n",
              "}\n",
              "\n",
              "scope.google = scope.google || {};\n",
              "scope.google.colab = scope.google.colab || {};\n",
              "scope.google.colab._files = {\n",
              "  _uploadFiles,\n",
              "  _uploadFilesContinue,\n",
              "};\n",
              "})(self);\n",
              "</script> "
            ]
          },
          "metadata": {}
        }
      ]
    },
    {
      "cell_type": "markdown",
      "metadata": {
        "id": "Lj-Dqzx8oeXg"
      },
      "source": [
        "### Step 2: Access Google Drive Directory and Google Sheets\n",
        "\n",
        "Mount your Google Drive to access files from it."
      ]
    },
    {
      "cell_type": "code",
      "metadata": {
        "colab": {
          "base_uri": "https://localhost:8080/"
        },
        "id": "VWKeAINWoeXg",
        "outputId": "dd509ba2-3896-4f30-ad1f-da30f489d72b"
      },
      "source": [
        "from google.colab import drive\n",
        "drive.mount('/content/drive')"
      ],
      "execution_count": 3,
      "outputs": [
        {
          "output_type": "stream",
          "name": "stdout",
          "text": [
            "Mounted at /content/drive\n"
          ]
        }
      ]
    },
    {
      "cell_type": "markdown",
      "metadata": {
        "id": "dvn0VWT-oeXg"
      },
      "source": [
        "Specify the directory in your Google Drive that you want to access."
      ]
    },
    {
      "cell_type": "code",
      "metadata": {
        "colab": {
          "base_uri": "https://localhost:8080/",
          "height": 35
        },
        "id": "PrW1G-yJoeXh",
        "outputId": "fbfa60c2-b7ad-478f-da4d-927f002ad12d"
      },
      "source": [
        "# Replace 'your-directory-path' with your specific directory path\n",
        "sub_dir = \"lingq_texts/pl/Daily Polish Story/\"  #@param {type:\"string\"}\n",
        "drive_directory = '/content/drive/MyDrive/' + sub_dir\n",
        "drive_directory"
      ],
      "execution_count": 4,
      "outputs": [
        {
          "output_type": "execute_result",
          "data": {
            "text/plain": [
              "'/content/drive/MyDrive/lingq_texts/pl/Daily Polish Story/'"
            ],
            "application/vnd.google.colaboratory.intrinsic+json": {
              "type": "string"
            }
          },
          "metadata": {},
          "execution_count": 4
        }
      ]
    },
    {
      "cell_type": "code",
      "source": [
        "from google.colab import auth\n",
        "auth.authenticate_user()\n",
        "\n",
        "import gspread\n",
        "from google.auth import default\n",
        "creds, _ = default()\n",
        "\n",
        "gc = gspread.authorize(creds)\n"
      ],
      "metadata": {
        "id": "U4eJuxZ1us2s"
      },
      "execution_count": 5,
      "outputs": []
    },
    {
      "cell_type": "code",
      "source": [
        "import spacy\n",
        "\n",
        "#@title Choose a language model\n",
        "model = \"pl_core_news_lg\" #@param [\"pl_core_news_lg\", \"ca_core_news_sm\", \"da_core_news_sm\", \"de_core_news_sm\", \"el_core_news_sm\", \"en_core_web_sm\", \"es_core_news_sm\", \"fi_core_news_sm\", \"fr_core_news_sm\", \"hr_core_news_sm\", \"it_core_news_sm\", \"ja_core_news_sm\", \"ko_core_news_sm\", \"lt_core_news_sm\", \"mk_core_news_sm\", \"nb_core_news_sm\", \"nl_core_news_sm\", \"pt_core_news_sm\", \"ro_core_news_sm\", \"sl_core_news_sm\", \"sv_core_news_sm\", \"ru_core_news_sm\", \"uk_core_news_sm\", \"xx_ent_wiki_sm\", \"xx_sent_ud_sm\", \"zh_core_web_sm\"]\n",
        "!python -m spacy download {model}\n",
        "\n",
        "spacy.prefer_gpu()\n",
        "\n",
        "nlp = spacy.load(model)"
      ],
      "metadata": {
        "colab": {
          "base_uri": "https://localhost:8080/"
        },
        "id": "C9fn8lHY0ctJ",
        "outputId": "be4f8219-60b4-4e4e-ffae-e04cbc13c26d"
      },
      "execution_count": 6,
      "outputs": [
        {
          "output_type": "stream",
          "name": "stdout",
          "text": [
            "2023-12-22 19:34:53.702587: E external/local_xla/xla/stream_executor/cuda/cuda_dnn.cc:9261] Unable to register cuDNN factory: Attempting to register factory for plugin cuDNN when one has already been registered\n",
            "2023-12-22 19:34:53.702648: E external/local_xla/xla/stream_executor/cuda/cuda_fft.cc:607] Unable to register cuFFT factory: Attempting to register factory for plugin cuFFT when one has already been registered\n",
            "2023-12-22 19:34:53.703577: E external/local_xla/xla/stream_executor/cuda/cuda_blas.cc:1515] Unable to register cuBLAS factory: Attempting to register factory for plugin cuBLAS when one has already been registered\n",
            "2023-12-22 19:34:54.589677: W tensorflow/compiler/tf2tensorrt/utils/py_utils.cc:38] TF-TRT Warning: Could not find TensorRT\n",
            "Collecting pl-core-news-lg==3.6.0\n",
            "  Downloading https://github.com/explosion/spacy-models/releases/download/pl_core_news_lg-3.6.0/pl_core_news_lg-3.6.0-py3-none-any.whl (573.7 MB)\n",
            "\u001b[2K     \u001b[90m━━━━━━━━━━━━━━━━━━━━━━━━━━━━━━━━━━━━━━━━\u001b[0m \u001b[32m573.7/573.7 MB\u001b[0m \u001b[31m2.6 MB/s\u001b[0m eta \u001b[36m0:00:00\u001b[0m\n",
            "\u001b[?25hRequirement already satisfied: spacy<3.7.0,>=3.6.0 in /usr/local/lib/python3.10/dist-packages (from pl-core-news-lg==3.6.0) (3.6.1)\n",
            "Requirement already satisfied: spacy-legacy<3.1.0,>=3.0.11 in /usr/local/lib/python3.10/dist-packages (from spacy<3.7.0,>=3.6.0->pl-core-news-lg==3.6.0) (3.0.12)\n",
            "Requirement already satisfied: spacy-loggers<2.0.0,>=1.0.0 in /usr/local/lib/python3.10/dist-packages (from spacy<3.7.0,>=3.6.0->pl-core-news-lg==3.6.0) (1.0.5)\n",
            "Requirement already satisfied: murmurhash<1.1.0,>=0.28.0 in /usr/local/lib/python3.10/dist-packages (from spacy<3.7.0,>=3.6.0->pl-core-news-lg==3.6.0) (1.0.10)\n",
            "Requirement already satisfied: cymem<2.1.0,>=2.0.2 in /usr/local/lib/python3.10/dist-packages (from spacy<3.7.0,>=3.6.0->pl-core-news-lg==3.6.0) (2.0.8)\n",
            "Requirement already satisfied: preshed<3.1.0,>=3.0.2 in /usr/local/lib/python3.10/dist-packages (from spacy<3.7.0,>=3.6.0->pl-core-news-lg==3.6.0) (3.0.9)\n",
            "Requirement already satisfied: thinc<8.2.0,>=8.1.8 in /usr/local/lib/python3.10/dist-packages (from spacy<3.7.0,>=3.6.0->pl-core-news-lg==3.6.0) (8.1.12)\n",
            "Requirement already satisfied: wasabi<1.2.0,>=0.9.1 in /usr/local/lib/python3.10/dist-packages (from spacy<3.7.0,>=3.6.0->pl-core-news-lg==3.6.0) (1.1.2)\n",
            "Requirement already satisfied: srsly<3.0.0,>=2.4.3 in /usr/local/lib/python3.10/dist-packages (from spacy<3.7.0,>=3.6.0->pl-core-news-lg==3.6.0) (2.4.8)\n",
            "Requirement already satisfied: catalogue<2.1.0,>=2.0.6 in /usr/local/lib/python3.10/dist-packages (from spacy<3.7.0,>=3.6.0->pl-core-news-lg==3.6.0) (2.0.10)\n",
            "Requirement already satisfied: typer<0.10.0,>=0.3.0 in /usr/local/lib/python3.10/dist-packages (from spacy<3.7.0,>=3.6.0->pl-core-news-lg==3.6.0) (0.9.0)\n",
            "Requirement already satisfied: pathy>=0.10.0 in /usr/local/lib/python3.10/dist-packages (from spacy<3.7.0,>=3.6.0->pl-core-news-lg==3.6.0) (0.10.3)\n",
            "Requirement already satisfied: smart-open<7.0.0,>=5.2.1 in /usr/local/lib/python3.10/dist-packages (from spacy<3.7.0,>=3.6.0->pl-core-news-lg==3.6.0) (6.4.0)\n",
            "Requirement already satisfied: tqdm<5.0.0,>=4.38.0 in /usr/local/lib/python3.10/dist-packages (from spacy<3.7.0,>=3.6.0->pl-core-news-lg==3.6.0) (4.66.1)\n",
            "Requirement already satisfied: numpy>=1.15.0 in /usr/local/lib/python3.10/dist-packages (from spacy<3.7.0,>=3.6.0->pl-core-news-lg==3.6.0) (1.23.5)\n",
            "Requirement already satisfied: requests<3.0.0,>=2.13.0 in /usr/local/lib/python3.10/dist-packages (from spacy<3.7.0,>=3.6.0->pl-core-news-lg==3.6.0) (2.31.0)\n",
            "Requirement already satisfied: pydantic!=1.8,!=1.8.1,<3.0.0,>=1.7.4 in /usr/local/lib/python3.10/dist-packages (from spacy<3.7.0,>=3.6.0->pl-core-news-lg==3.6.0) (1.10.13)\n",
            "Requirement already satisfied: jinja2 in /usr/local/lib/python3.10/dist-packages (from spacy<3.7.0,>=3.6.0->pl-core-news-lg==3.6.0) (3.1.2)\n",
            "Requirement already satisfied: setuptools in /usr/local/lib/python3.10/dist-packages (from spacy<3.7.0,>=3.6.0->pl-core-news-lg==3.6.0) (67.7.2)\n",
            "Requirement already satisfied: packaging>=20.0 in /usr/local/lib/python3.10/dist-packages (from spacy<3.7.0,>=3.6.0->pl-core-news-lg==3.6.0) (23.2)\n",
            "Requirement already satisfied: langcodes<4.0.0,>=3.2.0 in /usr/local/lib/python3.10/dist-packages (from spacy<3.7.0,>=3.6.0->pl-core-news-lg==3.6.0) (3.3.0)\n",
            "Requirement already satisfied: typing-extensions>=4.2.0 in /usr/local/lib/python3.10/dist-packages (from pydantic!=1.8,!=1.8.1,<3.0.0,>=1.7.4->spacy<3.7.0,>=3.6.0->pl-core-news-lg==3.6.0) (4.5.0)\n",
            "Requirement already satisfied: charset-normalizer<4,>=2 in /usr/local/lib/python3.10/dist-packages (from requests<3.0.0,>=2.13.0->spacy<3.7.0,>=3.6.0->pl-core-news-lg==3.6.0) (3.3.2)\n",
            "Requirement already satisfied: idna<4,>=2.5 in /usr/local/lib/python3.10/dist-packages (from requests<3.0.0,>=2.13.0->spacy<3.7.0,>=3.6.0->pl-core-news-lg==3.6.0) (3.6)\n",
            "Requirement already satisfied: urllib3<3,>=1.21.1 in /usr/local/lib/python3.10/dist-packages (from requests<3.0.0,>=2.13.0->spacy<3.7.0,>=3.6.0->pl-core-news-lg==3.6.0) (2.0.7)\n",
            "Requirement already satisfied: certifi>=2017.4.17 in /usr/local/lib/python3.10/dist-packages (from requests<3.0.0,>=2.13.0->spacy<3.7.0,>=3.6.0->pl-core-news-lg==3.6.0) (2023.11.17)\n",
            "Requirement already satisfied: blis<0.8.0,>=0.7.8 in /usr/local/lib/python3.10/dist-packages (from thinc<8.2.0,>=8.1.8->spacy<3.7.0,>=3.6.0->pl-core-news-lg==3.6.0) (0.7.11)\n",
            "Requirement already satisfied: confection<1.0.0,>=0.0.1 in /usr/local/lib/python3.10/dist-packages (from thinc<8.2.0,>=8.1.8->spacy<3.7.0,>=3.6.0->pl-core-news-lg==3.6.0) (0.1.4)\n",
            "Requirement already satisfied: click<9.0.0,>=7.1.1 in /usr/local/lib/python3.10/dist-packages (from typer<0.10.0,>=0.3.0->spacy<3.7.0,>=3.6.0->pl-core-news-lg==3.6.0) (8.1.7)\n",
            "Requirement already satisfied: MarkupSafe>=2.0 in /usr/local/lib/python3.10/dist-packages (from jinja2->spacy<3.7.0,>=3.6.0->pl-core-news-lg==3.6.0) (2.1.3)\n",
            "Installing collected packages: pl-core-news-lg\n",
            "Successfully installed pl-core-news-lg-3.6.0\n",
            "\u001b[38;5;2m✔ Download and installation successful\u001b[0m\n",
            "You can now load the package via spacy.load('pl_core_news_lg')\n"
          ]
        }
      ]
    },
    {
      "cell_type": "markdown",
      "metadata": {
        "id": "wohayCZBoeXh"
      },
      "source": [
        "### Step 3: Iterate Through Files and Output Content of .txt Files\n",
        "\n",
        "Define a function to iterate through files in a directory and print the content of `.txt` files."
      ]
    },
    {
      "cell_type": "code",
      "source": [],
      "metadata": {
        "id": "qyR7cc7QulPw"
      },
      "execution_count": 6,
      "outputs": []
    },
    {
      "cell_type": "code",
      "source": [
        "# see https://github.com/jamiepratt/lingq/blob/main/spacy_experiments.ipynb for how I calculated this:\n",
        "PL_morphology_features = ['Animacy', 'Case', 'Gender', 'Number', 'AdpType', 'Variant', 'Aspect', 'Mood', 'Person', 'Tense', 'VerbForm', 'Voice', 'Degree', 'PronType', 'NumForm', 'PrepCase', 'Polarity', 'Reflex', 'NumType', 'Hyph', 'Poss', 'ConjType', 'VerbType', 'Clitic', 'Foreign', 'Number[psor]', 'PartType', 'Abbr', 'Pun', 'Emphatic', 'PunctSide', 'Polite']\n",
        "data_cols = [\"filename\", \"directory\", \"token_no\", \"term\", \"lemma\", \"pos\", \"part of speech\", \"sentence\", \"morph\"] + PL_morphology_features"
      ],
      "metadata": {
        "id": "asHbDHSDwTQJ"
      },
      "execution_count": 7,
      "outputs": []
    },
    {
      "cell_type": "code",
      "metadata": {
        "id": "T1jr_fNaoeXh"
      },
      "source": [
        "def spacy_data_from_txt_files_content(directory):\n",
        "    data = []\n",
        "    for root, dirs, files in os.walk(directory):\n",
        "        for file in files:\n",
        "            if file.endswith('.txt'):\n",
        "                file_path = os.path.join(root, file)\n",
        "                with open(file_path, 'r') as file:\n",
        "                    print(f\"Processing contents of {file_path}:\\n\")\n",
        "                    doc = nlp(file.read())\n",
        "                    for t in doc:\n",
        "                      t_data = [file.name, root, t.i, t.text, t.lemma_, t.pos_, spacy.explain(t.pos_), t.sent.text, f'{t.morph}']\n",
        "                      for feat in PL_morphology_features:\n",
        "                        feat_value = t.morph.get(feat)\n",
        "                        if feat_value:\n",
        "                          t_data.append(feat_value[0])\n",
        "                        else:\n",
        "                          t_data.append(\"NOT_SET\")\n",
        "                      data.append(t_data)\n",
        "\n",
        "\n",
        "    return data"
      ],
      "execution_count": 8,
      "outputs": []
    },
    {
      "cell_type": "code",
      "metadata": {
        "colab": {
          "base_uri": "https://localhost:8080/"
        },
        "id": "O1nOVUujoeXh",
        "outputId": "0b2121c3-f362-4f42-abbd-905eeb394ab1"
      },
      "source": [
        "spacy_data = []\n",
        "spacy_data = spacy_data + spacy_data_from_txt_files_content('/content/uncompressed_files')\n",
        "spacy_data = spacy_data + spacy_data_from_txt_files_content(drive_directory)"
      ],
      "execution_count": 9,
      "outputs": [
        {
          "output_type": "stream",
          "name": "stdout",
          "text": [
            "Processing contents of /content/drive/MyDrive/lingq_texts/pl/Daily Polish Story/001A-Marta próbowała usnąć, ale nie mogła..txt:\n",
            "\n",
            "Processing contents of /content/drive/MyDrive/lingq_texts/pl/Daily Polish Story/001B-DailyPolishStory-POV.txt:\n",
            "\n",
            "Processing contents of /content/drive/MyDrive/lingq_texts/pl/Daily Polish Story/001C-DailyPolishStory-QA.txt:\n",
            "\n",
            "Processing contents of /content/drive/MyDrive/lingq_texts/pl/Daily Polish Story/002A-\"Marek mył swoje ręce\".txt:\n",
            "\n",
            "Processing contents of /content/drive/MyDrive/lingq_texts/pl/Daily Polish Story/002B-DailyPolishStory-POV.txt:\n",
            "\n",
            "Processing contents of /content/drive/MyDrive/lingq_texts/pl/Daily Polish Story/002C-DailyPolishStory-QA.txt:\n",
            "\n",
            "Processing contents of /content/drive/MyDrive/lingq_texts/pl/Daily Polish Story/003A-\"Robert mało je.\".txt:\n",
            "\n",
            "Processing contents of /content/drive/MyDrive/lingq_texts/pl/Daily Polish Story/003B-DailyPolishStory.txt:\n",
            "\n",
            "Processing contents of /content/drive/MyDrive/lingq_texts/pl/Daily Polish Story/003C-DailyPolishStory-QA.txt:\n",
            "\n",
            "Processing contents of /content/drive/MyDrive/lingq_texts/pl/Daily Polish Story/## 004A-Na podłodze leżała kartka papieru.txt:\n",
            "\n",
            "Processing contents of /content/drive/MyDrive/lingq_texts/pl/Daily Polish Story/004B-DailyPolishStory-POV.txt:\n",
            "\n",
            "Processing contents of /content/drive/MyDrive/lingq_texts/pl/Daily Polish Story/004C-DailyPolishStory-QA.txt:\n",
            "\n",
            "Processing contents of /content/drive/MyDrive/lingq_texts/pl/Daily Polish Story/005A-Kamil kupował sobie nowy samochód.txt:\n",
            "\n",
            "Processing contents of /content/drive/MyDrive/lingq_texts/pl/Daily Polish Story/005B-DailyPolishStory-POV.txt:\n",
            "\n",
            "Processing contents of /content/drive/MyDrive/lingq_texts/pl/Daily Polish Story/005C-DailyPolishStory-QA.txt:\n",
            "\n",
            "Processing contents of /content/drive/MyDrive/lingq_texts/pl/Daily Polish Story/006A-Zuzia odkręciła wodę i umyła jabłko..txt:\n",
            "\n",
            "Processing contents of /content/drive/MyDrive/lingq_texts/pl/Daily Polish Story/006B-DailyPolishStory-POV.txt:\n",
            "\n",
            "Processing contents of /content/drive/MyDrive/lingq_texts/pl/Daily Polish Story/006C-DailyPolishStory-QA.txt:\n",
            "\n",
            "Processing contents of /content/drive/MyDrive/lingq_texts/pl/Daily Polish Story/007A-DailyPolishStory.txt:\n",
            "\n",
            "Processing contents of /content/drive/MyDrive/lingq_texts/pl/Daily Polish Story/007B-DailyPolishStory-POV.txt:\n",
            "\n",
            "Processing contents of /content/drive/MyDrive/lingq_texts/pl/Daily Polish Story/007C-DailyPolishStory-QA.txt:\n",
            "\n",
            "Processing contents of /content/drive/MyDrive/lingq_texts/pl/Daily Polish Story/008A-DailyPolishStory.txt:\n",
            "\n",
            "Processing contents of /content/drive/MyDrive/lingq_texts/pl/Daily Polish Story/008B-DailyPolishStory-POV.txt:\n",
            "\n",
            "Processing contents of /content/drive/MyDrive/lingq_texts/pl/Daily Polish Story/008C-DailyPolishStory-QA.txt:\n",
            "\n",
            "Processing contents of /content/drive/MyDrive/lingq_texts/pl/Daily Polish Story/009A-DailyPolishStory.txt:\n",
            "\n",
            "Processing contents of /content/drive/MyDrive/lingq_texts/pl/Daily Polish Story/009B-DailyPolishStory-POV.txt:\n",
            "\n",
            "Processing contents of /content/drive/MyDrive/lingq_texts/pl/Daily Polish Story/009C-DailyPolishStory-QA.txt:\n",
            "\n",
            "Processing contents of /content/drive/MyDrive/lingq_texts/pl/Daily Polish Story/010A-DailyPolishStory.txt:\n",
            "\n",
            "Processing contents of /content/drive/MyDrive/lingq_texts/pl/Daily Polish Story/010B-DailyPolishStory-POV.txt:\n",
            "\n",
            "Processing contents of /content/drive/MyDrive/lingq_texts/pl/Daily Polish Story/010C-DailyPolishStory-QA.txt:\n",
            "\n",
            "Processing contents of /content/drive/MyDrive/lingq_texts/pl/Daily Polish Story/011A-DailyPolishStory.txt:\n",
            "\n",
            "Processing contents of /content/drive/MyDrive/lingq_texts/pl/Daily Polish Story/011B-DailyPolishStory-POV.txt:\n",
            "\n",
            "Processing contents of /content/drive/MyDrive/lingq_texts/pl/Daily Polish Story/011C-DailyPolishStory-QA.txt:\n",
            "\n",
            "Processing contents of /content/drive/MyDrive/lingq_texts/pl/Daily Polish Story/## 012A-\"W sklepie\".txt:\n",
            "\n",
            "Processing contents of /content/drive/MyDrive/lingq_texts/pl/Daily Polish Story/012B-DailyPolishStory-POV.txt:\n",
            "\n",
            "Processing contents of /content/drive/MyDrive/lingq_texts/pl/Daily Polish Story/012C-DailyPolishStory-QA.txt:\n",
            "\n",
            "Processing contents of /content/drive/MyDrive/lingq_texts/pl/Daily Polish Story/013A-DailyPolishStory.txt:\n",
            "\n",
            "Processing contents of /content/drive/MyDrive/lingq_texts/pl/Daily Polish Story/013B-DailyPolishStory-POV.txt:\n",
            "\n",
            "Processing contents of /content/drive/MyDrive/lingq_texts/pl/Daily Polish Story/013C-DailyPolishStory-QA.txt:\n",
            "\n",
            "Processing contents of /content/drive/MyDrive/lingq_texts/pl/Daily Polish Story/014A-Wieczór Dawida.txt:\n",
            "\n",
            "Processing contents of /content/drive/MyDrive/lingq_texts/pl/Daily Polish Story/014B-DailyPolishStory-POV.txt:\n",
            "\n",
            "Processing contents of /content/drive/MyDrive/lingq_texts/pl/Daily Polish Story/014C-DailyPolishStory-QA.txt:\n",
            "\n",
            "Processing contents of /content/drive/MyDrive/lingq_texts/pl/Daily Polish Story/015A-DailyPolishStory.txt:\n",
            "\n",
            "Processing contents of /content/drive/MyDrive/lingq_texts/pl/Daily Polish Story/015B-DailyPolishStory-POV.txt:\n",
            "\n",
            "Processing contents of /content/drive/MyDrive/lingq_texts/pl/Daily Polish Story/015C-DailyPolishStory-QA.txt:\n",
            "\n",
            "Processing contents of /content/drive/MyDrive/lingq_texts/pl/Daily Polish Story/016A-DailyPolishStory.txt:\n",
            "\n",
            "Processing contents of /content/drive/MyDrive/lingq_texts/pl/Daily Polish Story/016B-DailyPolishStory-POV.txt:\n",
            "\n",
            "Processing contents of /content/drive/MyDrive/lingq_texts/pl/Daily Polish Story/016C-DailyPolishStory-QA.txt:\n",
            "\n",
            "Processing contents of /content/drive/MyDrive/lingq_texts/pl/Daily Polish Story/017A-DailyPolishStory.txt:\n",
            "\n",
            "Processing contents of /content/drive/MyDrive/lingq_texts/pl/Daily Polish Story/017B-DailyPolishStory-POV.txt:\n",
            "\n",
            "Processing contents of /content/drive/MyDrive/lingq_texts/pl/Daily Polish Story/017C-DailyPolishStory-QA.txt:\n",
            "\n",
            "Processing contents of /content/drive/MyDrive/lingq_texts/pl/Daily Polish Story/018B-DailyPolishStory-POV.txt:\n",
            "\n",
            "Processing contents of /content/drive/MyDrive/lingq_texts/pl/Daily Polish Story/018A-DailyPolishStory.txt:\n",
            "\n",
            "Processing contents of /content/drive/MyDrive/lingq_texts/pl/Daily Polish Story/018C-DailyPolishStory-QA.txt:\n",
            "\n",
            "Processing contents of /content/drive/MyDrive/lingq_texts/pl/Daily Polish Story/019A-DailyPolishStory.txt:\n",
            "\n",
            "Processing contents of /content/drive/MyDrive/lingq_texts/pl/Daily Polish Story/019B-DailyPolishStory-POV.txt:\n",
            "\n",
            "Processing contents of /content/drive/MyDrive/lingq_texts/pl/Daily Polish Story/019C-DailyPolishStory-QA.txt:\n",
            "\n",
            "Processing contents of /content/drive/MyDrive/lingq_texts/pl/Daily Polish Story/020A-DailyPolishStory.txt:\n",
            "\n",
            "Processing contents of /content/drive/MyDrive/lingq_texts/pl/Daily Polish Story/020B-DailyPolishStory-POV.txt:\n",
            "\n",
            "Processing contents of /content/drive/MyDrive/lingq_texts/pl/Daily Polish Story/020C-DailyPolishStory-QA.txt:\n",
            "\n",
            "Processing contents of /content/drive/MyDrive/lingq_texts/pl/Daily Polish Story/021A-DailyPolishStory.txt:\n",
            "\n",
            "Processing contents of /content/drive/MyDrive/lingq_texts/pl/Daily Polish Story/021C-DailyPolishStory-QA.txt:\n",
            "\n",
            "Processing contents of /content/drive/MyDrive/lingq_texts/pl/Daily Polish Story/022A-DailyPolishStory.txt:\n",
            "\n",
            "Processing contents of /content/drive/MyDrive/lingq_texts/pl/Daily Polish Story/022B-DailyPolishStory-POV.txt:\n",
            "\n",
            "Processing contents of /content/drive/MyDrive/lingq_texts/pl/Daily Polish Story/022C-DailyPolishStory-QA.txt:\n",
            "\n"
          ]
        }
      ]
    },
    {
      "cell_type": "code",
      "source": [
        "spacy_data[0]\n"
      ],
      "metadata": {
        "colab": {
          "base_uri": "https://localhost:8080/"
        },
        "id": "RjjEoaII6Cqf",
        "outputId": "d19437dd-4c97-4e95-eadb-1abf18238338"
      },
      "execution_count": 10,
      "outputs": [
        {
          "output_type": "execute_result",
          "data": {
            "text/plain": [
              "['/content/drive/MyDrive/lingq_texts/pl/Daily Polish Story/001A-Marta próbowała usnąć, ale nie mogła..txt',\n",
              " '/content/drive/MyDrive/lingq_texts/pl/Daily Polish Story/',\n",
              " 0,\n",
              " 'Cześć',\n",
              " 'cześć',\n",
              " 'INTJ',\n",
              " 'interjection',\n",
              " 'Cześć!',\n",
              " '',\n",
              " 'NOT_SET',\n",
              " 'NOT_SET',\n",
              " 'NOT_SET',\n",
              " 'NOT_SET',\n",
              " 'NOT_SET',\n",
              " 'NOT_SET',\n",
              " 'NOT_SET',\n",
              " 'NOT_SET',\n",
              " 'NOT_SET',\n",
              " 'NOT_SET',\n",
              " 'NOT_SET',\n",
              " 'NOT_SET',\n",
              " 'NOT_SET',\n",
              " 'NOT_SET',\n",
              " 'NOT_SET',\n",
              " 'NOT_SET',\n",
              " 'NOT_SET',\n",
              " 'NOT_SET',\n",
              " 'NOT_SET',\n",
              " 'NOT_SET',\n",
              " 'NOT_SET',\n",
              " 'NOT_SET',\n",
              " 'NOT_SET',\n",
              " 'NOT_SET',\n",
              " 'NOT_SET',\n",
              " 'NOT_SET',\n",
              " 'NOT_SET',\n",
              " 'NOT_SET',\n",
              " 'NOT_SET',\n",
              " 'NOT_SET',\n",
              " 'NOT_SET',\n",
              " 'NOT_SET']"
            ]
          },
          "metadata": {},
          "execution_count": 10
        }
      ]
    },
    {
      "cell_type": "code",
      "source": [
        "\n",
        "# Create a New Google Sheet\n",
        "sh = gc.create(f'spaCy analysis of {drive_directory}')\n",
        "# Open the Google Sheet with gspread\n",
        "worksheet = sh.get_worksheet(0)  # '0' refers to the first sheet\n",
        "\n",
        "# Update the sheet with DataFrame values\n",
        "worksheet.update('A1', [data_cols] + spacy_data)"
      ],
      "metadata": {
        "colab": {
          "base_uri": "https://localhost:8080/"
        },
        "id": "VqxmwR9cyz3A",
        "outputId": "0f4d3241-a2fd-4294-f0cd-70816adfade5"
      },
      "execution_count": 11,
      "outputs": [
        {
          "output_type": "execute_result",
          "data": {
            "text/plain": [
              "{'spreadsheetId': '1NkcnIjShjRj3nKhX_oaPuVTnnJXi2DLcEpKQ9Syiu4A',\n",
              " 'updatedRange': 'Sheet1!A1:AO24372',\n",
              " 'updatedRows': 24372,\n",
              " 'updatedColumns': 41,\n",
              " 'updatedCells': 999252}"
            ]
          },
          "metadata": {},
          "execution_count": 11
        }
      ]
    },
    {
      "cell_type": "code",
      "source": [],
      "metadata": {
        "id": "wkp3hQlI6AZr"
      },
      "execution_count": 11,
      "outputs": []
    }
  ],
  "metadata": {
    "kernelspec": {
      "name": "python3",
      "display_name": "Python 3"
    },
    "language_info": {
      "name": "python",
      "version": "3.x",
      "mimetype": "text/x-python",
      "codemirror_mode": {
        "name": "ipython",
        "version": 3
      },
      "pygments_lexer": "ipython3",
      "nbconvert_exporter": "python",
      "file_extension": ".py"
    },
    "colab": {
      "provenance": []
    }
  },
  "nbformat": 4,
  "nbformat_minor": 0
}