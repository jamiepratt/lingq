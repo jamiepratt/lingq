{
  "nbformat": 4,
  "nbformat_minor": 0,
  "metadata": {
    "colab": {
      "provenance": [],
      "authorship_tag": "ABX9TyOmi/jnaz5bbwR6Sabcohxs",
      "include_colab_link": true
    },
    "kernelspec": {
      "name": "python3",
      "display_name": "Python 3"
    },
    "language_info": {
      "name": "python"
    }
  },
  "cells": [
    {
      "cell_type": "markdown",
      "metadata": {
        "id": "view-in-github",
        "colab_type": "text"
      },
      "source": [
        "<a href=\"https://colab.research.google.com/github/jamiepratt/lingq/blob/main/highlight_cases.ipynb\" target=\"_parent\"><img src=\"https://colab.research.google.com/assets/colab-badge.svg\" alt=\"Open In Colab\"/></a>"
      ]
    },
    {
      "cell_type": "code",
      "execution_count": null,
      "metadata": {
        "id": "bzoSdkiSNQvs"
      },
      "outputs": [],
      "source": [
        "import spacy\n",
        "from ipywidgets import widgets\n",
        "from IPython.display import display, HTML\n",
        "#@title Choose a language model\n",
        "model = \"pl_core_news_lg\" #@param [\"pl_core_news_lg\", \"ca_core_news_sm\", \"da_core_news_sm\", \"de_core_news_sm\", \"el_core_news_sm\", \"en_core_web_sm\", \"es_core_news_sm\", \"fi_core_news_sm\", \"fr_core_news_sm\", \"hr_core_news_sm\", \"it_core_news_sm\", \"ja_core_news_sm\", \"ko_core_news_sm\", \"lt_core_news_sm\", \"mk_core_news_sm\", \"nb_core_news_sm\", \"nl_core_news_sm\", \"pt_core_news_sm\", \"ro_core_news_sm\", \"sl_core_news_sm\", \"sv_core_news_sm\", \"ru_core_news_sm\", \"uk_core_news_sm\", \"xx_ent_wiki_sm\", \"xx_sent_ud_sm\", \"zh_core_web_sm\"]\n",
        "!python -m spacy download {model}\n",
        "\n",
        "spacy.prefer_gpu()\n",
        "\n",
        "nlp = spacy.load(model)\n",
        "\n"
      ]
    },
    {
      "cell_type": "code",
      "source": [
        "\n",
        "# Function to process text and return HTML with color-coded cases and tooltips\n",
        "def process_and_display_text(text):\n",
        "    doc = nlp(text)\n",
        "    highlighted_text = \"\"\n",
        "    for token in doc:\n",
        "        # Retrieve morphological information\n",
        "        case = token.morph.get(\"Case\")\n",
        "        morph = \" \".join(f'{token.morph}'.split(\"|\"))\n",
        "        # Define the tooltip text\n",
        "        tooltip_text = f\"{token.lemma_} {token.pos_} ({morph})\"\n",
        "\n",
        "        # Assign color based on grammatical case\n",
        "        color = \"black\"  # Default color\n",
        "        if case:\n",
        "            if \"Nom\" in case:\n",
        "                color = \"blue\"\n",
        "            elif \"Gen\" in case:\n",
        "                color = \"green\"\n",
        "            elif \"Dat\" in case:\n",
        "                color = \"red\"\n",
        "            elif \"Acc\" in case:\n",
        "                color = \"purple\"\n",
        "            elif \"Inst\" in case:\n",
        "                color = \"orange\"\n",
        "            elif \"Loc\" in case:\n",
        "                color = \"brown\"\n",
        "            elif \"Voc\" in case:\n",
        "                color = \"pink\"\n",
        "\n",
        "        # Append the token span with style and tooltip\n",
        "        highlighted_text += f'<span style=\"color: {color};\" title=\"{tooltip_text}\">{token.text}</span> '\n",
        "\n",
        "    display(HTML(highlighted_text))\n",
        "\n",
        "# Create a text input widget\n",
        "text_input = widgets.Textarea(\n",
        "    value='Wpisz tutaj polski tekst.',\n",
        "    placeholder='Type something',\n",
        "    description='Text:',\n",
        "    disabled=False\n",
        ")\n",
        "\n",
        "# Display the text input widget and process the text upon submission\n",
        "def on_text_submit(change):\n",
        "    process_and_display_text(change.new)\n",
        "\n",
        "text_input.observe(on_text_submit, names='value')\n",
        "\n",
        "display(text_input)"
      ],
      "metadata": {
        "id": "STheR_AGNjQ_"
      },
      "execution_count": null,
      "outputs": []
    }
  ]
}