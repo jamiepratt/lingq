{
  "nbformat": 4,
  "nbformat_minor": 0,
  "metadata": {
    "colab": {
      "provenance": [],
      "authorship_tag": "ABX9TyOmi/jnaz5bbwR6Sabcohxs",
      "include_colab_link": true
    },
    "kernelspec": {
      "name": "python3",
      "display_name": "Python 3"
    },
    "language_info": {
      "name": "python"
    },
    "widgets": {
      "application/vnd.jupyter.widget-state+json": {
        "2cbe13776a09400b97a9d7ee47ba2fdd": {
          "model_module": "@jupyter-widgets/controls",
          "model_name": "TextareaModel",
          "model_module_version": "1.5.0",
          "state": {
            "_dom_classes": [],
            "_model_module": "@jupyter-widgets/controls",
            "_model_module_version": "1.5.0",
            "_model_name": "TextareaModel",
            "_view_count": null,
            "_view_module": "@jupyter-widgets/controls",
            "_view_module_version": "1.5.0",
            "_view_name": "TextareaView",
            "continuous_update": true,
            "description": "Text:",
            "description_tooltip": null,
            "disabled": false,
            "layout": "IPY_MODEL_ee7564a3dcea4defb7c480e1b0b21526",
            "placeholder": "Type something",
            "rows": null,
            "style": "IPY_MODEL_b3502aaabb7b4fb28d6a5cf968b8d62b",
            "value": "062A-DailyPolishStory Cześć! Zapraszam na następną historyjkę. Dzisiaj opowiem historyjkę o człowieku, który tak kochał pieniądze, że chciał zabrać je nawet do grobu. Najpierw posłuchaj historyjki w czasie przeszłym, czyli tak jakby już się wydarzyła. Zaczynajmy! Stanisław pracował przez całe życie. On zawsze oszczędzał pieniądze. Stanisław kochał pieniądze bardziej niż wszystko inne. Pewnego dnia poprosił swoją żonę Alicję. Obiecaj, jeśli kiedyś umrę, włóż moje pieniądze do trumny. Alicja przyrzekła, że tak zrobi. Pewnego dnia Stanisław umarł. Przed samym końcem pogrzebu Alicja krzyknęła, Czekajcie! Ona włożyła małe pudełko do trumny. Trumna została zamknięta. Chyba nie jesteś szalona? Czy włożyłaś pieniądze do trumny? spytała Alicja jej koleżanka. Tak, włożyłam. Przecież obiecałam to Stanisławowi, powiedziała Alicja. Włożyłaś wszystkie pieniądze do trumny? Nie mogła uwierzyć jej koleżanka. Oczywiście, że to zrobiłam, powiedziała Alicja. Przelałam pieniądze na moje konto i wypisałam Stanisławowi czek.\n"
          }
        },
        "ee7564a3dcea4defb7c480e1b0b21526": {
          "model_module": "@jupyter-widgets/base",
          "model_name": "LayoutModel",
          "model_module_version": "1.2.0",
          "state": {
            "_model_module": "@jupyter-widgets/base",
            "_model_module_version": "1.2.0",
            "_model_name": "LayoutModel",
            "_view_count": null,
            "_view_module": "@jupyter-widgets/base",
            "_view_module_version": "1.2.0",
            "_view_name": "LayoutView",
            "align_content": null,
            "align_items": null,
            "align_self": null,
            "border": null,
            "bottom": null,
            "display": null,
            "flex": null,
            "flex_flow": null,
            "grid_area": null,
            "grid_auto_columns": null,
            "grid_auto_flow": null,
            "grid_auto_rows": null,
            "grid_column": null,
            "grid_gap": null,
            "grid_row": null,
            "grid_template_areas": null,
            "grid_template_columns": null,
            "grid_template_rows": null,
            "height": null,
            "justify_content": null,
            "justify_items": null,
            "left": null,
            "margin": null,
            "max_height": null,
            "max_width": null,
            "min_height": null,
            "min_width": null,
            "object_fit": null,
            "object_position": null,
            "order": null,
            "overflow": null,
            "overflow_x": null,
            "overflow_y": null,
            "padding": null,
            "right": null,
            "top": null,
            "visibility": null,
            "width": null
          }
        },
        "b3502aaabb7b4fb28d6a5cf968b8d62b": {
          "model_module": "@jupyter-widgets/controls",
          "model_name": "DescriptionStyleModel",
          "model_module_version": "1.5.0",
          "state": {
            "_model_module": "@jupyter-widgets/controls",
            "_model_module_version": "1.5.0",
            "_model_name": "DescriptionStyleModel",
            "_view_count": null,
            "_view_module": "@jupyter-widgets/base",
            "_view_module_version": "1.2.0",
            "_view_name": "StyleView",
            "description_width": ""
          }
        },
        "6197ace702854e23aaeb14d0567a6ef1": {
          "model_module": "@jupyter-widgets/controls",
          "model_name": "TextareaModel",
          "model_module_version": "1.5.0",
          "state": {
            "_dom_classes": [],
            "_model_module": "@jupyter-widgets/controls",
            "_model_module_version": "1.5.0",
            "_model_name": "TextareaModel",
            "_view_count": null,
            "_view_module": "@jupyter-widgets/controls",
            "_view_module_version": "1.5.0",
            "_view_name": "TextareaView",
            "continuous_update": true,
            "description": "Text:",
            "description_tooltip": null,
            "disabled": false,
            "layout": "IPY_MODEL_0ee9519557894471ac396fff4a0ac7f7",
            "placeholder": "Type something",
            "rows": null,
            "style": "IPY_MODEL_0d1d31257c4948c1817e8372e8faf60b",
            "value": "Cześć! Zapraszam na następną historyjkę. Dzisiaj opowiem historyjkę o człowieku, który tak kochał pieniądze, że chciał zabrać je nawet do grobu. Najpierw posłuchaj historyjki w czasie przeszłym, czyli tak jakby już się wydarzyła. Zaczynajmy! Stanisław pracował przez całe życie. On zawsze oszczędzał pieniądze. Stanisław kochał pieniądze bardziej niż wszystko inne. Pewnego dnia poprosił swoją żonę Alicję. Obiecaj, jeśli kiedyś umrę, włóż moje pieniądze do trumny. Alicja przyrzekła, że tak zrobi. Pewnego dnia Stanisław umarł. Przed samym końcem pogrzebu Alicja krzyknęła, Czekajcie! Ona włożyła małe pudełko do trumny. Trumna została zamknięta. Chyba nie jesteś szalona? Czy włożyłaś pieniądze do trumny? spytała Alicja jej koleżanka. Tak, włożyłam. Przecież obiecałam to Stanisławowi, powiedziała Alicja. Włożyłaś wszystkie pieniądze do trumny? Nie mogła uwierzyć jej koleżanka. Oczywiście, że to zrobiłam, powiedziała Alicja. Przelałam pieniądze na moje konto i wypisałam Stanisławowi czek."
          }
        },
        "0ee9519557894471ac396fff4a0ac7f7": {
          "model_module": "@jupyter-widgets/base",
          "model_name": "LayoutModel",
          "model_module_version": "1.2.0",
          "state": {
            "_model_module": "@jupyter-widgets/base",
            "_model_module_version": "1.2.0",
            "_model_name": "LayoutModel",
            "_view_count": null,
            "_view_module": "@jupyter-widgets/base",
            "_view_module_version": "1.2.0",
            "_view_name": "LayoutView",
            "align_content": null,
            "align_items": null,
            "align_self": null,
            "border": null,
            "bottom": null,
            "display": null,
            "flex": null,
            "flex_flow": null,
            "grid_area": null,
            "grid_auto_columns": null,
            "grid_auto_flow": null,
            "grid_auto_rows": null,
            "grid_column": null,
            "grid_gap": null,
            "grid_row": null,
            "grid_template_areas": null,
            "grid_template_columns": null,
            "grid_template_rows": null,
            "height": null,
            "justify_content": null,
            "justify_items": null,
            "left": null,
            "margin": null,
            "max_height": null,
            "max_width": null,
            "min_height": null,
            "min_width": null,
            "object_fit": null,
            "object_position": null,
            "order": null,
            "overflow": null,
            "overflow_x": null,
            "overflow_y": null,
            "padding": null,
            "right": null,
            "top": null,
            "visibility": null,
            "width": null
          }
        },
        "0d1d31257c4948c1817e8372e8faf60b": {
          "model_module": "@jupyter-widgets/controls",
          "model_name": "DescriptionStyleModel",
          "model_module_version": "1.5.0",
          "state": {
            "_model_module": "@jupyter-widgets/controls",
            "_model_module_version": "1.5.0",
            "_model_name": "DescriptionStyleModel",
            "_view_count": null,
            "_view_module": "@jupyter-widgets/base",
            "_view_module_version": "1.2.0",
            "_view_name": "StyleView",
            "description_width": ""
          }
        }
      }
    }
  },
  "cells": [
    {
      "cell_type": "markdown",
      "metadata": {
        "id": "view-in-github",
        "colab_type": "text"
      },
      "source": [
        "<a href=\"https://colab.research.google.com/github/jamiepratt/lingq/blob/main/highlight_cases.ipynb\" target=\"_parent\"><img src=\"https://colab.research.google.com/assets/colab-badge.svg\" alt=\"Open In Colab\"/></a>"
      ]
    },
    {
      "cell_type": "code",
      "execution_count": 2,
      "metadata": {
        "colab": {
          "base_uri": "https://localhost:8080/",
          "height": 1000,
          "referenced_widgets": [
            "2cbe13776a09400b97a9d7ee47ba2fdd",
            "ee7564a3dcea4defb7c480e1b0b21526",
            "b3502aaabb7b4fb28d6a5cf968b8d62b"
          ]
        },
        "id": "bzoSdkiSNQvs",
        "outputId": "b0244674-e444-4586-b25f-b2ef9dba16e3"
      },
      "outputs": [
        {
          "output_type": "stream",
          "name": "stdout",
          "text": [
            "Collecting pl-core-news-lg==3.7.0\n",
            "  Downloading https://github.com/explosion/spacy-models/releases/download/pl_core_news_lg-3.7.0/pl_core_news_lg-3.7.0-py3-none-any.whl (573.7 MB)\n",
            "\u001b[2K     \u001b[90m━━━━━━━━━━━━━━━━━━━━━━━━━━━━━━━━━━━━━━━━\u001b[0m \u001b[32m573.7/573.7 MB\u001b[0m \u001b[31m776.2 kB/s\u001b[0m eta \u001b[36m0:00:00\u001b[0m\n",
            "\u001b[?25hRequirement already satisfied: spacy<3.8.0,>=3.7.0 in /usr/local/lib/python3.10/dist-packages (from pl-core-news-lg==3.7.0) (3.7.4)\n",
            "Requirement already satisfied: spacy-legacy<3.1.0,>=3.0.11 in /usr/local/lib/python3.10/dist-packages (from spacy<3.8.0,>=3.7.0->pl-core-news-lg==3.7.0) (3.0.12)\n",
            "Requirement already satisfied: spacy-loggers<2.0.0,>=1.0.0 in /usr/local/lib/python3.10/dist-packages (from spacy<3.8.0,>=3.7.0->pl-core-news-lg==3.7.0) (1.0.5)\n",
            "Requirement already satisfied: murmurhash<1.1.0,>=0.28.0 in /usr/local/lib/python3.10/dist-packages (from spacy<3.8.0,>=3.7.0->pl-core-news-lg==3.7.0) (1.0.10)\n",
            "Requirement already satisfied: cymem<2.1.0,>=2.0.2 in /usr/local/lib/python3.10/dist-packages (from spacy<3.8.0,>=3.7.0->pl-core-news-lg==3.7.0) (2.0.8)\n",
            "Requirement already satisfied: preshed<3.1.0,>=3.0.2 in /usr/local/lib/python3.10/dist-packages (from spacy<3.8.0,>=3.7.0->pl-core-news-lg==3.7.0) (3.0.9)\n",
            "Requirement already satisfied: thinc<8.3.0,>=8.2.2 in /usr/local/lib/python3.10/dist-packages (from spacy<3.8.0,>=3.7.0->pl-core-news-lg==3.7.0) (8.2.3)\n",
            "Requirement already satisfied: wasabi<1.2.0,>=0.9.1 in /usr/local/lib/python3.10/dist-packages (from spacy<3.8.0,>=3.7.0->pl-core-news-lg==3.7.0) (1.1.2)\n",
            "Requirement already satisfied: srsly<3.0.0,>=2.4.3 in /usr/local/lib/python3.10/dist-packages (from spacy<3.8.0,>=3.7.0->pl-core-news-lg==3.7.0) (2.4.8)\n",
            "Requirement already satisfied: catalogue<2.1.0,>=2.0.6 in /usr/local/lib/python3.10/dist-packages (from spacy<3.8.0,>=3.7.0->pl-core-news-lg==3.7.0) (2.0.10)\n",
            "Requirement already satisfied: weasel<0.4.0,>=0.1.0 in /usr/local/lib/python3.10/dist-packages (from spacy<3.8.0,>=3.7.0->pl-core-news-lg==3.7.0) (0.3.4)\n",
            "Requirement already satisfied: typer<0.10.0,>=0.3.0 in /usr/local/lib/python3.10/dist-packages (from spacy<3.8.0,>=3.7.0->pl-core-news-lg==3.7.0) (0.9.0)\n",
            "Requirement already satisfied: smart-open<7.0.0,>=5.2.1 in /usr/local/lib/python3.10/dist-packages (from spacy<3.8.0,>=3.7.0->pl-core-news-lg==3.7.0) (6.4.0)\n",
            "Requirement already satisfied: tqdm<5.0.0,>=4.38.0 in /usr/local/lib/python3.10/dist-packages (from spacy<3.8.0,>=3.7.0->pl-core-news-lg==3.7.0) (4.66.2)\n",
            "Requirement already satisfied: requests<3.0.0,>=2.13.0 in /usr/local/lib/python3.10/dist-packages (from spacy<3.8.0,>=3.7.0->pl-core-news-lg==3.7.0) (2.31.0)\n",
            "Requirement already satisfied: pydantic!=1.8,!=1.8.1,<3.0.0,>=1.7.4 in /usr/local/lib/python3.10/dist-packages (from spacy<3.8.0,>=3.7.0->pl-core-news-lg==3.7.0) (2.6.1)\n",
            "Requirement already satisfied: jinja2 in /usr/local/lib/python3.10/dist-packages (from spacy<3.8.0,>=3.7.0->pl-core-news-lg==3.7.0) (3.1.3)\n",
            "Requirement already satisfied: setuptools in /usr/local/lib/python3.10/dist-packages (from spacy<3.8.0,>=3.7.0->pl-core-news-lg==3.7.0) (67.7.2)\n",
            "Requirement already satisfied: packaging>=20.0 in /usr/local/lib/python3.10/dist-packages (from spacy<3.8.0,>=3.7.0->pl-core-news-lg==3.7.0) (23.2)\n",
            "Requirement already satisfied: langcodes<4.0.0,>=3.2.0 in /usr/local/lib/python3.10/dist-packages (from spacy<3.8.0,>=3.7.0->pl-core-news-lg==3.7.0) (3.3.0)\n",
            "Requirement already satisfied: numpy>=1.19.0 in /usr/local/lib/python3.10/dist-packages (from spacy<3.8.0,>=3.7.0->pl-core-news-lg==3.7.0) (1.25.2)\n",
            "Requirement already satisfied: annotated-types>=0.4.0 in /usr/local/lib/python3.10/dist-packages (from pydantic!=1.8,!=1.8.1,<3.0.0,>=1.7.4->spacy<3.8.0,>=3.7.0->pl-core-news-lg==3.7.0) (0.6.0)\n",
            "Requirement already satisfied: pydantic-core==2.16.2 in /usr/local/lib/python3.10/dist-packages (from pydantic!=1.8,!=1.8.1,<3.0.0,>=1.7.4->spacy<3.8.0,>=3.7.0->pl-core-news-lg==3.7.0) (2.16.2)\n",
            "Requirement already satisfied: typing-extensions>=4.6.1 in /usr/local/lib/python3.10/dist-packages (from pydantic!=1.8,!=1.8.1,<3.0.0,>=1.7.4->spacy<3.8.0,>=3.7.0->pl-core-news-lg==3.7.0) (4.9.0)\n",
            "Requirement already satisfied: charset-normalizer<4,>=2 in /usr/local/lib/python3.10/dist-packages (from requests<3.0.0,>=2.13.0->spacy<3.8.0,>=3.7.0->pl-core-news-lg==3.7.0) (3.3.2)\n",
            "Requirement already satisfied: idna<4,>=2.5 in /usr/local/lib/python3.10/dist-packages (from requests<3.0.0,>=2.13.0->spacy<3.8.0,>=3.7.0->pl-core-news-lg==3.7.0) (3.6)\n",
            "Requirement already satisfied: urllib3<3,>=1.21.1 in /usr/local/lib/python3.10/dist-packages (from requests<3.0.0,>=2.13.0->spacy<3.8.0,>=3.7.0->pl-core-news-lg==3.7.0) (2.0.7)\n",
            "Requirement already satisfied: certifi>=2017.4.17 in /usr/local/lib/python3.10/dist-packages (from requests<3.0.0,>=2.13.0->spacy<3.8.0,>=3.7.0->pl-core-news-lg==3.7.0) (2024.2.2)\n",
            "Requirement already satisfied: blis<0.8.0,>=0.7.8 in /usr/local/lib/python3.10/dist-packages (from thinc<8.3.0,>=8.2.2->spacy<3.8.0,>=3.7.0->pl-core-news-lg==3.7.0) (0.7.11)\n",
            "Requirement already satisfied: confection<1.0.0,>=0.0.1 in /usr/local/lib/python3.10/dist-packages (from thinc<8.3.0,>=8.2.2->spacy<3.8.0,>=3.7.0->pl-core-news-lg==3.7.0) (0.1.4)\n",
            "Requirement already satisfied: click<9.0.0,>=7.1.1 in /usr/local/lib/python3.10/dist-packages (from typer<0.10.0,>=0.3.0->spacy<3.8.0,>=3.7.0->pl-core-news-lg==3.7.0) (8.1.7)\n",
            "Requirement already satisfied: cloudpathlib<0.17.0,>=0.7.0 in /usr/local/lib/python3.10/dist-packages (from weasel<0.4.0,>=0.1.0->spacy<3.8.0,>=3.7.0->pl-core-news-lg==3.7.0) (0.16.0)\n",
            "Requirement already satisfied: MarkupSafe>=2.0 in /usr/local/lib/python3.10/dist-packages (from jinja2->spacy<3.8.0,>=3.7.0->pl-core-news-lg==3.7.0) (2.1.5)\n",
            "Installing collected packages: pl-core-news-lg\n",
            "Successfully installed pl-core-news-lg-3.7.0\n",
            "\u001b[38;5;2m✔ Download and installation successful\u001b[0m\n",
            "You can now load the package via spacy.load('pl_core_news_lg')\n",
            "\u001b[38;5;3m⚠ Restart to reload dependencies\u001b[0m\n",
            "If you are in a Jupyter or Colab notebook, you may need to restart Python in\n",
            "order to load all the package's dependencies. You can do this by selecting the\n",
            "'Restart kernel' or 'Restart runtime' option.\n"
          ]
        },
        {
          "output_type": "display_data",
          "data": {
            "text/plain": [
              "Textarea(value='Wpisz tutaj polski tekst.', description='Text:', placeholder='Type something')"
            ],
            "application/vnd.jupyter.widget-view+json": {
              "version_major": 2,
              "version_minor": 0,
              "model_id": "2cbe13776a09400b97a9d7ee47ba2fdd"
            }
          },
          "metadata": {}
        },
        {
          "output_type": "display_data",
          "data": {
            "text/plain": [
              "<IPython.core.display.HTML object>"
            ],
            "text/html": [
              "<span style=\"color: green;\">064A</span> <span style=\"color: black;\">-</span> <span style=\"color: blue;\">DailyPolishStory</span> <span style=\"color: blue;\">Cześć</span> <span style=\"color: black;\">!</span> <span style=\"color: black;\">Zapraszam</span> <span style=\"color: black;\">na</span> <span style=\"color: purple;\">następną</span> <span style=\"color: purple;\">historyjkę</span> <span style=\"color: black;\">po</span> <span style=\"color: black;\">polsku</span> <span style=\"color: black;\">.</span> <span style=\"color: blue;\">Dzisiejsza</span> <span style=\"color: blue;\">historyjka</span> <span style=\"color: black;\">nosi</span> <span style=\"color: purple;\">tytuł</span> <span style=\"color: purple;\">Pyszne</span> <span style=\"color: purple;\">ciasteczka</span> <span style=\"color: black;\">.</span> <span style=\"color: blue;\">Historyjka</span> <span style=\"color: black;\">opowiada</span> <span style=\"color: black;\">o</span> <span style=\"color: brown;\">Ani</span> <span style=\"color: black;\">i</span> <span style=\"color: brown;\">Piotrze</span> <span style=\"color: black;\">.</span> <span style=\"color: black;\">Najpierw</span> <span style=\"color: black;\">posłuchaj</span> <span style=\"color: black;\">jak</span> <span style=\"color: black;\">opowiada</span> <span style=\"color: purple;\">ją</span> <span style=\"color: blue;\">Piotr</span> <span style=\"color: black;\">,</span> <span style=\"color: black;\">a</span> <span style=\"color: black;\">później</span> <span style=\"color: black;\">posłuchaj</span> <span style=\"color: green;\">historyjki</span> <span style=\"color: black;\">z</span> <span style=\"color: green;\">innego</span> <span style=\"color: green;\">punktu</span> <span style=\"color: green;\">widzenia</span> <span style=\"color: black;\">.</span> <span style=\"color: black;\">Zaczynajmy</span> <span style=\"color: black;\">!</span> <span style=\"color: black;\">W</span> <span style=\"color: brown;\">tamtym</span> <span style=\"color: brown;\">roku</span> <span style=\"color: black;\">podróżowałem</span> <span style=\"color: black;\">razem</span> <span style=\"color: black;\">z</span> <span style=\"color: black;\">Anią</span> <span style=\"color: black;\">po</span> <span style=\"color: brown;\">Niemczech</span> <span style=\"color: black;\">.</span> <span style=\"color: black;\">Byliśmy</span> <span style=\"color: blue;\">głodni</span> <span style=\"color: black;\">,</span> <span style=\"color: black;\">ale</span> <span style=\"color: black;\">mieliśmy</span> <span style=\"color: purple;\">mało</span> <span style=\"color: green;\">pieniędzy</span> <span style=\"color: black;\">.</span> <span style=\"color: black;\">Chcieliśmy</span> <span style=\"color: black;\">kupić</span> <span style=\"color: purple;\">coś</span> <span style=\"color: black;\">do</span> <span style=\"color: green;\">jedzenia</span> <span style=\"color: black;\">.</span> <span style=\"color: blue;\">Ania</span> <span style=\"color: black;\">pilnowała</span> <span style=\"color: green;\">naszych</span> <span style=\"color: green;\">plecaków</span> <span style=\"color: black;\">.</span> <span style=\"color: blue;\">Ja</span> <span style=\"color: black;\">wszedłem</span> <span style=\"color: black;\">do</span> <span style=\"color: green;\">wiejskiego</span> <span style=\"color: green;\">sklepiku</span> <span style=\"color: black;\">.</span> <span style=\"color: black;\">Wziąłem</span> <span style=\"color: purple;\">trochę</span> <span style=\"color: green;\">ciastek</span> <span style=\"color: black;\">i</span> <span style=\"color: black;\">podszedłem</span> <span style=\"color: black;\">do</span> <span style=\"color: green;\">kasy</span> <span style=\"color: black;\">.</span> <span style=\"color: black;\">Przy</span> <span style=\"color: brown;\">kasie</span> <span style=\"color: black;\">zauważyłem</span> <span style=\"color: purple;\">większą</span> <span style=\"color: purple;\">paczkę</span> <span style=\"color: green;\">ciastek</span> <span style=\"color: black;\">.</span> <span style=\"color: blue;\">One</span> <span style=\"color: black;\">były</span> <span style=\"color: black;\">dużo</span> <span style=\"color: blue;\">tańsze</span> <span style=\"color: black;\">od</span> <span style=\"color: black;\">tamtych</span> <span style=\"color: black;\">.</span> <span style=\"color: black;\">Zostawiłem</span> <span style=\"color: purple;\">droższe</span> <span style=\"color: purple;\">ciastka</span> <span style=\"color: black;\">i</span> <span style=\"color: black;\">wziąłem</span> <span style=\"color: purple;\">te</span> <span style=\"color: purple;\">tańsze</span> <span style=\"color: black;\">.</span> <span style=\"color: black;\">Zapłaciłem</span> <span style=\"color: black;\">za</span> <span style=\"color: purple;\">ciastka</span> <span style=\"color: black;\">i</span> <span style=\"color: black;\">wyszedłem</span> <span style=\"color: black;\">ze</span> <span style=\"color: green;\">sklepu</span> <span style=\"color: black;\">.</span> <span style=\"color: black;\">Potem</span> <span style=\"color: black;\">usiedliśmy</span> <span style=\"color: black;\">pod</span> <span style=\"color: black;\">drzewem</span> <span style=\"color: black;\">i</span> <span style=\"color: black;\">zjedliśmy</span> <span style=\"color: purple;\">ciastka</span> <span style=\"color: black;\">.</span> <span style=\"color: blue;\">Te</span> <span style=\"color: blue;\">ciastka</span> <span style=\"color: black;\">są</span> <span style=\"color: blue;\">pyszne</span> <span style=\"color: black;\">.</span> <span style=\"color: black;\">Kupmy</span> <span style=\"color: green;\">ich</span> <span style=\"color: purple;\">więcej</span> <span style=\"color: black;\">,</span> <span style=\"color: black;\">bo</span> <span style=\"color: black;\">są</span> <span style=\"color: blue;\">tanie</span> <span style=\"color: black;\">,</span> <span style=\"color: black;\">powiedziałem</span> <span style=\"color: black;\">.</span> <span style=\"color: blue;\">Ania</span> <span style=\"color: black;\">umiała</span> <span style=\"color: black;\">trochę</span> <span style=\"color: blue;\">niemiecki</span> <span style=\"color: black;\">.</span> <span style=\"color: black;\">Sprawdzę</span> <span style=\"color: black;\">jak</span> <span style=\"color: black;\">się</span> <span style=\"color: black;\">nazywają</span> <span style=\"color: purple;\">te</span> <span style=\"color: purple;\">ciasteczka</span> <span style=\"color: black;\">,</span> <span style=\"color: black;\">powiedziała</span> <span style=\"color: blue;\">Ania</span> <span style=\"color: black;\">.</span> <span style=\"color: black;\">Potem</span> <span style=\"color: black;\">zaczęła</span> <span style=\"color: black;\">się</span> <span style=\"color: black;\">śmiać</span> <span style=\"color: black;\">.</span> <span style=\"color: black;\">Dlaczego</span> <span style=\"color: black;\">się</span> <span style=\"color: black;\">śmiejesz</span> <span style=\"color: black;\">?</span> <span style=\"color: black;\">spytałem</span> <span style=\"color: black;\">.</span> <span style=\"color: black;\">To</span> <span style=\"color: black;\">są</span> <span style=\"color: blue;\">ciasteczka</span> <span style=\"color: black;\">dla</span> <span style=\"color: green;\">psów</span> <span style=\"color: black;\">,</span> <span style=\"color: black;\">powiedziała</span> <span style=\"color: blue;\">Ania.tekst</span> <span style=\"color: black;\">.</span> "
            ]
          },
          "metadata": {}
        },
        {
          "output_type": "display_data",
          "data": {
            "text/plain": [
              "<IPython.core.display.HTML object>"
            ],
            "text/html": [
              "<span style=\"color: blue;\">062A</span> <span style=\"color: black;\">-</span> <span style=\"color: blue;\">DailyPolishStory</span> <span style=\"color: blue;\">Cześć</span> <span style=\"color: black;\">!</span> <span style=\"color: black;\">Zapraszam</span> <span style=\"color: black;\">na</span> <span style=\"color: purple;\">następną</span> <span style=\"color: purple;\">historyjkę</span> <span style=\"color: black;\">.</span> <span style=\"color: black;\">Dzisiaj</span> <span style=\"color: black;\">opowiem</span> <span style=\"color: purple;\">historyjkę</span> <span style=\"color: black;\">o</span> <span style=\"color: brown;\">człowieku</span> <span style=\"color: black;\">,</span> <span style=\"color: blue;\">który</span> <span style=\"color: black;\">tak</span> <span style=\"color: black;\">kochał</span> <span style=\"color: purple;\">pieniądze</span> <span style=\"color: black;\">,</span> <span style=\"color: black;\">że</span> <span style=\"color: black;\">chciał</span> <span style=\"color: black;\">zabrać</span> <span style=\"color: purple;\">je</span> <span style=\"color: black;\">nawet</span> <span style=\"color: black;\">do</span> <span style=\"color: green;\">grobu</span> <span style=\"color: black;\">.</span> <span style=\"color: black;\">Najpierw</span> <span style=\"color: black;\">posłuchaj</span> <span style=\"color: green;\">historyjki</span> <span style=\"color: black;\">w</span> <span style=\"color: brown;\">czasie</span> <span style=\"color: brown;\">przeszłym</span> <span style=\"color: black;\">,</span> <span style=\"color: black;\">czyli</span> <span style=\"color: black;\">tak</span> <span style=\"color: black;\">jakby</span> <span style=\"color: black;\">już</span> <span style=\"color: black;\">się</span> <span style=\"color: black;\">wydarzyła</span> <span style=\"color: black;\">.</span> <span style=\"color: black;\">Zaczynajmy</span> <span style=\"color: black;\">!</span> <span style=\"color: blue;\">Stanisław</span> <span style=\"color: black;\">pracował</span> <span style=\"color: black;\">przez</span> <span style=\"color: purple;\">całe</span> <span style=\"color: purple;\">życie</span> <span style=\"color: black;\">.</span> <span style=\"color: blue;\">On</span> <span style=\"color: black;\">zawsze</span> <span style=\"color: black;\">oszczędzał</span> <span style=\"color: purple;\">pieniądze</span> <span style=\"color: black;\">.</span> <span style=\"color: blue;\">Stanisław</span> <span style=\"color: black;\">kochał</span> <span style=\"color: purple;\">pieniądze</span> <span style=\"color: black;\">bardziej</span> <span style=\"color: black;\">niż</span> <span style=\"color: blue;\">wszystko</span> <span style=\"color: blue;\">inne</span> <span style=\"color: black;\">.</span> <span style=\"color: green;\">Pewnego</span> <span style=\"color: green;\">dnia</span> <span style=\"color: black;\">poprosił</span> <span style=\"color: purple;\">swoją</span> <span style=\"color: purple;\">żonę</span> <span style=\"color: purple;\">Alicję</span> <span style=\"color: black;\">.</span> <span style=\"color: black;\">Obiecaj</span> <span style=\"color: black;\">,</span> <span style=\"color: black;\">jeśli</span> <span style=\"color: black;\">kiedyś</span> <span style=\"color: black;\">umrę</span> <span style=\"color: black;\">,</span> <span style=\"color: black;\">włóż</span> <span style=\"color: purple;\">moje</span> <span style=\"color: purple;\">pieniądze</span> <span style=\"color: black;\">do</span> <span style=\"color: green;\">trumny</span> <span style=\"color: black;\">.</span> <span style=\"color: blue;\">Alicja</span> <span style=\"color: black;\">przyrzekła</span> <span style=\"color: black;\">,</span> <span style=\"color: black;\">że</span> <span style=\"color: black;\">tak</span> <span style=\"color: black;\">zrobi</span> <span style=\"color: black;\">.</span> <span style=\"color: green;\">Pewnego</span> <span style=\"color: green;\">dnia</span> <span style=\"color: blue;\">Stanisław</span> <span style=\"color: black;\">umarł</span> <span style=\"color: black;\">.</span> <span style=\"color: black;\">Przed</span> <span style=\"color: black;\">samym</span> <span style=\"color: black;\">końcem</span> <span style=\"color: green;\">pogrzebu</span> <span style=\"color: blue;\">Alicja</span> <span style=\"color: black;\">krzyknęła</span> <span style=\"color: black;\">,</span> <span style=\"color: black;\">Czekajcie</span> <span style=\"color: black;\">!</span> <span style=\"color: blue;\">Ona</span> <span style=\"color: black;\">włożyła</span> <span style=\"color: purple;\">małe</span> <span style=\"color: purple;\">pudełko</span> <span style=\"color: black;\">do</span> <span style=\"color: green;\">trumny</span> <span style=\"color: black;\">.</span> <span style=\"color: blue;\">Trumna</span> <span style=\"color: black;\">została</span> <span style=\"color: blue;\">zamknięta</span> <span style=\"color: black;\">.</span> <span style=\"color: black;\">Chyba</span> <span style=\"color: black;\">nie</span> <span style=\"color: black;\">jesteś</span> <span style=\"color: blue;\">szalona</span> <span style=\"color: black;\">?</span> <span style=\"color: black;\">Czy</span> <span style=\"color: black;\">włożyłaś</span> <span style=\"color: purple;\">pieniądze</span> <span style=\"color: black;\">do</span> <span style=\"color: green;\">trumny</span> <span style=\"color: black;\">?</span> <span style=\"color: black;\">spytała</span> <span style=\"color: blue;\">Alicja</span> <span style=\"color: green;\">jej</span> <span style=\"color: blue;\">koleżanka</span> <span style=\"color: black;\">.</span> <span style=\"color: black;\">Tak</span> <span style=\"color: black;\">,</span> <span style=\"color: black;\">włożyłam</span> <span style=\"color: black;\">.</span> <span style=\"color: black;\">Przecież</span> <span style=\"color: black;\">obiecałam</span> <span style=\"color: purple;\">to</span> <span style=\"color: red;\">Stanisławowi</span> <span style=\"color: black;\">,</span> <span style=\"color: black;\">powiedziała</span> <span style=\"color: blue;\">Alicja</span> <span style=\"color: black;\">.</span> <span style=\"color: black;\">Włożyłaś</span> <span style=\"color: purple;\">wszystkie</span> <span style=\"color: purple;\">pieniądze</span> <span style=\"color: black;\">do</span> <span style=\"color: green;\">trumny</span> <span style=\"color: black;\">?</span> <span style=\"color: black;\">Nie</span> <span style=\"color: black;\">mogła</span> <span style=\"color: black;\">uwierzyć</span> <span style=\"color: green;\">jej</span> <span style=\"color: blue;\">koleżanka</span> <span style=\"color: black;\">.</span> <span style=\"color: black;\">Oczywiście</span> <span style=\"color: black;\">,</span> <span style=\"color: black;\">że</span> <span style=\"color: purple;\">to</span> <span style=\"color: black;\">zrobiłam</span> <span style=\"color: black;\">,</span> <span style=\"color: black;\">powiedziała</span> <span style=\"color: blue;\">Alicja</span> <span style=\"color: black;\">.</span> <span style=\"color: black;\">Przelałam</span> <span style=\"color: purple;\">pieniądze</span> <span style=\"color: black;\">na</span> <span style=\"color: purple;\">moje</span> <span style=\"color: purple;\">konto</span> <span style=\"color: black;\">i</span> <span style=\"color: black;\">wypisałam</span> <span style=\"color: red;\">Stanisławowi</span> <span style=\"color: purple;\">czek</span> <span style=\"color: black;\">.</span> "
            ]
          },
          "metadata": {}
        },
        {
          "output_type": "display_data",
          "data": {
            "text/plain": [
              "<IPython.core.display.HTML object>"
            ],
            "text/html": [
              "<span style=\"color: blue;\">062A</span> <span style=\"color: black;\">-</span> <span style=\"color: blue;\">DailyPolishStory</span> <span style=\"color: blue;\">Cześć</span> <span style=\"color: black;\">!</span> <span style=\"color: black;\">Zapraszam</span> <span style=\"color: black;\">na</span> <span style=\"color: purple;\">następną</span> <span style=\"color: purple;\">historyjkę</span> <span style=\"color: black;\">.</span> <span style=\"color: black;\">Dzisiaj</span> <span style=\"color: black;\">opowiem</span> <span style=\"color: purple;\">historyjkę</span> <span style=\"color: black;\">o</span> <span style=\"color: brown;\">człowieku</span> <span style=\"color: black;\">,</span> <span style=\"color: blue;\">który</span> <span style=\"color: black;\">tak</span> <span style=\"color: black;\">kochał</span> <span style=\"color: purple;\">pieniądze</span> <span style=\"color: black;\">,</span> <span style=\"color: black;\">że</span> <span style=\"color: black;\">chciał</span> <span style=\"color: black;\">zabrać</span> <span style=\"color: purple;\">je</span> <span style=\"color: black;\">nawet</span> <span style=\"color: black;\">do</span> <span style=\"color: green;\">grobu</span> <span style=\"color: black;\">.</span> <span style=\"color: black;\">Najpierw</span> <span style=\"color: black;\">posłuchaj</span> <span style=\"color: green;\">historyjki</span> <span style=\"color: black;\">w</span> <span style=\"color: brown;\">czasie</span> <span style=\"color: brown;\">przeszłym</span> <span style=\"color: black;\">,</span> <span style=\"color: black;\">czyli</span> <span style=\"color: black;\">tak</span> <span style=\"color: black;\">jakby</span> <span style=\"color: black;\">już</span> <span style=\"color: black;\">się</span> <span style=\"color: black;\">wydarzyła</span> <span style=\"color: black;\">.</span> <span style=\"color: black;\">Zaczynajmy</span> <span style=\"color: black;\">!</span> <span style=\"color: blue;\">Stanisław</span> <span style=\"color: black;\">pracował</span> <span style=\"color: black;\">przez</span> <span style=\"color: purple;\">całe</span> <span style=\"color: purple;\">życie</span> <span style=\"color: black;\">.</span> <span style=\"color: blue;\">On</span> <span style=\"color: black;\">zawsze</span> <span style=\"color: black;\">oszczędzał</span> <span style=\"color: purple;\">pieniądze</span> <span style=\"color: black;\">.</span> <span style=\"color: blue;\">Stanisław</span> <span style=\"color: black;\">kochał</span> <span style=\"color: purple;\">pieniądze</span> <span style=\"color: black;\">bardziej</span> <span style=\"color: black;\">niż</span> <span style=\"color: blue;\">wszystko</span> <span style=\"color: blue;\">inne</span> <span style=\"color: black;\">.</span> <span style=\"color: green;\">Pewnego</span> <span style=\"color: green;\">dnia</span> <span style=\"color: black;\">poprosił</span> <span style=\"color: purple;\">swoją</span> <span style=\"color: purple;\">żonę</span> <span style=\"color: purple;\">Alicję</span> <span style=\"color: black;\">.</span> <span style=\"color: black;\">Obiecaj</span> <span style=\"color: black;\">,</span> <span style=\"color: black;\">jeśli</span> <span style=\"color: black;\">kiedyś</span> <span style=\"color: black;\">umrę</span> <span style=\"color: black;\">,</span> <span style=\"color: black;\">włóż</span> <span style=\"color: purple;\">moje</span> <span style=\"color: purple;\">pieniądze</span> <span style=\"color: black;\">do</span> <span style=\"color: green;\">trumny</span> <span style=\"color: black;\">.</span> <span style=\"color: blue;\">Alicja</span> <span style=\"color: black;\">przyrzekła</span> <span style=\"color: black;\">,</span> <span style=\"color: black;\">że</span> <span style=\"color: black;\">tak</span> <span style=\"color: black;\">zrobi</span> <span style=\"color: black;\">.</span> <span style=\"color: green;\">Pewnego</span> <span style=\"color: green;\">dnia</span> <span style=\"color: blue;\">Stanisław</span> <span style=\"color: black;\">umarł</span> <span style=\"color: black;\">.</span> <span style=\"color: black;\">Przed</span> <span style=\"color: black;\">samym</span> <span style=\"color: black;\">końcem</span> <span style=\"color: green;\">pogrzebu</span> <span style=\"color: blue;\">Alicja</span> <span style=\"color: black;\">krzyknęła</span> <span style=\"color: black;\">,</span> <span style=\"color: black;\">Czekajcie</span> <span style=\"color: black;\">!</span> <span style=\"color: blue;\">Ona</span> <span style=\"color: black;\">włożyła</span> <span style=\"color: purple;\">małe</span> <span style=\"color: purple;\">pudełko</span> <span style=\"color: black;\">do</span> <span style=\"color: green;\">trumny</span> <span style=\"color: black;\">.</span> <span style=\"color: blue;\">Trumna</span> <span style=\"color: black;\">została</span> <span style=\"color: blue;\">zamknięta</span> <span style=\"color: black;\">.</span> <span style=\"color: black;\">Chyba</span> <span style=\"color: black;\">nie</span> <span style=\"color: black;\">jesteś</span> <span style=\"color: blue;\">szalona</span> <span style=\"color: black;\">?</span> <span style=\"color: black;\">Czy</span> <span style=\"color: black;\">włożyłaś</span> <span style=\"color: purple;\">pieniądze</span> <span style=\"color: black;\">do</span> <span style=\"color: green;\">trumny</span> <span style=\"color: black;\">?</span> <span style=\"color: black;\">spytała</span> <span style=\"color: blue;\">Alicja</span> <span style=\"color: green;\">jej</span> <span style=\"color: blue;\">koleżanka</span> <span style=\"color: black;\">.</span> <span style=\"color: black;\">Tak</span> <span style=\"color: black;\">,</span> <span style=\"color: black;\">włożyłam</span> <span style=\"color: black;\">.</span> <span style=\"color: black;\">Przecież</span> <span style=\"color: black;\">obiecałam</span> <span style=\"color: purple;\">to</span> <span style=\"color: red;\">Stanisławowi</span> <span style=\"color: black;\">,</span> <span style=\"color: black;\">powiedziała</span> <span style=\"color: blue;\">Alicja</span> <span style=\"color: black;\">.</span> <span style=\"color: black;\">Włożyłaś</span> <span style=\"color: purple;\">wszystkie</span> <span style=\"color: purple;\">pieniądze</span> <span style=\"color: black;\">do</span> <span style=\"color: green;\">trumny</span> <span style=\"color: black;\">?</span> <span style=\"color: black;\">Nie</span> <span style=\"color: black;\">mogła</span> <span style=\"color: black;\">uwierzyć</span> <span style=\"color: green;\">jej</span> <span style=\"color: blue;\">koleżanka</span> <span style=\"color: black;\">.</span> <span style=\"color: black;\">Oczywiście</span> <span style=\"color: black;\">,</span> <span style=\"color: black;\">że</span> <span style=\"color: purple;\">to</span> <span style=\"color: black;\">zrobiłam</span> <span style=\"color: black;\">,</span> <span style=\"color: black;\">powiedziała</span> <span style=\"color: blue;\">Alicja</span> <span style=\"color: black;\">.</span> <span style=\"color: black;\">Przelałam</span> <span style=\"color: purple;\">pieniądze</span> <span style=\"color: black;\">na</span> <span style=\"color: purple;\">moje</span> <span style=\"color: purple;\">konto</span> <span style=\"color: black;\">i</span> <span style=\"color: black;\">wypisałam</span> <span style=\"color: red;\">Stanisławowi</span> <span style=\"color: purple;\">czek</span> <span style=\"color: black;\">.</span> <span style=\"color: black;\">\n",
              "</span> "
            ]
          },
          "metadata": {}
        }
      ],
      "source": [
        "import spacy\n",
        "from ipywidgets import widgets\n",
        "from IPython.display import display, HTML\n",
        "#@title Choose a language model\n",
        "model = \"pl_core_news_lg\" #@param [\"pl_core_news_lg\", \"ca_core_news_sm\", \"da_core_news_sm\", \"de_core_news_sm\", \"el_core_news_sm\", \"en_core_web_sm\", \"es_core_news_sm\", \"fi_core_news_sm\", \"fr_core_news_sm\", \"hr_core_news_sm\", \"it_core_news_sm\", \"ja_core_news_sm\", \"ko_core_news_sm\", \"lt_core_news_sm\", \"mk_core_news_sm\", \"nb_core_news_sm\", \"nl_core_news_sm\", \"pt_core_news_sm\", \"ro_core_news_sm\", \"sl_core_news_sm\", \"sv_core_news_sm\", \"ru_core_news_sm\", \"uk_core_news_sm\", \"xx_ent_wiki_sm\", \"xx_sent_ud_sm\", \"zh_core_web_sm\"]\n",
        "!python -m spacy download {model}\n",
        "\n",
        "spacy.prefer_gpu()\n",
        "\n",
        "nlp = spacy.load(model)\n",
        "\n"
      ]
    },
    {
      "cell_type": "code",
      "source": [
        "\n",
        "# Function to process text and return HTML with color-coded cases and tooltips\n",
        "def process_and_display_text(text):\n",
        "    doc = nlp(text)\n",
        "    highlighted_text = \"\"\n",
        "    for token in doc:\n",
        "        # Retrieve morphological information\n",
        "        case = token.morph.get(\"Case\")\n",
        "        morph = \" \".join(f'{token.morph}'.split(\"|\"))\n",
        "        # Define the tooltip text\n",
        "        tooltip_text = f\"{token.lemma_} {token.pos_} ({morph})\"\n",
        "\n",
        "        # Assign color based on grammatical case\n",
        "        color = \"black\"  # Default color\n",
        "        if case:\n",
        "            if \"Nom\" in case:\n",
        "                color = \"blue\"\n",
        "            elif \"Gen\" in case:\n",
        "                color = \"green\"\n",
        "            elif \"Dat\" in case:\n",
        "                color = \"red\"\n",
        "            elif \"Acc\" in case:\n",
        "                color = \"purple\"\n",
        "            elif \"Inst\" in case:\n",
        "                color = \"orange\"\n",
        "            elif \"Loc\" in case:\n",
        "                color = \"brown\"\n",
        "            elif \"Voc\" in case:\n",
        "                color = \"pink\"\n",
        "\n",
        "        # Append the token span with style and tooltip\n",
        "        highlighted_text += f'<span style=\"color: {color};\" title=\"{tooltip_text}\">{token.text}</span> '\n",
        "\n",
        "    display(HTML(highlighted_text))\n",
        "\n",
        "# Create a text input widget\n",
        "text_input = widgets.Textarea(\n",
        "    value='Wpisz tutaj polski tekst.',\n",
        "    placeholder='Type something',\n",
        "    description='Text:',\n",
        "    disabled=False\n",
        ")\n",
        "\n",
        "# Display the text input widget and process the text upon submission\n",
        "def on_text_submit(change):\n",
        "    process_and_display_text(change.new)\n",
        "\n",
        "text_input.observe(on_text_submit, names='value')\n",
        "\n",
        "display(text_input)"
      ],
      "metadata": {
        "colab": {
          "base_uri": "https://localhost:8080/",
          "height": 184,
          "referenced_widgets": [
            "6197ace702854e23aaeb14d0567a6ef1",
            "0ee9519557894471ac396fff4a0ac7f7",
            "0d1d31257c4948c1817e8372e8faf60b"
          ]
        },
        "id": "STheR_AGNjQ_",
        "outputId": "cfced908-5d39-4558-c9a4-aa146ba8af47"
      },
      "execution_count": 4,
      "outputs": [
        {
          "output_type": "display_data",
          "data": {
            "text/plain": [
              "Textarea(value='Wpisz tutaj polski tekst.', description='Text:', placeholder='Type something')"
            ],
            "application/vnd.jupyter.widget-view+json": {
              "version_major": 2,
              "version_minor": 0,
              "model_id": "6197ace702854e23aaeb14d0567a6ef1"
            }
          },
          "metadata": {}
        },
        {
          "output_type": "display_data",
          "data": {
            "text/plain": [
              "<IPython.core.display.HTML object>"
            ],
            "text/html": [
              "<span style=\"color: black;\" title=\"cześć INTJ ()\">Cześć</span> <span style=\"color: black;\" title=\"! PUNCT (PunctType=Excl)\">!</span> <span style=\"color: black;\" title=\"zapraszać VERB (Aspect=Imp Mood=Ind Number=Sing Person=1 Tense=Pres VerbForm=Fin Voice=Act)\">Zapraszam</span> <span style=\"color: black;\" title=\"na ADP (AdpType=Prep)\">na</span> <span style=\"color: purple;\" title=\"następny ADJ (Case=Acc Degree=Pos Gender=Fem Number=Sing)\">następną</span> <span style=\"color: purple;\" title=\"historyjka NOUN (Case=Acc Gender=Fem Number=Sing)\">historyjkę</span> <span style=\"color: black;\" title=\". PUNCT (PunctType=Peri)\">.</span> <span style=\"color: black;\" title=\"dzisiaj ADV ()\">Dzisiaj</span> <span style=\"color: black;\" title=\"opowiedzieć VERB (Aspect=Perf Mood=Ind Number=Sing Person=1 Tense=Fut VerbForm=Fin Voice=Act)\">opowiem</span> <span style=\"color: purple;\" title=\"historyjka NOUN (Case=Acc Gender=Fem Number=Sing)\">historyjkę</span> <span style=\"color: black;\" title=\"o ADP (AdpType=Prep)\">o</span> <span style=\"color: brown;\" title=\"człowiek NOUN (Animacy=Hum Case=Loc Gender=Masc Number=Sing)\">człowieku</span> <span style=\"color: black;\" title=\", PUNCT (PunctType=Comm)\">,</span> <span style=\"color: blue;\" title=\"który DET (Animacy=Hum Case=Nom Gender=Masc Number=Sing PronType=Rel)\">który</span> <span style=\"color: black;\" title=\"tak ADV (Degree=Pos PronType=Dem)\">tak</span> <span style=\"color: black;\" title=\"kochać VERB (Animacy=Hum Aspect=Imp Gender=Masc Mood=Ind Number=Sing Tense=Past VerbForm=Fin Voice=Act)\">kochał</span> <span style=\"color: purple;\" title=\"pieniądz NOUN (Animacy=Inan Case=Acc Gender=Masc Number=Plur)\">pieniądze</span> <span style=\"color: black;\" title=\", PUNCT (PunctType=Comm)\">,</span> <span style=\"color: black;\" title=\"że SCONJ ()\">że</span> <span style=\"color: black;\" title=\"chcieć VERB (Animacy=Hum Aspect=Imp Gender=Masc Mood=Ind Number=Sing Tense=Past VerbForm=Fin Voice=Act)\">chciał</span> <span style=\"color: black;\" title=\"zabrać VERB (Aspect=Perf VerbForm=Inf Voice=Act)\">zabrać</span> <span style=\"color: purple;\" title=\"on PRON (Animacy=Inan Case=Acc Gender=Masc Number=Plur Person=3 PrepCase=Npr PronType=Prs Variant=Long)\">je</span> <span style=\"color: black;\" title=\"nawet PART ()\">nawet</span> <span style=\"color: black;\" title=\"do ADP (AdpType=Prep)\">do</span> <span style=\"color: green;\" title=\"grób NOUN (Animacy=Inan Case=Gen Gender=Masc Number=Sing)\">grobu</span> <span style=\"color: black;\" title=\". PUNCT (PunctType=Peri)\">.</span> <span style=\"color: black;\" title=\"najpierw ADV ()\">Najpierw</span> <span style=\"color: black;\" title=\"posłuchać VERB (Aspect=Perf Mood=Imp Number=Sing Person=2 VerbForm=Fin Voice=Act)\">posłuchaj</span> <span style=\"color: green;\" title=\"historyjka NOUN (Case=Gen Gender=Fem Number=Sing)\">historyjki</span> <span style=\"color: black;\" title=\"w ADP (AdpType=Prep Variant=Short)\">w</span> <span style=\"color: brown;\" title=\"czas NOUN (Animacy=Inan Case=Loc Gender=Masc Number=Sing)\">czasie</span> <span style=\"color: brown;\" title=\"przeszły ADJ (Animacy=Inan Case=Loc Degree=Pos Gender=Masc Number=Sing)\">przeszłym</span> <span style=\"color: black;\" title=\", PUNCT (PunctType=Comm)\">,</span> <span style=\"color: black;\" title=\"czyli CCONJ ()\">czyli</span> <span style=\"color: black;\" title=\"tak ADV (Degree=Pos PronType=Dem)\">tak</span> <span style=\"color: black;\" title=\"jakby PART ()\">jakby</span> <span style=\"color: black;\" title=\"już PART ()\">już</span> <span style=\"color: black;\" title=\"się PRON (PronType=Prs Reflex=Yes)\">się</span> <span style=\"color: black;\" title=\"wydarzyć VERB (Aspect=Perf Gender=Fem Mood=Ind Number=Sing Tense=Past VerbForm=Fin Voice=Act)\">wydarzyła</span> <span style=\"color: black;\" title=\". PUNCT (PunctType=Peri)\">.</span> <span style=\"color: black;\" title=\"zaczynać VERB (Aspect=Perf Mood=Imp Number=Plur Person=1 VerbForm=Fin Voice=Act)\">Zaczynajmy</span> <span style=\"color: black;\" title=\"! PUNCT (PunctType=Excl)\">!</span> <span style=\"color: blue;\" title=\"Stanisław PROPN (Animacy=Hum Case=Nom Gender=Masc Number=Sing)\">Stanisław</span> <span style=\"color: black;\" title=\"pracować VERB (Animacy=Hum Aspect=Imp Gender=Masc Mood=Ind Number=Sing Tense=Past VerbForm=Fin Voice=Act)\">pracował</span> <span style=\"color: black;\" title=\"przez ADP (AdpType=Prep Variant=Short)\">przez</span> <span style=\"color: purple;\" title=\"cały ADJ (Case=Acc Degree=Pos Gender=Neut Number=Sing)\">całe</span> <span style=\"color: purple;\" title=\"życie NOUN (Case=Acc Gender=Neut Number=Sing)\">życie</span> <span style=\"color: black;\" title=\". PUNCT (PunctType=Peri)\">.</span> <span style=\"color: blue;\" title=\"on PRON (Animacy=Hum Case=Nom Gender=Masc Number=Sing Person=3 PrepCase=Npr PronType=Prs Variant=Long)\">On</span> <span style=\"color: black;\" title=\"zawsze ADV (PronType=Tot)\">zawsze</span> <span style=\"color: black;\" title=\"oszczędzać VERB (Animacy=Hum Aspect=Imp Gender=Masc Mood=Ind Number=Sing Tense=Past VerbForm=Fin Voice=Act)\">oszczędzał</span> <span style=\"color: purple;\" title=\"pieniądz NOUN (Animacy=Inan Case=Acc Gender=Masc Number=Plur)\">pieniądze</span> <span style=\"color: black;\" title=\". PUNCT (PunctType=Peri)\">.</span> <span style=\"color: blue;\" title=\"Stanisław PROPN (Animacy=Hum Case=Nom Gender=Masc Number=Sing)\">Stanisław</span> <span style=\"color: black;\" title=\"kochać VERB (Animacy=Hum Aspect=Imp Gender=Masc Mood=Ind Number=Sing Tense=Past VerbForm=Fin Voice=Act)\">kochał</span> <span style=\"color: purple;\" title=\"pieniądz NOUN (Animacy=Inan Case=Acc Gender=Masc Number=Plur)\">pieniądze</span> <span style=\"color: black;\" title=\"bardzo ADV (Degree=Cmp)\">bardziej</span> <span style=\"color: black;\" title=\"niż SCONJ (ConjType=Comp)\">niż</span> <span style=\"color: blue;\" title=\"wszystko PRON (Case=Nom Gender=Neut Number=Sing PronType=Tot)\">wszystko</span> <span style=\"color: blue;\" title=\"inny ADJ (Case=Nom Degree=Pos Gender=Neut Number=Sing)\">inne</span> <span style=\"color: black;\" title=\". PUNCT (PunctType=Peri)\">.</span> <span style=\"color: green;\" title=\"pewien DET (Animacy=Inan Case=Gen Gender=Masc Number=Sing PronType=Ind)\">Pewnego</span> <span style=\"color: green;\" title=\"dzień NOUN (Animacy=Inan Case=Gen Gender=Masc Number=Sing)\">dnia</span> <span style=\"color: black;\" title=\"poprosić VERB (Animacy=Hum Aspect=Perf Gender=Masc Mood=Ind Number=Sing Tense=Past VerbForm=Fin Voice=Act)\">poprosił</span> <span style=\"color: purple;\" title=\"swój DET (Case=Acc Gender=Fem Number=Sing Poss=Yes PronType=Prs Reflex=Yes)\">swoją</span> <span style=\"color: purple;\" title=\"żona NOUN (Case=Acc Gender=Fem Number=Sing)\">żonę</span> <span style=\"color: purple;\" title=\"Alicja PROPN (Case=Acc Gender=Fem Number=Sing)\">Alicję</span> <span style=\"color: black;\" title=\". PUNCT (PunctType=Peri)\">.</span> <span style=\"color: black;\" title=\"Obiecaj VERB (Aspect=Imp Mood=Imp Number=Sing Person=2 VerbForm=Fin Voice=Act)\">Obiecaj</span> <span style=\"color: black;\" title=\", PUNCT (PunctType=Comm)\">,</span> <span style=\"color: black;\" title=\"jeśli SCONJ ()\">jeśli</span> <span style=\"color: black;\" title=\"kiedyś ADV (PronType=Ind)\">kiedyś</span> <span style=\"color: black;\" title=\"umryć VERB (Aspect=Perf Mood=Ind Number=Sing Person=3 Tense=Fut VerbForm=Fin Voice=Act)\">umrę</span> <span style=\"color: black;\" title=\", PUNCT (PunctType=Comm)\">,</span> <span style=\"color: black;\" title=\"włóż VERB (Aspect=Perf Mood=Imp Number=Sing Person=2 VerbForm=Fin Voice=Act)\">włóż</span> <span style=\"color: purple;\" title=\"mój DET (Case=Acc Gender=Neut Number=Sing Number[psor]=Sing Person=1 Poss=Yes PronType=Prs)\">moje</span> <span style=\"color: purple;\" title=\"pieniądz NOUN (Animacy=Inan Case=Acc Gender=Masc Number=Plur)\">pieniądze</span> <span style=\"color: black;\" title=\"do ADP (AdpType=Prep)\">do</span> <span style=\"color: green;\" title=\"trumna NOUN (Case=Gen Gender=Fem Number=Sing)\">trumny</span> <span style=\"color: black;\" title=\". PUNCT (PunctType=Peri)\">.</span> <span style=\"color: blue;\" title=\"Alicja PROPN (Case=Nom Gender=Fem Number=Sing)\">Alicja</span> <span style=\"color: black;\" title=\"przyrzekła VERB (Aspect=Perf Gender=Fem Mood=Ind Number=Sing Tense=Past VerbForm=Fin Voice=Act)\">przyrzekła</span> <span style=\"color: black;\" title=\", PUNCT (PunctType=Comm)\">,</span> <span style=\"color: black;\" title=\"że SCONJ ()\">że</span> <span style=\"color: black;\" title=\"tak ADV (Degree=Pos PronType=Dem)\">tak</span> <span style=\"color: black;\" title=\"zrobić VERB (Aspect=Perf Mood=Ind Number=Sing Person=3 Tense=Fut VerbForm=Fin Voice=Act)\">zrobi</span> <span style=\"color: black;\" title=\". PUNCT (PunctType=Peri)\">.</span> <span style=\"color: green;\" title=\"pewien DET (Animacy=Inan Case=Gen Gender=Masc Number=Sing PronType=Ind)\">Pewnego</span> <span style=\"color: green;\" title=\"dzień NOUN (Animacy=Inan Case=Gen Gender=Masc Number=Sing)\">dnia</span> <span style=\"color: blue;\" title=\"Stanisław PROPN (Animacy=Hum Case=Nom Gender=Masc Number=Sing)\">Stanisław</span> <span style=\"color: black;\" title=\"umrzeć VERB (Animacy=Hum Aspect=Perf Gender=Masc Mood=Ind Number=Sing Tense=Past VerbForm=Fin Voice=Act)\">umarł</span> <span style=\"color: black;\" title=\". PUNCT (PunctType=Peri)\">.</span> <span style=\"color: black;\" title=\"przed ADP (AdpType=Prep Variant=Short)\">Przed</span> <span style=\"color: black;\" title=\"sam ADJ (Animacy=Inan Case=Ins Degree=Pos Gender=Masc Number=Sing)\">samym</span> <span style=\"color: black;\" title=\"koniec NOUN (Animacy=Inan Case=Ins Gender=Masc Number=Sing)\">końcem</span> <span style=\"color: green;\" title=\"pogrzebu NOUN (Animacy=Inan Case=Gen Gender=Masc Number=Sing)\">pogrzebu</span> <span style=\"color: blue;\" title=\"Alicja PROPN (Case=Nom Gender=Fem Number=Sing)\">Alicja</span> <span style=\"color: black;\" title=\"krzyknąć VERB (Aspect=Perf Gender=Fem Mood=Ind Number=Sing Tense=Past VerbForm=Fin Voice=Act)\">krzyknęła</span> <span style=\"color: black;\" title=\", PUNCT (PunctType=Comm)\">,</span> <span style=\"color: black;\" title=\"Czekajcie VERB (Aspect=Imp Mood=Ind Number=Plur Person=2 Tense=Pres VerbForm=Fin Voice=Act)\">Czekajcie</span> <span style=\"color: black;\" title=\"! PUNCT (PunctType=Excl)\">!</span> <span style=\"color: blue;\" title=\"on PRON (Case=Nom Gender=Fem Number=Sing Person=3 PrepCase=Npr PronType=Prs Variant=Long)\">Ona</span> <span style=\"color: black;\" title=\"włożyć VERB (Aspect=Perf Gender=Fem Mood=Ind Number=Sing Tense=Past VerbForm=Fin Voice=Act)\">włożyła</span> <span style=\"color: purple;\" title=\"mały ADJ (Case=Acc Degree=Pos Gender=Neut Number=Sing)\">małe</span> <span style=\"color: purple;\" title=\"pudełko NOUN (Case=Acc Gender=Neut Number=Sing)\">pudełko</span> <span style=\"color: black;\" title=\"do ADP (AdpType=Prep)\">do</span> <span style=\"color: green;\" title=\"trumna NOUN (Case=Gen Gender=Fem Number=Sing)\">trumny</span> <span style=\"color: black;\" title=\". PUNCT (PunctType=Peri)\">.</span> <span style=\"color: blue;\" title=\"trumna NOUN (Case=Nom Gender=Fem Number=Sing)\">Trumna</span> <span style=\"color: black;\" title=\"zostać AUX (Aspect=Perf Gender=Fem Mood=Ind Number=Sing Tense=Past VerbForm=Fin Voice=Act)\">została</span> <span style=\"color: blue;\" title=\"zamknąć ADJ (Aspect=Perf Case=Nom Gender=Fem Number=Sing Polarity=Pos VerbForm=Part Voice=Pass)\">zamknięta</span> <span style=\"color: black;\" title=\". PUNCT (PunctType=Peri)\">.</span> <span style=\"color: black;\" title=\"chyba PART ()\">Chyba</span> <span style=\"color: black;\" title=\"nie PART (Polarity=Neg)\">nie</span> <span style=\"color: black;\" title=\"być AUX (Aspect=Imp Mood=Ind Number=Sing Person=2 Tense=Pres VerbForm=Fin Voice=Act)\">jesteś</span> <span style=\"color: blue;\" title=\"szalony ADJ (Case=Nom Degree=Pos Gender=Fem Number=Sing)\">szalona</span> <span style=\"color: black;\" title=\"? PUNCT (PunctType=Qest)\">?</span> <span style=\"color: black;\" title=\"czy PART (PartType=Int)\">Czy</span> <span style=\"color: black;\" title=\"włożyć być VERB (Aspect=Imp,Perf Clitic=Yes Gender=Fem Mood=Ind Number=Sing Person=2 Tense=Past Variant=Short VerbForm=Fin Voice=Act)\">włożyłaś</span> <span style=\"color: purple;\" title=\"pieniądz NOUN (Animacy=Inan Case=Acc Gender=Masc Number=Plur)\">pieniądze</span> <span style=\"color: black;\" title=\"do ADP (AdpType=Prep)\">do</span> <span style=\"color: green;\" title=\"trumna NOUN (Case=Gen Gender=Fem Number=Sing)\">trumny</span> <span style=\"color: black;\" title=\"? PUNCT (PunctType=Qest)\">?</span> <span style=\"color: black;\" title=\"spytać VERB (Aspect=Perf Gender=Fem Mood=Ind Number=Sing Tense=Past VerbForm=Fin Voice=Act)\">spytała</span> <span style=\"color: blue;\" title=\"Alicja PROPN (Case=Nom Gender=Fem Number=Sing)\">Alicja</span> <span style=\"color: green;\" title=\"on PRON (Case=Gen Gender=Fem Number=Sing Person=3 PrepCase=Npr PronType=Prs Variant=Long)\">jej</span> <span style=\"color: blue;\" title=\"koleżanka NOUN (Case=Nom Gender=Fem Number=Sing)\">koleżanka</span> <span style=\"color: black;\" title=\". PUNCT (PunctType=Peri)\">.</span> <span style=\"color: black;\" title=\"tak PART ()\">Tak</span> <span style=\"color: black;\" title=\", PUNCT (PunctType=Comm)\">,</span> <span style=\"color: black;\" title=\"włożyć być VERB (Aspect=Imp,Perf Clitic=Yes Gender=Fem Mood=Ind Number=Sing Person=1 Tense=Past Variant=Short VerbForm=Fin Voice=Act)\">włożyłam</span> <span style=\"color: black;\" title=\". PUNCT (PunctType=Peri)\">.</span> <span style=\"color: black;\" title=\"przecież PART ()\">Przecież</span> <span style=\"color: black;\" title=\"obiecać być VERB (Aspect=Imp,Perf Clitic=Yes Gender=Fem Mood=Ind Number=Sing Person=1 Tense=Past Variant=Short VerbForm=Fin Voice=Act)\">obiecałam</span> <span style=\"color: purple;\" title=\"to PRON (Case=Acc Gender=Neut Number=Sing PronType=Dem)\">to</span> <span style=\"color: red;\" title=\"Stanisław PROPN (Animacy=Hum Case=Dat Gender=Masc Number=Sing)\">Stanisławowi</span> <span style=\"color: black;\" title=\", PUNCT (PunctType=Comm)\">,</span> <span style=\"color: black;\" title=\"powiedzieć VERB (Aspect=Perf Gender=Fem Mood=Ind Number=Sing Tense=Past VerbForm=Fin Voice=Act)\">powiedziała</span> <span style=\"color: blue;\" title=\"Alicja PROPN (Case=Nom Gender=Fem Number=Sing)\">Alicja</span> <span style=\"color: black;\" title=\". PUNCT (PunctType=Peri)\">.</span> <span style=\"color: black;\" title=\"Włożyłaś VERB (Aspect=Imp Clitic=Yes Gender=Fem Mood=Ind Number=Sing Person=2 Tense=Past Variant=Short VerbForm=Fin Voice=Act)\">Włożyłaś</span> <span style=\"color: purple;\" title=\"wszystek DET (Animacy=Inan Case=Acc Gender=Masc Number=Plur PronType=Tot)\">wszystkie</span> <span style=\"color: purple;\" title=\"pieniądz NOUN (Animacy=Inan Case=Acc Gender=Masc Number=Plur)\">pieniądze</span> <span style=\"color: black;\" title=\"do ADP (AdpType=Prep)\">do</span> <span style=\"color: green;\" title=\"trumna NOUN (Case=Gen Gender=Fem Number=Sing)\">trumny</span> <span style=\"color: black;\" title=\"? PUNCT (PunctType=Qest)\">?</span> <span style=\"color: black;\" title=\"nie PART (Polarity=Neg)\">Nie</span> <span style=\"color: black;\" title=\"móc VERB (Aspect=Imp Gender=Fem Mood=Ind Number=Sing Tense=Past VerbForm=Fin Voice=Act)\">mogła</span> <span style=\"color: black;\" title=\"uwierzyć VERB (Aspect=Perf VerbForm=Inf Voice=Act)\">uwierzyć</span> <span style=\"color: green;\" title=\"on PRON (Case=Gen Gender=Fem Number=Sing Person=3 PrepCase=Npr PronType=Prs Variant=Long)\">jej</span> <span style=\"color: blue;\" title=\"koleżanka NOUN (Case=Nom Gender=Fem Number=Sing)\">koleżanka</span> <span style=\"color: black;\" title=\". PUNCT (PunctType=Peri)\">.</span> <span style=\"color: black;\" title=\"oczywiście ADV (Degree=Pos)\">Oczywiście</span> <span style=\"color: black;\" title=\", PUNCT (PunctType=Comm)\">,</span> <span style=\"color: black;\" title=\"że SCONJ ()\">że</span> <span style=\"color: purple;\" title=\"to PRON (Case=Acc Gender=Neut Number=Sing PronType=Dem)\">to</span> <span style=\"color: black;\" title=\"zrobić być VERB (Aspect=Imp,Perf Clitic=Yes Gender=Fem Mood=Ind Number=Sing Person=1 Tense=Past Variant=Short VerbForm=Fin Voice=Act)\">zrobiłam</span> <span style=\"color: black;\" title=\", PUNCT (PunctType=Comm)\">,</span> <span style=\"color: black;\" title=\"powiedzieć VERB (Aspect=Perf Gender=Fem Mood=Ind Number=Sing Tense=Past VerbForm=Fin Voice=Act)\">powiedziała</span> <span style=\"color: blue;\" title=\"Alicja PROPN (Case=Nom Gender=Fem Number=Sing)\">Alicja</span> <span style=\"color: black;\" title=\". PUNCT (PunctType=Peri)\">.</span> <span style=\"color: black;\" title=\"Przelałam VERB (Aspect=Imp,Perf Clitic=Yes Gender=Fem Mood=Ind Number=Sing Person=1 Tense=Past Variant=Short VerbForm=Fin Voice=Act)\">Przelałam</span> <span style=\"color: purple;\" title=\"pieniądz NOUN (Animacy=Inan Case=Acc Gender=Masc Number=Plur)\">pieniądze</span> <span style=\"color: black;\" title=\"na ADP (AdpType=Prep)\">na</span> <span style=\"color: purple;\" title=\"mój DET (Case=Acc Gender=Neut Number=Sing Number[psor]=Sing Person=1 Poss=Yes PronType=Prs)\">moje</span> <span style=\"color: purple;\" title=\"konto NOUN (Case=Acc Gender=Neut Number=Sing)\">konto</span> <span style=\"color: black;\" title=\"i CCONJ ()\">i</span> <span style=\"color: black;\" title=\"wypisać być VERB (Aspect=Imp,Perf Clitic=Yes Gender=Fem Mood=Ind Number=Sing Person=1 Tense=Past Variant=Short VerbForm=Fin Voice=Act)\">wypisałam</span> <span style=\"color: red;\" title=\"Stanisław PROPN (Animacy=Hum Case=Dat Gender=Masc Number=Sing)\">Stanisławowi</span> <span style=\"color: purple;\" title=\"czek NOUN (Animacy=Inan Case=Acc Gender=Masc Number=Sing)\">czek</span> <span style=\"color: black;\" title=\". PUNCT (PunctType=Peri)\">.</span> "
            ]
          },
          "metadata": {}
        }
      ]
    }
  ]
}